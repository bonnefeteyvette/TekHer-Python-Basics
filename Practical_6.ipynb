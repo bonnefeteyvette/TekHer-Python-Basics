{
 "cells": [
  {
   "cell_type": "markdown",
   "id": "bd6f6199",
   "metadata": {},
   "source": [
    "# Practical_6: Numpy"
   ]
  },
  {
   "cell_type": "markdown",
   "id": "de325ed6",
   "metadata": {},
   "source": [
    "---\n",
    "\n",
    "### Exercise 1:\n",
    "Create a NumPy array of integers from 1 to 10.\n"
   ]
  },
  {
   "cell_type": "code",
   "execution_count": 1,
   "id": "9b904697",
   "metadata": {},
   "outputs": [
    {
     "name": "stdout",
     "output_type": "stream",
     "text": [
      "[ 1  2  3  4  5  6  7  8  9 10]\n"
     ]
    }
   ],
   "source": [
    "# Exercise 1\n",
    "import numpy as np\n",
    "array = np.arange(1, 11)\n",
    "print(array)\n"
   ]
  },
  {
   "cell_type": "markdown",
   "id": "745710c7",
   "metadata": {},
   "source": [
    "\n",
    "---\n",
    "\n",
    "### Exercise 2:\n",
    "Create a 3x3 NumPy array filled with zeros.\n"
   ]
  },
  {
   "cell_type": "code",
   "execution_count": 3,
   "id": "875235f1",
   "metadata": {},
   "outputs": [
    {
     "name": "stdout",
     "output_type": "stream",
     "text": [
      "[[0 0 0]\n",
      " [0 0 0]\n",
      " [0 0 0]]\n"
     ]
    }
   ],
   "source": [
    "# Exercise 2\n",
    "import numpy as np\n",
    "zeros_array = np.zeros((3, 3), dtype=int)\n",
    "print(zeros_array)\n"
   ]
  },
  {
   "cell_type": "markdown",
   "id": "a542ea80",
   "metadata": {},
   "source": [
    "\n",
    "---\n",
    "\n",
    "### Exercise 3:\n",
    "Create a NumPy array of 10 evenly spaced numbers between 0 and 5.\n"
   ]
  },
  {
   "cell_type": "code",
   "execution_count": 4,
   "id": "97c6ba4a",
   "metadata": {},
   "outputs": [
    {
     "name": "stdout",
     "output_type": "stream",
     "text": [
      "[0.         0.55555556 1.11111111 1.66666667 2.22222222 2.77777778\n",
      " 3.33333333 3.88888889 4.44444444 5.        ]\n"
     ]
    }
   ],
   "source": [
    "# Exercise 3\n",
    "import numpy as np\n",
    "\n",
    "evenly_spaced = np.linspace(0, 5, 10)\n",
    "print(evenly_spaced)\n"
   ]
  },
  {
   "cell_type": "markdown",
   "id": "e92d80cc",
   "metadata": {},
   "source": [
    "\n",
    "---\n",
    "\n",
    "### Exercise 4:\n",
    "Create a 5x5 identity matrix using NumPy.\n"
   ]
  },
  {
   "cell_type": "code",
   "execution_count": 5,
   "id": "c5213bd2",
   "metadata": {},
   "outputs": [
    {
     "name": "stdout",
     "output_type": "stream",
     "text": [
      "[[1 0 0 0 0]\n",
      " [0 1 0 0 0]\n",
      " [0 0 1 0 0]\n",
      " [0 0 0 1 0]\n",
      " [0 0 0 0 1]]\n"
     ]
    }
   ],
   "source": [
    "# Exercise 4\n",
    "import numpy as np\n",
    "\n",
    "identity_matrix = np.identity(5, dtype=int)\n",
    "print(identity_matrix)\n"
   ]
  },
  {
   "cell_type": "markdown",
   "id": "a16f88e7",
   "metadata": {},
   "source": [
    "\n",
    "---\n",
    "\n",
    "### Exercise 5:\n",
    "Create a 4x4 matrix with random values between 0 and 1.\n"
   ]
  },
  {
   "cell_type": "code",
   "execution_count": 6,
   "id": "2b16922b",
   "metadata": {},
   "outputs": [
    {
     "name": "stdout",
     "output_type": "stream",
     "text": [
      "[[0.02192545 0.67853457 0.22284696 0.54604753]\n",
      " [0.02471463 0.58813023 0.21111944 0.34372048]\n",
      " [0.06690899 0.19199056 0.02276793 0.21050036]\n",
      " [0.90557687 0.4069771  0.84218644 0.19281677]]\n"
     ]
    }
   ],
   "source": [
    "# Exercise 5\n",
    "import numpy as np\n",
    "\n",
    "random_matrix = np.random.rand(4, 4)\n",
    "print(random_matrix)\n"
   ]
  },
  {
   "cell_type": "markdown",
   "id": "cc9af8fd",
   "metadata": {},
   "source": [
    "\n",
    "---\n",
    "\n",
    "### Exercise 6:\n",
    "Find the shape of a NumPy array.\n"
   ]
  },
  {
   "cell_type": "code",
   "execution_count": 7,
   "id": "359864d2",
   "metadata": {},
   "outputs": [
    {
     "name": "stdout",
     "output_type": "stream",
     "text": [
      "(2, 3)\n"
     ]
    }
   ],
   "source": [
    "# Exercise 6\n",
    "import numpy as np\n",
    "\n",
    "array = np.array([[1, 2, 3], [4, 5, 6]])\n",
    "print(array.shape)\n"
   ]
  },
  {
   "cell_type": "markdown",
   "id": "ada0aff6",
   "metadata": {},
   "source": [
    "\n",
    "---\n",
    "\n",
    "### Exercise 7:\n",
    "Reshape a 1D NumPy array of 16 elements into a 4x4 matrix.\n"
   ]
  },
  {
   "cell_type": "code",
   "execution_count": 8,
   "id": "43fcb4b3",
   "metadata": {},
   "outputs": [
    {
     "name": "stdout",
     "output_type": "stream",
     "text": [
      "[[ 0  1  2  3]\n",
      " [ 4  5  6  7]\n",
      " [ 8  9 10 11]\n",
      " [12 13 14 15]]\n"
     ]
    }
   ],
   "source": [
    "# Exercise 7\n",
    "import numpy as np\n",
    "\n",
    "array_1d = np.arange(16)  \n",
    "array_2d = array_1d.reshape(4, 4)\n",
    "print(array_2d)\n"
   ]
  },
  {
   "cell_type": "markdown",
   "id": "d384142a",
   "metadata": {},
   "source": [
    "\n",
    "---\n",
    "\n",
    "### Exercise 8:\n",
    "Find the data type of the elements in a NumPy array.\n"
   ]
  },
  {
   "cell_type": "code",
   "execution_count": 9,
   "id": "bf4dca5a",
   "metadata": {},
   "outputs": [
    {
     "name": "stdout",
     "output_type": "stream",
     "text": [
      "int32\n"
     ]
    }
   ],
   "source": [
    "# Exercise 8\n",
    "import numpy as np\n",
    "\n",
    "array = np.array([1, 2, 3])\n",
    "print(array.dtype)\n"
   ]
  },
  {
   "cell_type": "markdown",
   "id": "c295ca54",
   "metadata": {},
   "source": [
    "\n",
    "---\n",
    "\n",
    "### Exercise 9:\n",
    "Create a NumPy array of integers from 1 to 100 and find all even numbers in the array.\n"
   ]
  },
  {
   "cell_type": "code",
   "execution_count": 11,
   "id": "28a61c5e",
   "metadata": {},
   "outputs": [
    {
     "name": "stdout",
     "output_type": "stream",
     "text": [
      "[  2   4   6   8  10  12  14  16  18  20  22  24  26  28  30  32  34  36\n",
      "  38  40  42  44  46  48  50  52  54  56  58  60  62  64  66  68  70  72\n",
      "  74  76  78  80  82  84  86  88  90  92  94  96  98 100]\n"
     ]
    }
   ],
   "source": [
    "# Exercise 9\n",
    "import numpy as np\n",
    "array = np.arange(1, 101)\n",
    "even_numbers = array[array % 2 == 0]\n",
    "print(even_numbers)\n"
   ]
  },
  {
   "cell_type": "markdown",
   "id": "72103956",
   "metadata": {},
   "source": [
    "\n",
    "---\n",
    "\n",
    "### Exercise 10:\n",
    "Generate a 6x6 matrix of random integers between 10 and 50.\n"
   ]
  },
  {
   "cell_type": "code",
   "execution_count": 12,
   "id": "ce04300e",
   "metadata": {},
   "outputs": [
    {
     "name": "stdout",
     "output_type": "stream",
     "text": [
      "[[49 48 13 38 32 32]\n",
      " [15 39 30 23 43 42]\n",
      " [35 39 13 19 34 47]\n",
      " [36 39 17 49 16 34]\n",
      " [44 27 16 29 24 14]\n",
      " [24 22 44 10 27 29]]\n"
     ]
    }
   ],
   "source": [
    "# Exercise 10\n",
    "import numpy as np\n",
    "\n",
    "random_matrix = np.random.randint(10, 51, size=(6, 6))\n",
    "print(random_matrix)\n"
   ]
  },
  {
   "cell_type": "markdown",
   "id": "3dd1a085",
   "metadata": {},
   "source": [
    "\n",
    "---\n",
    "\n",
    "### Exercise 11:\n",
    "Slice a 2D NumPy array to extract a submatrix.\n"
   ]
  },
  {
   "cell_type": "code",
   "execution_count": 13,
   "id": "b8fc90ba",
   "metadata": {},
   "outputs": [
    {
     "name": "stdout",
     "output_type": "stream",
     "text": [
      "[[ 1  2  3]\n",
      " [ 6  7  8]\n",
      " [11 12 13]]\n"
     ]
    }
   ],
   "source": [
    "# Exercise 11\n",
    "import numpy as np\n",
    "\n",
    "matrix = np.array([\n",
    "    [1,  2,  3,  4,  5],\n",
    "    [6,  7,  8,  9, 10],\n",
    "    [11, 12, 13, 14, 15],\n",
    "    [16, 17, 18, 19, 20],\n",
    "    [21, 22, 23, 24, 25]\n",
    "])\n",
    "\n",
    "submatrix = matrix[0:3, 0:3]\n",
    "print(submatrix)\n"
   ]
  },
  {
   "cell_type": "markdown",
   "id": "73a4344c",
   "metadata": {},
   "source": [
    "\n",
    "---\n",
    "\n",
    "### Exercise 12:\n",
    "Calculate the sum of all elements in a NumPy array.\n"
   ]
  },
  {
   "cell_type": "code",
   "execution_count": 14,
   "id": "3c417ff3",
   "metadata": {},
   "outputs": [
    {
     "name": "stdout",
     "output_type": "stream",
     "text": [
      "21\n"
     ]
    }
   ],
   "source": [
    "# Exercise 12\n",
    "import numpy as np\n",
    "\n",
    "array = np.array([[1, 2, 3], [4, 5, 6]])\n",
    "total_sum = array.sum()\n",
    "print(total_sum)\n"
   ]
  },
  {
   "cell_type": "markdown",
   "id": "c2346362",
   "metadata": {},
   "source": [
    "\n",
    "---\n",
    "\n",
    "### Exercise 13:\n",
    "Calculate the mean, median, and standard deviation of a NumPy array.\n"
   ]
  },
  {
   "cell_type": "code",
   "execution_count": 15,
   "id": "95e57182",
   "metadata": {},
   "outputs": [
    {
     "name": "stdout",
     "output_type": "stream",
     "text": [
      "Mean: 3.5\n",
      "Median: 3.5\n",
      "Standard Deviation: 1.707825127659933\n"
     ]
    }
   ],
   "source": [
    "# Exercise 13\n",
    "import numpy as np\n",
    "\n",
    "array = np.array([1, 2, 3, 4, 5, 6])\n",
    "\n",
    "mean = np.mean(array)\n",
    "median = np.median(array)\n",
    "std_dev = np.std(array)\n",
    "\n",
    "print(\"Mean:\", mean)\n",
    "print(\"Median:\", median)\n",
    "print(\"Standard Deviation:\", std_dev)\n"
   ]
  },
  {
   "cell_type": "markdown",
   "id": "67a4fdbd",
   "metadata": {},
   "source": [
    "\n",
    "---\n",
    "\n",
    "### Exercise 14:\n",
    "Find the maximum and minimum values in a NumPy array.\n"
   ]
  },
  {
   "cell_type": "code",
   "execution_count": 16,
   "id": "7959c765",
   "metadata": {},
   "outputs": [
    {
     "name": "stdout",
     "output_type": "stream",
     "text": [
      "Maximum value: 9\n",
      "Minimum value: 1\n"
     ]
    }
   ],
   "source": [
    "# Exercise 14\n",
    "import numpy as np\n",
    "\n",
    "array = np.array([4, 7, 1, 9, 3, 6])\n",
    "\n",
    "maximum = np.max(array)\n",
    "minimum = np.min(array)\n",
    "\n",
    "print(\"Maximum value:\", maximum)\n",
    "print(\"Minimum value:\", minimum)\n"
   ]
  },
  {
   "cell_type": "markdown",
   "id": "8a705cd1",
   "metadata": {},
   "source": [
    "\n",
    "---\n",
    "\n",
    "### Exercise 15:\n",
    "Create a NumPy array of 20 random integers and find the index of the maximum value.\n"
   ]
  },
  {
   "cell_type": "code",
   "execution_count": 17,
   "id": "c6748d73",
   "metadata": {},
   "outputs": [
    {
     "name": "stdout",
     "output_type": "stream",
     "text": [
      "Array: [  1  62  84   5   4  40  17  25  81  39  77  28  91 100  95  71 100  96\n",
      "  77   5]\n",
      "Maximum value: 100\n",
      "Index of maximum value: 13\n"
     ]
    }
   ],
   "source": [
    "# Exercise 15\n",
    "import numpy as np\n",
    "array = np.random.randint(1, 101, size=20)\n",
    "max_index = np.argmax(array)\n",
    "print(\"Array:\", array)\n",
    "print(\"Maximum value:\", array[max_index])\n",
    "print(\"Index of maximum value:\", max_index)\n"
   ]
  },
  {
   "cell_type": "markdown",
   "id": "467ca6ac",
   "metadata": {},
   "source": [
    "\n",
    "---\n",
    "\n",
    "### Exercise 16:\n",
    "Create a NumPy array and reverse its elements.\n"
   ]
  },
  {
   "cell_type": "code",
   "execution_count": 18,
   "id": "0a178eb6",
   "metadata": {},
   "outputs": [
    {
     "name": "stdout",
     "output_type": "stream",
     "text": [
      "Original: [1 2 3 4 5]\n",
      "Reversed: [5 4 3 2 1]\n"
     ]
    }
   ],
   "source": [
    "# Exercise 16\n",
    "import numpy as np\n",
    "\n",
    "array = np.array([1, 2, 3, 4, 5])\n",
    "reversed_array = array[::-1]\n",
    "\n",
    "print(\"Original:\", array)\n",
    "print(\"Reversed:\", reversed_array)\n"
   ]
  },
  {
   "cell_type": "markdown",
   "id": "b7d8ec92",
   "metadata": {},
   "source": [
    "\n",
    "---\n",
    "\n",
    "### Exercise 17:\n",
    "Create a 3x3 matrix and multiply it element-wise by another 3x3 matrix.\n"
   ]
  },
  {
   "cell_type": "code",
   "execution_count": 19,
   "id": "847ddc05",
   "metadata": {},
   "outputs": [
    {
     "name": "stdout",
     "output_type": "stream",
     "text": [
      "Matrix 1:\n",
      " [[1 2 3]\n",
      " [4 5 6]\n",
      " [7 8 9]]\n",
      "Matrix 2:\n",
      " [[9 8 7]\n",
      " [6 5 4]\n",
      " [3 2 1]]\n",
      "Element-wise multiplication:\n",
      " [[ 9 16 21]\n",
      " [24 25 24]\n",
      " [21 16  9]]\n"
     ]
    }
   ],
   "source": [
    "# Exercise 17\n",
    "import numpy as np\n",
    "\n",
    "matrix1 = np.array([[1, 2, 3],\n",
    "                    [4, 5, 6],\n",
    "                    [7, 8, 9]])\n",
    "\n",
    "matrix2 = np.array([[9, 8, 7],\n",
    "                    [6, 5, 4],\n",
    "                    [3, 2, 1]])\n",
    "\n",
    "result = matrix1 * matrix2\n",
    "\n",
    "print(\"Matrix 1:\\n\", matrix1)\n",
    "print(\"Matrix 2:\\n\", matrix2)\n",
    "print(\"Element-wise multiplication:\\n\", result)\n"
   ]
  },
  {
   "cell_type": "markdown",
   "id": "58512446",
   "metadata": {},
   "source": [
    "\n",
    "---\n",
    "\n",
    "### Exercise 18:\n",
    "Create a diagonal matrix from a given 1D array.\n"
   ]
  },
  {
   "cell_type": "code",
   "execution_count": 20,
   "id": "bd7e9321",
   "metadata": {},
   "outputs": [
    {
     "name": "stdout",
     "output_type": "stream",
     "text": [
      "1D Array: [10 20 30 40]\n",
      "Diagonal Matrix:\n",
      " [[10  0  0  0]\n",
      " [ 0 20  0  0]\n",
      " [ 0  0 30  0]\n",
      " [ 0  0  0 40]]\n"
     ]
    }
   ],
   "source": [
    "# Exercise 18\n",
    "import numpy as np\n",
    "\n",
    "array = np.array([10, 20, 30, 40])\n",
    "\n",
    "diagonal_matrix = np.diag(array)\n",
    "\n",
    "print(\"1D Array:\", array)\n",
    "print(\"Diagonal Matrix:\\n\", diagonal_matrix)\n"
   ]
  },
  {
   "cell_type": "markdown",
   "id": "10be19e0",
   "metadata": {},
   "source": [
    "\n",
    "---\n",
    "\n",
    "### Exercise 19:\n",
    "Perform matrix multiplication on two 2D NumPy arrays.\n"
   ]
  },
  {
   "cell_type": "code",
   "execution_count": 21,
   "id": "c287973c",
   "metadata": {},
   "outputs": [
    {
     "name": "stdout",
     "output_type": "stream",
     "text": [
      "Matrix A:\n",
      " [[1 2]\n",
      " [3 4]]\n",
      "Matrix B:\n",
      " [[5 6]\n",
      " [7 8]]\n",
      "Matrix multiplication result:\n",
      " [[19 22]\n",
      " [43 50]]\n"
     ]
    }
   ],
   "source": [
    "# Exercise 19\n",
    "import numpy as np\n",
    "\n",
    "A = np.array([[1, 2],\n",
    "              [3, 4]])\n",
    "\n",
    "B = np.array([[5, 6],\n",
    "              [7, 8]])\n",
    "\n",
    "\n",
    "result = A @ B\n",
    "\n",
    "print(\"Matrix A:\\n\", A)\n",
    "print(\"Matrix B:\\n\", B)\n",
    "print(\"Matrix multiplication result:\\n\", result)\n"
   ]
  },
  {
   "cell_type": "markdown",
   "id": "932aa100",
   "metadata": {},
   "source": [
    "\n",
    "---\n",
    "\n",
    "### Exercise 20:\n",
    "Flatten a 2D NumPy array into a 1D array.\n"
   ]
  },
  {
   "cell_type": "code",
   "execution_count": 22,
   "id": "0b2a7505",
   "metadata": {},
   "outputs": [
    {
     "name": "stdout",
     "output_type": "stream",
     "text": [
      "Original 2D array:\n",
      " [[1 2 3]\n",
      " [4 5 6]]\n",
      "Flattened 1D array: [1 2 3 4 5 6]\n"
     ]
    }
   ],
   "source": [
    "# Exercise 20\n",
    "import numpy as np\n",
    "\n",
    "array_2d = np.array([[1, 2, 3],\n",
    "                     [4, 5, 6]])\n",
    "flat_array = array_2d.flatten()\n",
    "print(\"Original 2D array:\\n\", array_2d)\n",
    "print(\"Flattened 1D array:\", flat_array)\n"
   ]
  },
  {
   "cell_type": "markdown",
   "id": "43e4204e",
   "metadata": {},
   "source": [
    "\n",
    "---\n",
    "\n",
    "### Exercise 21:\n",
    "Stack two NumPy arrays vertically.\n"
   ]
  },
  {
   "cell_type": "code",
   "execution_count": 23,
   "id": "2fab6ed6",
   "metadata": {},
   "outputs": [
    {
     "name": "stdout",
     "output_type": "stream",
     "text": [
      "Array 1:\n",
      " [[1 2 3]\n",
      " [4 5 6]]\n",
      "Array 2:\n",
      " [[ 7  8  9]\n",
      " [10 11 12]]\n",
      "Vertically stacked arrays:\n",
      " [[ 1  2  3]\n",
      " [ 4  5  6]\n",
      " [ 7  8  9]\n",
      " [10 11 12]]\n"
     ]
    }
   ],
   "source": [
    "# Exercise 21\n",
    "import numpy as np\n",
    "\n",
    "array1 = np.array([[1, 2, 3],\n",
    "                   [4, 5, 6]])\n",
    "\n",
    "array2 = np.array([[7, 8, 9],\n",
    "                   [10, 11, 12]])\n",
    "vertical_stack = np.vstack((array1, array2))\n",
    "print(\"Array 1:\\n\", array1)\n",
    "print(\"Array 2:\\n\", array2)\n",
    "print(\"Vertically stacked arrays:\\n\", vertical_stack)\n"
   ]
  },
  {
   "cell_type": "markdown",
   "id": "54a62aed",
   "metadata": {},
   "source": [
    "\n",
    "---\n",
    "\n",
    "### Exercise 22:\n",
    "Stack two NumPy arrays horizontally.\n"
   ]
  },
  {
   "cell_type": "code",
   "execution_count": 24,
   "id": "38c62fcb",
   "metadata": {},
   "outputs": [
    {
     "name": "stdout",
     "output_type": "stream",
     "text": [
      "Array 1:\n",
      " [[1 2 3]\n",
      " [4 5 6]]\n",
      "Array 2:\n",
      " [[ 7  8  9]\n",
      " [10 11 12]]\n",
      "Horizontally stacked arrays:\n",
      " [[ 1  2  3  7  8  9]\n",
      " [ 4  5  6 10 11 12]]\n"
     ]
    }
   ],
   "source": [
    "# Exercise 22\n",
    "import numpy as np\n",
    "\n",
    "array1 = np.array([[1, 2, 3],\n",
    "                   [4, 5, 6]])\n",
    "\n",
    "array2 = np.array([[7, 8, 9],\n",
    "                   [10, 11, 12]])\n",
    "\n",
    "horizontal_stack = np.hstack((array1, array2))\n",
    "print(\"Array 1:\\n\", array1)\n",
    "print(\"Array 2:\\n\", array2)\n",
    "print(\"Horizontally stacked arrays:\\n\", horizontal_stack)\n"
   ]
  },
  {
   "cell_type": "markdown",
   "id": "348ee442",
   "metadata": {},
   "source": [
    "\n",
    "---\n",
    "\n",
    "### Exercise 23:\n",
    "Split a NumPy array into multiple sub-arrays.\n"
   ]
  },
  {
   "cell_type": "code",
   "execution_count": 25,
   "id": "bb591997",
   "metadata": {},
   "outputs": [
    {
     "name": "stdout",
     "output_type": "stream",
     "text": [
      "Sub-array 0: [1 2]\n",
      "Sub-array 1: [3 4]\n",
      "Sub-array 2: [5 6]\n"
     ]
    }
   ],
   "source": [
    "# Exercise 23\n",
    "import numpy as np\n",
    "\n",
    "array = np.array([1, 2, 3, 4, 5, 6])\n",
    "\n",
    "sub_arrays = np.split(array, 3)\n",
    "\n",
    "for i, sub in enumerate(sub_arrays):\n",
    "    print(f\"Sub-array {i}:\", sub)\n"
   ]
  },
  {
   "cell_type": "markdown",
   "id": "b1f38f5f",
   "metadata": {},
   "source": [
    "\n",
    "---\n",
    "\n",
    "### Exercise 24:\n",
    "Generate a random NumPy array and round each element to two decimal places.\n"
   ]
  },
  {
   "cell_type": "code",
   "execution_count": 26,
   "id": "9627a34c",
   "metadata": {},
   "outputs": [
    {
     "name": "stdout",
     "output_type": "stream",
     "text": [
      "Random array:\n",
      " [[0.88802495 0.66752964 0.01340281]\n",
      " [0.05303461 0.95385059 0.20406685]\n",
      " [0.30126413 0.31466834 0.41805267]]\n",
      "\n",
      "Rounded array:\n",
      " [[0.89 0.67 0.01]\n",
      " [0.05 0.95 0.2 ]\n",
      " [0.3  0.31 0.42]]\n"
     ]
    }
   ],
   "source": [
    "# Exercise 24\n",
    "import numpy as np\n",
    "\n",
    "random_array = np.random.rand(3, 3)\n",
    "\n",
    "rounded_array = np.round(random_array, 2)\n",
    "\n",
    "print(\"Random array:\\n\", random_array)\n",
    "print(\"\\nRounded array:\\n\", rounded_array)\n"
   ]
  },
  {
   "cell_type": "markdown",
   "id": "33eff49a",
   "metadata": {},
   "source": [
    "\n",
    "---\n",
    "\n",
    "### Exercise 25:\n",
    "Find the unique elements of a NumPy array.\n"
   ]
  },
  {
   "cell_type": "code",
   "execution_count": 27,
   "id": "820d6014",
   "metadata": {},
   "outputs": [
    {
     "name": "stdout",
     "output_type": "stream",
     "text": [
      "Original array: [1 2 2 3 4 4 5 1 6]\n",
      "Unique elements: [1 2 3 4 5 6]\n"
     ]
    }
   ],
   "source": [
    "# Exercise 25\n",
    "import numpy as np\n",
    "\n",
    "array = np.array([1, 2, 2, 3, 4, 4, 5, 1, 6])\n",
    "\n",
    "unique_elements = np.unique(array)\n",
    "\n",
    "print(\"Original array:\", array)\n",
    "print(\"Unique elements:\", unique_elements)\n"
   ]
  },
  {
   "cell_type": "markdown",
   "id": "a82dfd26",
   "metadata": {},
   "source": [
    "\n",
    "---\n",
    "\n",
    "### Exercise 26:\n",
    "Replace all elements in a NumPy array that are less than a specific value with that value.\n"
   ]
  },
  {
   "cell_type": "code",
   "execution_count": 28,
   "id": "9317d8ff",
   "metadata": {},
   "outputs": [
    {
     "name": "stdout",
     "output_type": "stream",
     "text": [
      "[4 5 4 7 4 8 4]\n"
     ]
    }
   ],
   "source": [
    "# Exercise 26\n",
    "import numpy as np\n",
    "\n",
    "array = np.array([1, 5, 3, 7, 2, 8, 4])\n",
    "threshold = 4\n",
    "array[array < threshold] = threshold\n",
    "\n",
    "print(array)\n"
   ]
  },
  {
   "cell_type": "markdown",
   "id": "0b211e1c",
   "metadata": {},
   "source": [
    "\n",
    "---\n",
    "\n",
    "### Exercise 27:\n",
    "Find the cumulative sum of the elements in a NumPy array.\n"
   ]
  },
  {
   "cell_type": "code",
   "execution_count": 29,
   "id": "d03b7264",
   "metadata": {},
   "outputs": [
    {
     "name": "stdout",
     "output_type": "stream",
     "text": [
      "Original array: [1 2 3 4 5]\n",
      "Cumulative sum: [ 1  3  6 10 15]\n"
     ]
    }
   ],
   "source": [
    "# Exercise 27\n",
    "import numpy as np\n",
    "\n",
    "array = np.array([1, 2, 3, 4, 5])\n",
    "\n",
    "cumulative_sum = np.cumsum(array)\n",
    "\n",
    "print(\"Original array:\", array)\n",
    "print(\"Cumulative sum:\", cumulative_sum)\n"
   ]
  },
  {
   "cell_type": "markdown",
   "id": "837642b7",
   "metadata": {},
   "source": [
    "\n",
    "---\n",
    "\n",
    "### Exercise 28:\n",
    "Create a NumPy array and find the number of non-zero elements in it.\n"
   ]
  },
  {
   "cell_type": "code",
   "execution_count": 30,
   "id": "fa2565c6",
   "metadata": {},
   "outputs": [
    {
     "name": "stdout",
     "output_type": "stream",
     "text": [
      "Array: [0 1 2 0 3 0 4]\n",
      "Number of non-zero elements: 4\n"
     ]
    }
   ],
   "source": [
    "# Exercise 28\n",
    "import numpy as np\n",
    "\n",
    "array = np.array([0, 1, 2, 0, 3, 0, 4])\n",
    "\n",
    "non_zero_count = np.count_nonzero(array)\n",
    "\n",
    "print(\"Array:\", array)\n",
    "print(\"Number of non-zero elements:\", non_zero_count)\n"
   ]
  },
  {
   "cell_type": "markdown",
   "id": "7d1f3704",
   "metadata": {},
   "source": [
    "\n",
    "---\n",
    "\n",
    "### Exercise 29:\n",
    "Create a NumPy array of random integers and sort it in ascending order.\n"
   ]
  },
  {
   "cell_type": "code",
   "execution_count": 31,
   "id": "dfa23a6e",
   "metadata": {},
   "outputs": [
    {
     "name": "stdout",
     "output_type": "stream",
     "text": [
      "Random array: [38 66 95  7 38 12 90 20 21  2]\n",
      "Sorted array: [ 2  7 12 20 21 38 38 66 90 95]\n"
     ]
    }
   ],
   "source": [
    "# Exercise 29\n",
    "import numpy as np\n",
    "random_array = np.random.randint(0, 100, size=10)\n",
    "\n",
    "sorted_array = np.sort(random_array)\n",
    "\n",
    "print(\"Random array:\", random_array)\n",
    "print(\"Sorted array:\", sorted_array)\n"
   ]
  },
  {
   "cell_type": "markdown",
   "id": "295b7ea8",
   "metadata": {},
   "source": [
    "\n",
    "---\n",
    "\n",
    "### Exercise 30:\n",
    "Find the row-wise and column-wise sum of a 3x3 matrix.\n"
   ]
  },
  {
   "cell_type": "code",
   "execution_count": 32,
   "id": "963df701",
   "metadata": {},
   "outputs": [
    {
     "name": "stdout",
     "output_type": "stream",
     "text": [
      "Matrix:\n",
      " [[1 2 3]\n",
      " [4 5 6]\n",
      " [7 8 9]]\n",
      "Row-wise sum: [ 6 15 24]\n",
      "Column-wise sum: [12 15 18]\n"
     ]
    }
   ],
   "source": [
    "# Exercise 30\n",
    "import numpy as np\n",
    "\n",
    "matrix = np.array([[1, 2, 3],\n",
    "                   [4, 5, 6],\n",
    "                   [7, 8, 9]])\n",
    "row_sum = matrix.sum(axis=1)\n",
    "column_sum = matrix.sum(axis=0)\n",
    "\n",
    "print(\"Matrix:\\n\", matrix)\n",
    "print(\"Row-wise sum:\", row_sum)\n",
    "print(\"Column-wise sum:\", column_sum)\n"
   ]
  },
  {
   "cell_type": "markdown",
   "id": "158756fa",
   "metadata": {},
   "source": [
    "\n",
    "---\n",
    "\n",
    "### Exercise 31:\n",
    "Generate a 2D NumPy array with random values and normalize it (scale the values between 0 and 1).\n"
   ]
  },
  {
   "cell_type": "code",
   "execution_count": 33,
   "id": "32ba8b29",
   "metadata": {},
   "outputs": [
    {
     "name": "stdout",
     "output_type": "stream",
     "text": [
      "Original array:\n",
      " [[61.90497918  9.68507829 73.96925908]\n",
      " [35.07947679 62.72545111 97.02443907]\n",
      " [58.45630351 42.86654412  2.05587666]]\n",
      "\n",
      "Normalized array:\n",
      " [[0.6301991  0.08033397 0.75723356]\n",
      " [0.34773192 0.63883851 1.        ]\n",
      " [0.59388523 0.42972818 0.        ]]\n"
     ]
    }
   ],
   "source": [
    "# Exercise 31\n",
    "import numpy as np\n",
    "array = np.random.rand(3, 3) * 100  # random values between 0 and 100\n",
    "normalized_array = (array - array.min()) / (array.max() - array.min())\n",
    "\n",
    "print(\"Original array:\\n\", array)\n",
    "print(\"\\nNormalized array:\\n\", normalized_array)\n"
   ]
  },
  {
   "cell_type": "markdown",
   "id": "d3eeceaa",
   "metadata": {},
   "source": [
    "\n",
    "---\n",
    "\n",
    "### Exercise 32:\n",
    "Create two NumPy arrays and find the dot product.\n"
   ]
  },
  {
   "cell_type": "code",
   "execution_count": 34,
   "id": "5722e16b",
   "metadata": {},
   "outputs": [
    {
     "name": "stdout",
     "output_type": "stream",
     "text": [
      "Array 1: [1 2 3]\n",
      "Array 2: [4 5 6]\n",
      "Dot product: 32\n"
     ]
    }
   ],
   "source": [
    "# Exercise 32\n",
    "import numpy as np\n",
    "array1 = np.array([1, 2, 3])\n",
    "array2 = np.array([4, 5, 6])\n",
    "\n",
    "dot_product = np.dot(array1, array2)\n",
    "\n",
    "print(\"Array 1:\", array1)\n",
    "print(\"Array 2:\", array2)\n",
    "print(\"Dot product:\", dot_product)\n"
   ]
  },
  {
   "cell_type": "markdown",
   "id": "5b0c848f",
   "metadata": {},
   "source": [
    "\n",
    "---\n",
    "\n",
    "### Exercise 33:\n",
    "Find the trace of a square NumPy matrix.\n"
   ]
  },
  {
   "cell_type": "code",
   "execution_count": 35,
   "id": "6d6e90c2",
   "metadata": {},
   "outputs": [
    {
     "name": "stdout",
     "output_type": "stream",
     "text": [
      "Matrix:\n",
      " [[1 2 3]\n",
      " [4 5 6]\n",
      " [7 8 9]]\n",
      "Trace of the matrix: 15\n"
     ]
    }
   ],
   "source": [
    "# Exercise 33\n",
    "import numpy as np\n",
    "\n",
    "matrix = np.array([[1, 2, 3],\n",
    "                   [4, 5, 6],\n",
    "                   [7, 8, 9]])\n",
    "\n",
    "trace_value = np.trace(matrix)\n",
    "\n",
    "print(\"Matrix:\\n\", matrix)\n",
    "print(\"Trace of the matrix:\", trace_value)\n"
   ]
  },
  {
   "cell_type": "markdown",
   "id": "74f1f77e",
   "metadata": {},
   "source": [
    "\n",
    "---\n",
    "\n",
    "### Exercise 34:\n",
    "Create a 2D array and swap two rows.\n"
   ]
  },
  {
   "cell_type": "code",
   "execution_count": 36,
   "id": "24621129",
   "metadata": {},
   "outputs": [
    {
     "name": "stdout",
     "output_type": "stream",
     "text": [
      "Original array:\n",
      " [[1 2 3]\n",
      " [4 5 6]\n",
      " [7 8 9]]\n",
      "\n",
      "Array after swapping rows 0 and 2:\n",
      " [[7 8 9]\n",
      " [4 5 6]\n",
      " [1 2 3]]\n"
     ]
    }
   ],
   "source": [
    "# Exercise 34\n",
    "import numpy as np\n",
    "\n",
    "array = np.array([[1, 2, 3],\n",
    "                  [4, 5, 6],\n",
    "                  [7, 8, 9]])\n",
    "\n",
    "print(\"Original array:\\n\", array)\n",
    "\n",
    "array[[0, 2]] = array[[2, 0]]\n",
    "\n",
    "print(\"\\nArray after swapping rows 0 and 2:\\n\", array)\n"
   ]
  },
  {
   "cell_type": "markdown",
   "id": "7875d348",
   "metadata": {},
   "source": [
    "\n",
    "---\n",
    "\n",
    "### Exercise 35:\n",
    "Create a 1D NumPy array and convert it into a column vector.\n"
   ]
  },
  {
   "cell_type": "code",
   "execution_count": 37,
   "id": "0039acda",
   "metadata": {},
   "outputs": [
    {
     "name": "stdout",
     "output_type": "stream",
     "text": [
      "1D array: [1 2 3 4 5]\n",
      "Column vector:\n",
      " [[1]\n",
      " [2]\n",
      " [3]\n",
      " [4]\n",
      " [5]]\n"
     ]
    }
   ],
   "source": [
    "# Exercise 35\n",
    "import numpy as np\n",
    "array_1d = np.array([1, 2, 3, 4, 5])\n",
    "column_vector = array_1d.reshape(-1, 1)\n",
    "\n",
    "print(\"1D array:\", array_1d)\n",
    "print(\"Column vector:\\n\", column_vector)\n"
   ]
  },
  {
   "cell_type": "markdown",
   "id": "234e605c",
   "metadata": {},
   "source": [
    "\n",
    "---\n",
    "\n",
    "### Exercise 36:\n",
    "Find the determinant of a 3x3 matrix.\n"
   ]
  },
  {
   "cell_type": "code",
   "execution_count": 38,
   "id": "9798d9c7",
   "metadata": {},
   "outputs": [
    {
     "name": "stdout",
     "output_type": "stream",
     "text": [
      "Matrix:\n",
      " [[1 2 3]\n",
      " [0 1 4]\n",
      " [5 6 0]]\n",
      "Determinant: 0.9999999999999987\n"
     ]
    }
   ],
   "source": [
    "# Exercise 36\n",
    "import numpy as np\n",
    "\n",
    "matrix = np.array([[1, 2, 3],\n",
    "                   [0, 1, 4],\n",
    "                   [5, 6, 0]])\n",
    "\n",
    "determinant = np.linalg.det(matrix)\n",
    "\n",
    "print(\"Matrix:\\n\", matrix)\n",
    "print(\"Determinant:\", determinant)\n"
   ]
  },
  {
   "cell_type": "markdown",
   "id": "6656af00",
   "metadata": {},
   "source": [
    "\n",
    "---\n",
    "\n",
    "### Exercise 37:\n",
    "Find the eigenvalues and eigenvectors of a 2x2 matrix.\n"
   ]
  },
  {
   "cell_type": "code",
   "execution_count": 39,
   "id": "89d64421",
   "metadata": {},
   "outputs": [
    {
     "name": "stdout",
     "output_type": "stream",
     "text": [
      "Matrix:\n",
      " [[4 2]\n",
      " [1 3]]\n",
      "\n",
      "Eigenvalues: [5. 2.]\n",
      "\n",
      "Eigenvectors:\n",
      " [[ 0.89442719 -0.70710678]\n",
      " [ 0.4472136   0.70710678]]\n"
     ]
    }
   ],
   "source": [
    "# Exercise 37\n",
    "import numpy as np\n",
    "\n",
    "matrix = np.array([[4, 2],\n",
    "                   [1, 3]])\n",
    "\n",
    "eigenvalues, eigenvectors = np.linalg.eig(matrix)\n",
    "\n",
    "print(\"Matrix:\\n\", matrix)\n",
    "print(\"\\nEigenvalues:\", eigenvalues)\n",
    "print(\"\\nEigenvectors:\\n\", eigenvectors)\n"
   ]
  },
  {
   "cell_type": "markdown",
   "id": "7dc92bbb",
   "metadata": {},
   "source": [
    "\n",
    "---\n",
    "\n",
    "### Exercise 38:\n",
    "Solve a system of linear equations using NumPy.\n"
   ]
  },
  {
   "cell_type": "code",
   "execution_count": 40,
   "id": "9aad2d7e",
   "metadata": {},
   "outputs": [
    {
     "name": "stdout",
     "output_type": "stream",
     "text": [
      "Solution: [1. 2.]\n"
     ]
    }
   ],
   "source": [
    "# Exercise 38\n",
    "import numpy as np\n",
    "\n",
    "# Coefficient matrix A\n",
    "A = np.array([[2, 3],\n",
    "              [5, 1]])\n",
    "\n",
    "# Right-hand side vector b\n",
    "b = np.array([8, 7])\n",
    "\n",
    "# Solve for x\n",
    "x = np.linalg.solve(A, b)\n",
    "\n",
    "print(\"Solution:\", x)\n"
   ]
  },
  {
   "cell_type": "markdown",
   "id": "4f146ae7",
   "metadata": {},
   "source": [
    "\n",
    "---\n",
    "\n",
    "### Exercise 39:\n",
    "Add Gaussian noise to a NumPy array.\n"
   ]
  },
  {
   "cell_type": "code",
   "execution_count": 41,
   "id": "1162c82d",
   "metadata": {},
   "outputs": [
    {
     "name": "stdout",
     "output_type": "stream",
     "text": [
      "Original array: [10 20 30 40 50]\n",
      "Noise: [ 3.15250738e-01  5.26908956e-01 -2.16223128e+00 -4.75054814e-03\n",
      "  1.01504905e+01]\n",
      "Noisy array: [10.31525074 20.52690896 27.83776872 39.99524945 60.15049051]\n"
     ]
    }
   ],
   "source": [
    "# Exercise 39\n",
    "import numpy as np\n",
    "\n",
    "array = np.array([10, 20, 30, 40, 50])\n",
    "\n",
    "mean = 0\n",
    "std_dev = 5\n",
    "\n",
    "noise = np.random.normal(mean, std_dev, size=array.shape)\n",
    "\n",
    "noisy_array = array + noise\n",
    "\n",
    "print(\"Original array:\", array)\n",
    "print(\"Noise:\", noise)\n",
    "print(\"Noisy array:\", noisy_array)\n"
   ]
  },
  {
   "cell_type": "markdown",
   "id": "24f6d12f",
   "metadata": {},
   "source": [
    "\n",
    "---\n",
    "\n",
    "### Exercise 40:\n",
    "Create a 4x4 matrix and extract the diagonal elements.\n"
   ]
  },
  {
   "cell_type": "code",
   "execution_count": 42,
   "id": "228d823c",
   "metadata": {},
   "outputs": [
    {
     "name": "stdout",
     "output_type": "stream",
     "text": [
      "Matrix:\n",
      " [[ 1  2  3  4]\n",
      " [ 5  6  7  8]\n",
      " [ 9 10 11 12]\n",
      " [13 14 15 16]]\n",
      "Diagonal elements: [ 1  6 11 16]\n"
     ]
    }
   ],
   "source": [
    "# Exercise 40\n",
    "import numpy as np\n",
    "matrix = np.array([[1, 2, 3, 4],\n",
    "                   [5, 6, 7, 8],\n",
    "                   [9, 10, 11, 12],\n",
    "                   [13, 14, 15, 16]])\n",
    "\n",
    "diagonal_elements = np.diagonal(matrix)\n",
    "\n",
    "print(\"Matrix:\\n\", matrix)\n",
    "print(\"Diagonal elements:\", diagonal_elements)\n"
   ]
  },
  {
   "cell_type": "markdown",
   "id": "6fe4e0e1",
   "metadata": {},
   "source": [
    "\n",
    "---\n",
    "\n",
    "### Exercise 41:\n",
    "Generate a NumPy array of 100 random values and clip the values to a range between 10 and 50.\n"
   ]
  },
  {
   "cell_type": "code",
   "execution_count": 43,
   "id": "250c818c",
   "metadata": {},
   "outputs": [
    {
     "name": "stdout",
     "output_type": "stream",
     "text": [
      "Original values:\n",
      " [17.71226282  3.03750886 23.81896962 16.40270301 20.28555165 22.05510423\n",
      " 75.13887736 13.60418358 99.41778733 45.02064451 26.41429737 63.92649098\n",
      " 94.44626965 45.86340633 29.34157564 57.85354247 89.49281414 71.2536339\n",
      " 65.50573336 51.71035896  7.59819208 33.91562218 40.4895449  62.12922985\n",
      " 38.39576804 77.54593097 93.70258699 92.42061483 48.40330274 56.21337191\n",
      " 82.92747163 87.36611001 90.91334676 74.48827471 65.90999675 89.39686726\n",
      " 84.00237803 36.99060026  0.98754522  6.34571652 48.27349327 35.06678455\n",
      " 64.51619687 24.3229298  31.65893525 45.38215868 60.72948682 30.84352836\n",
      " 13.52845789  7.98949862 31.47576604 52.48247759 55.14481893 52.84998793\n",
      " 36.9334941  89.05154202 64.66568648 55.74866658 42.69060932 88.2204605\n",
      " 94.06708413 79.87538985 34.59600016 68.91375803  4.57542505 88.12187927\n",
      " 62.81244134 10.32983346 73.07332571 52.81080287 12.07449962 58.4777075\n",
      " 80.10620316 31.91621221 67.24692423 74.97228158 93.50749959 82.49001341\n",
      " 18.39478046 28.23663165 24.2593003  92.25503139 16.86630104 38.73542905\n",
      " 71.94962455 98.22181837 23.85907328 92.58935926 36.59552999 51.46676015\n",
      " 68.94043277  0.75610257 47.55632918 22.73118997 51.61815141 61.20906448\n",
      " 44.03957119 54.03034851 71.16212722 55.49533223]\n",
      "\n",
      "Clipped values:\n",
      " [17.71226282 10.         23.81896962 16.40270301 20.28555165 22.05510423\n",
      " 50.         13.60418358 50.         45.02064451 26.41429737 50.\n",
      " 50.         45.86340633 29.34157564 50.         50.         50.\n",
      " 50.         50.         10.         33.91562218 40.4895449  50.\n",
      " 38.39576804 50.         50.         50.         48.40330274 50.\n",
      " 50.         50.         50.         50.         50.         50.\n",
      " 50.         36.99060026 10.         10.         48.27349327 35.06678455\n",
      " 50.         24.3229298  31.65893525 45.38215868 50.         30.84352836\n",
      " 13.52845789 10.         31.47576604 50.         50.         50.\n",
      " 36.9334941  50.         50.         50.         42.69060932 50.\n",
      " 50.         50.         34.59600016 50.         10.         50.\n",
      " 50.         10.32983346 50.         50.         12.07449962 50.\n",
      " 50.         31.91621221 50.         50.         50.         50.\n",
      " 18.39478046 28.23663165 24.2593003  50.         16.86630104 38.73542905\n",
      " 50.         50.         23.85907328 50.         36.59552999 50.\n",
      " 50.         10.         47.55632918 22.73118997 50.         50.\n",
      " 44.03957119 50.         50.         50.        ]\n"
     ]
    }
   ],
   "source": [
    "# Exercise 41\n",
    "import numpy as np\n",
    "random_values = np.random.uniform(0, 100, 100)\n",
    "clipped_values = np.clip(random_values, 10, 50)\n",
    "\n",
    "print(\"Original values:\\n\", random_values)\n",
    "print(\"\\nClipped values:\\n\", clipped_values)\n"
   ]
  },
  {
   "cell_type": "markdown",
   "id": "0aa4963a",
   "metadata": {},
   "source": [
    "\n",
    "---\n",
    "\n",
    "### Exercise 42:\n",
    "Create a 2D NumPy array and replace all negative values with zero.\n"
   ]
  },
  {
   "cell_type": "code",
   "execution_count": 44,
   "id": "c33cf5e2",
   "metadata": {},
   "outputs": [
    {
     "name": "stdout",
     "output_type": "stream",
     "text": [
      "Original array:\n",
      " [[ 1 -2  3]\n",
      " [-4  5 -6]\n",
      " [ 7 -8  9]]\n",
      "\n",
      "Array after replacing negatives with zero:\n",
      " [[1 0 3]\n",
      " [0 5 0]\n",
      " [7 0 9]]\n"
     ]
    }
   ],
   "source": [
    "# Exercise 42\n",
    "import numpy as np\n",
    "\n",
    "array = np.array([[ 1, -2,  3],\n",
    "                  [-4,  5, -6],\n",
    "                  [ 7, -8,  9]])\n",
    "\n",
    "print(\"Original array:\\n\", array)\n",
    "\n",
    "array[array < 0] = 0\n",
    "\n",
    "print(\"\\nArray after replacing negatives with zero:\\n\", array)\n"
   ]
  },
  {
   "cell_type": "markdown",
   "id": "9902ee70",
   "metadata": {},
   "source": [
    "\n",
    "---\n",
    "\n",
    "### Exercise 43:\n",
    "Find the inner and outer products of two NumPy arrays.\n"
   ]
  },
  {
   "cell_type": "code",
   "execution_count": 45,
   "id": "36f488c8",
   "metadata": {},
   "outputs": [
    {
     "name": "stdout",
     "output_type": "stream",
     "text": [
      "Array a: [1 2 3]\n",
      "Array b: [4 5 6]\n",
      "\n",
      "Inner product: 32\n",
      "\n",
      "Outer product:\n",
      " [[ 4  5  6]\n",
      " [ 8 10 12]\n",
      " [12 15 18]]\n"
     ]
    }
   ],
   "source": [
    "# Exercise 43\n",
    "import numpy as np\n",
    "\n",
    "a = np.array([1, 2, 3])\n",
    "b = np.array([4, 5, 6])\n",
    "\n",
    "inner_product = np.inner(a, b)\n",
    "\n",
    "outer_product = np.outer(a, b)\n",
    "\n",
    "print(\"Array a:\", a)\n",
    "print(\"Array b:\", b)\n",
    "print(\"\\nInner product:\", inner_product)\n",
    "print(\"\\nOuter product:\\n\", outer_product)\n"
   ]
  },
  {
   "cell_type": "markdown",
   "id": "7dce9fa3",
   "metadata": {},
   "source": [
    "\n",
    "---\n",
    "\n",
    "### Exercise 44:\n",
    "Calculate the pairwise distances between points in a NumPy array.\n"
   ]
  },
  {
   "cell_type": "code",
   "execution_count": 46,
   "id": "94067655",
   "metadata": {},
   "outputs": [
    {
     "name": "stdout",
     "output_type": "stream",
     "text": [
      "Points:\n",
      " [[1 2]\n",
      " [4 6]\n",
      " [7 8]\n",
      " [2 1]]\n",
      "\n",
      "Pairwise distance matrix:\n",
      " [[0.         5.         8.48528137 1.41421356]\n",
      " [5.         0.         3.60555128 5.38516481]\n",
      " [8.48528137 3.60555128 0.         8.60232527]\n",
      " [1.41421356 5.38516481 8.60232527 0.        ]]\n"
     ]
    }
   ],
   "source": [
    "# Exercise 44\n",
    "import numpy as np\n",
    "from scipy.spatial import distance\n",
    "\n",
    "points = np.array([[1, 2],\n",
    "                   [4, 6],\n",
    "                   [7, 8],\n",
    "                   [2, 1]])\n",
    "\n",
    "dist_matrix = distance.cdist(points, points, metric='euclidean')\n",
    "\n",
    "print(\"Points:\\n\", points)\n",
    "print(\"\\nPairwise distance matrix:\\n\", dist_matrix)\n"
   ]
  },
  {
   "cell_type": "markdown",
   "id": "d4b272d3",
   "metadata": {},
   "source": [
    "\n",
    "---\n",
    "\n",
    "### Exercise 45:\n",
    "Create a structured NumPy array with fields for `name`, `age`, and `height`.\n"
   ]
  },
  {
   "cell_type": "code",
   "execution_count": 47,
   "id": "9b18e4f0",
   "metadata": {},
   "outputs": [
    {
     "name": "stdout",
     "output_type": "stream",
     "text": [
      "[('Alice', 25, 5.5) ('Bob', 30, 6. ) ('Charlie', 22, 5.8)]\n",
      "\n",
      "Names: ['Alice' 'Bob' 'Charlie']\n",
      "Ages: [25 30 22]\n",
      "Heights: [5.5 6.  5.8]\n"
     ]
    }
   ],
   "source": [
    "# Exercise 45\n",
    "import numpy as np\n",
    "\n",
    "dtype = [('name', 'U10'), ('age', 'i4'), ('height', 'f4')]\n",
    "\n",
    "# Create an array with sample data\n",
    "data = np.array([\n",
    "    ('Alice', 25, 5.5),\n",
    "    ('Bob', 30, 6.0),\n",
    "    ('Charlie', 22, 5.8)\n",
    "], dtype=dtype)\n",
    "\n",
    "print(data)\n",
    "print(\"\\nNames:\", data['name'])\n",
    "print(\"Ages:\", data['age'])\n",
    "print(\"Heights:\", data['height'])\n"
   ]
  },
  {
   "cell_type": "markdown",
   "id": "577f3e80",
   "metadata": {},
   "source": [
    "\n",
    "---\n",
    "\n",
    "### Exercise 46:\n",
    "Create a 5x5 matrix of random integers and count the occurrences of each unique value.\n"
   ]
  },
  {
   "cell_type": "code",
   "execution_count": 48,
   "id": "639b01fd",
   "metadata": {},
   "outputs": [
    {
     "name": "stdout",
     "output_type": "stream",
     "text": [
      "Matrix:\n",
      " [[5 7 3 1 6]\n",
      " [9 8 3 2 5]\n",
      " [6 6 7 1 5]\n",
      " [7 8 3 0 8]\n",
      " [8 7 3 1 7]]\n",
      "\n",
      "Unique values: [0 1 2 3 5 6 7 8 9]\n",
      "Counts: [1 3 1 4 3 3 5 4 1]\n"
     ]
    }
   ],
   "source": [
    "# Exercise 46\n",
    "import numpy as np\n",
    "\n",
    "matrix = np.random.randint(0, 10, size=(5, 5))\n",
    "\n",
    "print(\"Matrix:\\n\", matrix)\n",
    "\n",
    "unique_values, counts = np.unique(matrix, return_counts=True)\n",
    "\n",
    "print(\"\\nUnique values:\", unique_values)\n",
    "print(\"Counts:\", counts)\n"
   ]
  },
  {
   "cell_type": "markdown",
   "id": "e716555f",
   "metadata": {},
   "source": [
    "\n",
    "---\n",
    "\n",
    "### Exercise 47:\n",
    "Generate a random 3x3 NumPy array and subtract the mean of each row from the corresponding row.\n"
   ]
  },
  {
   "cell_type": "code",
   "execution_count": 49,
   "id": "03747d27",
   "metadata": {},
   "outputs": [
    {
     "name": "stdout",
     "output_type": "stream",
     "text": [
      "Original array:\n",
      " [[0.65073081 0.31938287 0.45082287]\n",
      " [0.97783005 0.04126617 0.82199489]\n",
      " [0.69089911 0.68154859 0.03064583]]\n",
      "\n",
      "Row means:\n",
      " [[0.47364552]\n",
      " [0.61369704]\n",
      " [0.46769784]]\n",
      "\n",
      "Array after subtracting row means:\n",
      " [[ 0.1770853  -0.15426265 -0.02282265]\n",
      " [ 0.36413301 -0.57243087  0.20829785]\n",
      " [ 0.22320127  0.21385074 -0.43705201]]\n"
     ]
    }
   ],
   "source": [
    "# Exercise 47\n",
    "import numpy as np\n",
    "\n",
    "arr = np.random.rand(3, 3)\n",
    "\n",
    "print(\"Original array:\\n\", arr)\n",
    "\n",
    "\n",
    "row_means = arr.mean(axis=1, keepdims=True)\n",
    "\n",
    "centered_arr = arr - row_means\n",
    "\n",
    "print(\"\\nRow means:\\n\", row_means)\n",
    "print(\"\\nArray after subtracting row means:\\n\", centered_arr)\n"
   ]
  },
  {
   "cell_type": "markdown",
   "id": "89148fb1",
   "metadata": {},
   "source": [
    "\n",
    "---\n",
    "\n",
    "### Exercise 48:\n",
    "Create a NumPy array of random integers and check if any of the values are greater than 50.\n"
   ]
  },
  {
   "cell_type": "code",
   "execution_count": 50,
   "id": "d329ca63",
   "metadata": {},
   "outputs": [
    {
     "name": "stdout",
     "output_type": "stream",
     "text": [
      "Array: [  7  27  16  62  12   5  86  40  33  78  77  85  32  47  90  82  27 100\n",
      "  26  93]\n",
      "Any value greater than 50? True\n"
     ]
    }
   ],
   "source": [
    "# Exercise 48\n",
    "import numpy as np\n",
    "\n",
    "arr = np.random.randint(0, 101, size=20)\n",
    "\n",
    "print(\"Array:\", arr)\n",
    "\n",
    "any_greater_than_50 = np.any(arr > 50)\n",
    "\n",
    "print(\"Any value greater than 50?\", any_greater_than_50)\n"
   ]
  },
  {
   "cell_type": "markdown",
   "id": "806622f5",
   "metadata": {},
   "source": [
    "\n",
    "---\n",
    "\n",
    "### Exercise 49:\n",
    "Calculate the moving average of a 1D NumPy array.\n"
   ]
  },
  {
   "cell_type": "code",
   "execution_count": 51,
   "id": "866232ff",
   "metadata": {},
   "outputs": [
    {
     "name": "stdout",
     "output_type": "stream",
     "text": [
      "Original array: [1 2 3 4 5 6 7 8 9]\n",
      "Moving average with window size 3: [2. 3. 4. 5. 6. 7. 8.]\n"
     ]
    }
   ],
   "source": [
    "# Exercise 49\n",
    "import numpy as np\n",
    "\n",
    "def moving_average(arr, k):\n",
    "    window = np.ones(k) / k\n",
    "    return np.convolve(arr, window, mode='valid')\n",
    "\n",
    "\n",
    "arr = np.array([1, 2, 3, 4, 5, 6, 7, 8, 9])\n",
    "\n",
    "# Window size\n",
    "k = 3\n",
    "\n",
    "ma = moving_average(arr, k)\n",
    "print(\"Original array:\", arr)\n",
    "print(f\"Moving average with window size {k}:\", ma)\n"
   ]
  },
  {
   "cell_type": "markdown",
   "id": "9313446b",
   "metadata": {},
   "source": [
    "\n",
    "---\n",
    "\n",
    "### Exercise 50:\n",
    "Find the Pearson correlation coefficient between two NumPy arrays.\n"
   ]
  },
  {
   "cell_type": "code",
   "execution_count": 52,
   "id": "09c184ab",
   "metadata": {},
   "outputs": [
    {
     "name": "stdout",
     "output_type": "stream",
     "text": [
      "Pearson correlation coefficient: -0.9999999999999999\n"
     ]
    }
   ],
   "source": [
    "# Exercise 50\n",
    "import numpy as np\n",
    "\n",
    "# Sample arrays\n",
    "x = np.array([1, 2, 3, 4, 5])\n",
    "y = np.array([5, 4, 3, 2, 1])\n",
    "\n",
    "corr_matrix = np.corrcoef(x, y)\n",
    "\n",
    "\n",
    "pearson_corr = corr_matrix[0, 1]\n",
    "\n",
    "print(\"Pearson correlation coefficient:\", pearson_corr)\n"
   ]
  },
  {
   "cell_type": "markdown",
   "id": "8ee11395",
   "metadata": {},
   "source": [
    "\n",
    "---\n",
    "\n",
    "### Exercise 51:\n",
    "Convert a NumPy array of radians to degrees.\n"
   ]
  },
  {
   "cell_type": "code",
   "execution_count": 53,
   "id": "34ac5b8c",
   "metadata": {},
   "outputs": [
    {
     "name": "stdout",
     "output_type": "stream",
     "text": [
      "Radians: [0.         0.52359878 0.78539816 1.57079633 3.14159265]\n",
      "Degrees: [  0.  30.  45.  90. 180.]\n"
     ]
    }
   ],
   "source": [
    "# Exercise 51\n",
    "import numpy as np\n",
    "\n",
    "radians = np.array([0, np.pi/6, np.pi/4, np.pi/2, np.pi])\n",
    "\n",
    "degrees = np.degrees(radians)\n",
    "\n",
    "print(\"Radians:\", radians)\n",
    "print(\"Degrees:\", degrees)\n"
   ]
  },
  {
   "cell_type": "markdown",
   "id": "f4fd9563",
   "metadata": {},
   "source": [
    "\n",
    "---\n",
    "\n",
    "### Exercise 52:\n",
    "Create a random NumPy array and compute its variance and standard deviation.\n"
   ]
  },
  {
   "cell_type": "code",
   "execution_count": 54,
   "id": "0559791a",
   "metadata": {},
   "outputs": [
    {
     "name": "stdout",
     "output_type": "stream",
     "text": [
      "Array: [0.02311029 0.54792282 0.01864843 0.6309947  0.32751184 0.6646513\n",
      " 0.75941561 0.67491567 0.89211388 0.9975751 ]\n",
      "Variance: 0.10058459536253476\n",
      "Standard Deviation: 0.3171507454863298\n"
     ]
    }
   ],
   "source": [
    "# Exercise 52\n",
    "import numpy as np\n",
    "\n",
    "arr = np.random.rand(10)\n",
    "\n",
    "print(\"Array:\", arr)\n",
    "\n",
    "variance = np.var(arr)\n",
    "\n",
    "std_dev = np.std(arr)\n",
    "\n",
    "print(\"Variance:\", variance)\n",
    "print(\"Standard Deviation:\", std_dev)\n"
   ]
  },
  {
   "cell_type": "markdown",
   "id": "b5bed93d",
   "metadata": {},
   "source": [
    "\n",
    "---\n",
    "\n",
    "### Exercise 53:\n",
    "Create a 2D NumPy array and find the indices of the maximum values along each axis.\n"
   ]
  },
  {
   "cell_type": "code",
   "execution_count": 55,
   "id": "37168529",
   "metadata": {},
   "outputs": [
    {
     "name": "stdout",
     "output_type": "stream",
     "text": [
      "Array:\n",
      " [[3 7 2 5]\n",
      " [8 1 9 4]\n",
      " [6 3 5 7]]\n",
      "\n",
      "Indices of max values along each row: [1 2 3]\n",
      "Indices of max values along each column: [1 0 1 2]\n"
     ]
    }
   ],
   "source": [
    "# Exercise 53\n",
    "import numpy as np\n",
    "arr = np.array([[3, 7, 2, 5],\n",
    "                [8, 1, 9, 4],\n",
    "                [6, 3, 5, 7]])\n",
    "\n",
    "print(\"Array:\\n\", arr)\n",
    "\n",
    "max_indices_rows = np.argmax(arr, axis=1)\n",
    "\n",
    "max_indices_cols = np.argmax(arr, axis=0)\n",
    "\n",
    "print(\"\\nIndices of max values along each row:\", max_indices_rows)\n",
    "print(\"Indices of max values along each column:\", max_indices_cols)\n"
   ]
  },
  {
   "cell_type": "markdown",
   "id": "fd672293",
   "metadata": {},
   "source": [
    "\n",
    "---\n",
    "\n",
    "### Exercise 54:\n",
    "Compute the inverse of a 2x2 NumPy matrix.\n"
   ]
  },
  {
   "cell_type": "code",
   "execution_count": 56,
   "id": "d9eebfee",
   "metadata": {},
   "outputs": [
    {
     "name": "stdout",
     "output_type": "stream",
     "text": [
      "Original matrix:\n",
      " [[4 7]\n",
      " [2 6]]\n",
      "\n",
      "Inverse matrix:\n",
      " [[ 0.6 -0.7]\n",
      " [-0.2  0.4]]\n"
     ]
    }
   ],
   "source": [
    "# Exercise 54\n",
    "import numpy as np\n",
    "\n",
    "matrix = np.array([[4, 7],\n",
    "                   [2, 6]])\n",
    "\n",
    "print(\"Original matrix:\\n\", matrix)\n",
    "\n",
    "inverse_matrix = np.linalg.inv(matrix)\n",
    "\n",
    "print(\"\\nInverse matrix:\\n\", inverse_matrix)\n"
   ]
  },
  {
   "cell_type": "markdown",
   "id": "d635d87b",
   "metadata": {},
   "source": [
    "\n",
    "---\n",
    "\n",
    "### Exercise 55:\n",
    "Create a NumPy array of 10 random values and standardize it (mean 0, variance 1).\n"
   ]
  },
  {
   "cell_type": "code",
   "execution_count": 57,
   "id": "dc8ffa7d",
   "metadata": {},
   "outputs": [
    {
     "name": "stdout",
     "output_type": "stream",
     "text": [
      "Original array: [0.66132204 0.4861577  0.93249997 0.40189217 0.73130805 0.02849798\n",
      " 0.86889069 0.735351   0.00144644 0.63396   ]\n",
      "Standardized array: [ 0.37046252 -0.20284031  1.25801225 -0.47863653  0.59952268 -1.70073419\n",
      "  1.04982274  0.61275504 -1.78927232  0.28090812]\n",
      "Mean of standardized array: 4.829470157119431e-16\n",
      "Standard deviation of standardized array: 1.0\n"
     ]
    }
   ],
   "source": [
    "# Exercise 55\n",
    "import numpy as np\n",
    "\n",
    "arr = np.random.rand(10)\n",
    "\n",
    "print(\"Original array:\", arr)\n",
    "\n",
    "standardized_arr = (arr - np.mean(arr)) / np.std(arr)\n",
    "\n",
    "print(\"Standardized array:\", standardized_arr)\n",
    "print(\"Mean of standardized array:\", np.mean(standardized_arr))\n",
    "print(\"Standard deviation of standardized array:\", np.std(standardized_arr))\n"
   ]
  },
  {
   "cell_type": "markdown",
   "id": "6db1e281",
   "metadata": {},
   "source": [
    "\n",
    "---\n",
    "\n",
    "### Exercise 56:\n",
    "Perform element-wise addition and subtraction on two NumPy arrays.\n"
   ]
  },
  {
   "cell_type": "code",
   "execution_count": 58,
   "id": "e8d4d852",
   "metadata": {},
   "outputs": [
    {
     "name": "stdout",
     "output_type": "stream",
     "text": [
      "Array 1: [1 2 3 4 5]\n",
      "Array 2: [5 4 3 2 1]\n",
      "Addition: [6 6 6 6 6]\n",
      "Subtraction: [-4 -2  0  2  4]\n"
     ]
    }
   ],
   "source": [
    "# Exercise 56\n",
    "import numpy as np\n",
    "arr1 = np.array([1, 2, 3, 4, 5])\n",
    "arr2 = np.array([5, 4, 3, 2, 1])\n",
    "addition = arr1 + arr2\n",
    "subtraction = arr1 - arr2\n",
    "\n",
    "print(\"Array 1:\", arr1)\n",
    "print(\"Array 2:\", arr2)\n",
    "print(\"Addition:\", addition)\n",
    "print(\"Subtraction:\", subtraction)\n"
   ]
  },
  {
   "cell_type": "markdown",
   "id": "843ba956",
   "metadata": {},
   "source": [
    "\n",
    "---\n",
    "\n",
    "### Exercise 57:\n",
    "Create a NumPy array of random values and find the maximum element's index.\n"
   ]
  },
  {
   "cell_type": "code",
   "execution_count": 59,
   "id": "e4cbc318",
   "metadata": {},
   "outputs": [
    {
     "name": "stdout",
     "output_type": "stream",
     "text": [
      "Array: [0.22912013 0.39908162 0.14470426 0.35624486 0.33372569 0.92311957\n",
      " 0.86702883 0.15467762 0.74533601 0.52714519]\n",
      "Index of maximum element: 5\n",
      "Maximum element: 0.9231195677895111\n"
     ]
    }
   ],
   "source": [
    "# Exercise 57\n",
    "import numpy as np\n",
    "arr = np.random.rand(10)\n",
    "\n",
    "print(\"Array:\", arr)\n",
    "\n",
    "max_index = np.argmax(arr)\n",
    "\n",
    "print(\"Index of maximum element:\", max_index)\n",
    "print(\"Maximum element:\", arr[max_index])\n"
   ]
  },
  {
   "cell_type": "markdown",
   "id": "e8356250",
   "metadata": {},
   "source": [
    "\n",
    "---\n",
    "\n",
    "### Exercise 58:\n",
    "Create a 3x3 NumPy array and rotate it by 90 degrees.\n"
   ]
  },
  {
   "cell_type": "code",
   "execution_count": 60,
   "id": "f80c6616",
   "metadata": {},
   "outputs": [
    {
     "name": "stdout",
     "output_type": "stream",
     "text": [
      "Original array:\n",
      " [[1 2 3]\n",
      " [4 5 6]\n",
      " [7 8 9]]\n",
      "\n",
      "Rotated array by 90 degrees:\n",
      " [[3 6 9]\n",
      " [2 5 8]\n",
      " [1 4 7]]\n"
     ]
    }
   ],
   "source": [
    "# Exercise 58\n",
    "import numpy as np\n",
    "\n",
    "arr = np.array([[1, 2, 3],\n",
    "                [4, 5, 6],\n",
    "                [7, 8, 9]])\n",
    "\n",
    "print(\"Original array:\\n\", arr)\n",
    "\n",
    "rotated_arr = np.rot90(arr)\n",
    "\n",
    "print(\"\\nRotated array by 90 degrees:\\n\", rotated_arr)\n"
   ]
  },
  {
   "cell_type": "markdown",
   "id": "5bdbf96d",
   "metadata": {},
   "source": [
    "\n",
    "---\n",
    "\n",
    "### Exercise 59:\n",
    "Compute the Frobenius norm of a matrix.\n"
   ]
  },
  {
   "cell_type": "code",
   "execution_count": 61,
   "id": "bb81b41a",
   "metadata": {},
   "outputs": [
    {
     "name": "stdout",
     "output_type": "stream",
     "text": [
      "Matrix:\n",
      " [[1 2 3]\n",
      " [4 5 6]\n",
      " [7 8 9]]\n",
      "Frobenius norm: 16.881943016134134\n"
     ]
    }
   ],
   "source": [
    "# Exercise 59\n",
    "import numpy as np\n",
    "\n",
    "matrix = np.array([[1, 2, 3],\n",
    "                   [4, 5, 6],\n",
    "                   [7, 8, 9]])\n",
    "\n",
    "frobenius_norm = np.linalg.norm(matrix)\n",
    "\n",
    "print(\"Matrix:\\n\", matrix)\n",
    "print(\"Frobenius norm:\", frobenius_norm)\n"
   ]
  },
  {
   "cell_type": "markdown",
   "id": "9388b0db",
   "metadata": {},
   "source": [
    "\n",
    "---\n",
    "\n",
    "### Exercise 60:\n",
    "Create a 3D NumPy array and slice out a subarray.\n"
   ]
  },
  {
   "cell_type": "code",
   "execution_count": 62,
   "id": "f051d3a2",
   "metadata": {},
   "outputs": [
    {
     "name": "stdout",
     "output_type": "stream",
     "text": [
      "Original 3D array:\n",
      " [[[ 0  1  2  3  4]\n",
      "  [ 5  6  7  8  9]\n",
      "  [10 11 12 13 14]\n",
      "  [15 16 17 18 19]]\n",
      "\n",
      " [[20 21 22 23 24]\n",
      "  [25 26 27 28 29]\n",
      "  [30 31 32 33 34]\n",
      "  [35 36 37 38 39]]\n",
      "\n",
      " [[40 41 42 43 44]\n",
      "  [45 46 47 48 49]\n",
      "  [50 51 52 53 54]\n",
      "  [55 56 57 58 59]]]\n",
      "\n",
      "Sliced subarray:\n",
      " [[[ 7  8  9]\n",
      "  [12 13 14]\n",
      "  [17 18 19]]\n",
      "\n",
      " [[27 28 29]\n",
      "  [32 33 34]\n",
      "  [37 38 39]]]\n"
     ]
    }
   ],
   "source": [
    "# Exercise 60\n",
    "import numpy as np\n",
    "arr = np.arange(3*4*5).reshape(3, 4, 5)\n",
    "\n",
    "print(\"Original 3D array:\\n\", arr)\n",
    "subarray = arr[0:2, 1:4, 2:5]\n",
    "\n",
    "print(\"\\nSliced subarray:\\n\", subarray)\n"
   ]
  },
  {
   "cell_type": "markdown",
   "id": "9cb79001",
   "metadata": {},
   "source": [
    "\n",
    "---"
   ]
  }
 ],
 "metadata": {
  "kernelspec": {
   "display_name": "Python 3 (ipykernel)",
   "language": "python",
   "name": "python3"
  },
  "language_info": {
   "codemirror_mode": {
    "name": "ipython",
    "version": 3
   },
   "file_extension": ".py",
   "mimetype": "text/x-python",
   "name": "python",
   "nbconvert_exporter": "python",
   "pygments_lexer": "ipython3",
   "version": "3.11.7"
  },
  "widgets": {
   "application/vnd.jupyter.widget-state+json": {
    "state": {},
    "version_major": 2,
    "version_minor": 0
   }
  }
 },
 "nbformat": 4,
 "nbformat_minor": 5
}
