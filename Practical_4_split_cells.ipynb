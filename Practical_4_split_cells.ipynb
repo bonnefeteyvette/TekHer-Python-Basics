{
 "cells": [
  {
   "cell_type": "markdown",
   "id": "9fd00cef",
   "metadata": {},
   "source": [
    "# Practical_4: Flow control"
   ]
  },
  {
   "cell_type": "markdown",
   "id": "497af3a0",
   "metadata": {},
   "source": [
    "\n",
    "\n",
    "---\n",
    "\n",
    "### Exercise 1:\n",
    "Write a Python program that checks if a number is positive or negative.\n"
   ]
  },
  {
   "cell_type": "code",
   "execution_count": 5,
   "id": "4525d7b1",
   "metadata": {},
   "outputs": [
    {
     "name": "stdin",
     "output_type": "stream",
     "text": [
      "Enter a number:  78\n"
     ]
    },
    {
     "name": "stdout",
     "output_type": "stream",
     "text": [
      "the number is positive\n"
     ]
    }
   ],
   "source": [
    "# Exercise 1\n",
    "a = float(input(\"Enter a number: \"))\n",
    "if a < 0:\n",
    "    print(\"The number is negative\")\n",
    "else:\n",
    "    print(\"the number is positive\")"
   ]
  },
  {
   "cell_type": "markdown",
   "id": "289c0fec",
   "metadata": {},
   "source": [
    "\n",
    "---\n",
    "\n",
    "### Exercise 2:\n",
    "Write a Python function that checks if a string starts with a vowel.\n"
   ]
  },
  {
   "cell_type": "code",
   "execution_count": 11,
   "id": "3adbe475",
   "metadata": {},
   "outputs": [
    {
     "name": "stdin",
     "output_type": "stream",
     "text": [
      "Type a text:  am yvette\n"
     ]
    },
    {
     "name": "stdout",
     "output_type": "stream",
     "text": [
      "The string starts with vowel\n",
      "am yvette\n"
     ]
    }
   ],
   "source": [
    "# Exercise 2\n",
    "def vowel(name):\n",
    "    if name.startswith(('a','i','u','o','e')):\n",
    "        print(\"The string starts with vowel\")\n",
    "    else:\n",
    "        print(\"the string does not start with vowel\")\n",
    "    return name\n",
    "\n",
    "text = input(\"Type a text: \")\n",
    "result = vowel(text)\n",
    "print(result)"
   ]
  },
  {
   "cell_type": "markdown",
   "id": "d64fdd3e",
   "metadata": {},
   "source": [
    "\n",
    "---\n",
    "\n",
    "### Exercise 3:\n",
    "Write a Python program that takes a list of integers and prints \"Even\" for each even number and \"Odd\" for each odd number.\n"
   ]
  },
  {
   "cell_type": "code",
   "execution_count": 22,
   "id": "e6926b1c",
   "metadata": {},
   "outputs": [
    {
     "name": "stdout",
     "output_type": "stream",
     "text": [
      "1 is odd\n",
      "2 is even\n",
      "3 is odd\n",
      "9 is odd\n",
      "12 is even\n",
      "19 is odd\n",
      "54 is even\n",
      "8 is even\n",
      "9 is odd\n",
      "10 is even\n",
      "11 is odd\n",
      "12 is even\n",
      "91 is odd\n",
      "14 is even\n",
      "62 is even\n"
     ]
    }
   ],
   "source": [
    "# Exercise 3\n",
    "my_int = [1, 2, 3, 9, 12, 19, 54, 8, 9, 10, 11, 12, 91, 14, 62]\n",
    "for num in my_int:\n",
    " if num % 2 == 0:\n",
    "    print(f\"{num} is even\")\n",
    " else:\n",
    "    print(f\"{num} is odd\")\n"
   ]
  },
  {
   "cell_type": "markdown",
   "id": "b5ce7b99",
   "metadata": {},
   "source": [
    "\n",
    "---\n",
    "\n",
    "### Exercise 4:\n",
    "Write a Python program that checks if a given year is a leap year.\n"
   ]
  },
  {
   "cell_type": "code",
   "execution_count": 26,
   "id": "eb3d99f0",
   "metadata": {},
   "outputs": [
    {
     "name": "stdin",
     "output_type": "stream",
     "text": [
      " Enter any given year: 2000\n"
     ]
    },
    {
     "name": "stdout",
     "output_type": "stream",
     "text": [
      "the year is leap\n"
     ]
    }
   ],
   "source": [
    "# Exercise 4\n",
    "year = int(input(\" Enter any given year:\"))\n",
    "if year % 4 == 0:\n",
    "    print(\"the year is leap\")\n",
    "else:\n",
    "    print(\"it is not leap year\")"
   ]
  },
  {
   "cell_type": "markdown",
   "id": "c5496d7d",
   "metadata": {},
   "source": [
    "\n",
    "---\n",
    "\n",
    "### Exercise 5:\n",
    "Write a Python function that checks if a number is divisible by both 3 and 5.\n"
   ]
  },
  {
   "cell_type": "code",
   "execution_count": 27,
   "id": "46b1bd68",
   "metadata": {},
   "outputs": [
    {
     "name": "stdin",
     "output_type": "stream",
     "text": [
      "Enter an integer number 23\n"
     ]
    },
    {
     "name": "stdout",
     "output_type": "stream",
     "text": [
      "the number is not divisible by 3 and 5\n",
      "None\n"
     ]
    }
   ],
   "source": [
    "# Exercise 5\n",
    "def numbers(num):\n",
    "    if num % 3 == 0 and num % 5 == 0:\n",
    "        print(\"The number is divisible by 3 and 5\")\n",
    "    else:\n",
    "        print(\"the number is not divisible by 3 and 5\")\n",
    "\n",
    "dividend = int(input(\"Enter an integer number\"))\n",
    "output = numbers(dividend)\n",
    "print(output)"
   ]
  },
  {
   "cell_type": "markdown",
   "id": "b0348707",
   "metadata": {},
   "source": [
    "\n",
    "---\n",
    "\n",
    "### Exercise 6:\n",
    "Write a Python program that prints \"Hot\" if the temperature is above 30, \"Warm\" if it is between 15 and 30, and \"Cold\" if it is below 15.\n"
   ]
  },
  {
   "cell_type": "code",
   "execution_count": 38,
   "id": "dfde8564",
   "metadata": {},
   "outputs": [
    {
     "name": "stdin",
     "output_type": "stream",
     "text": [
      "Enter an integer number: 30\n"
     ]
    },
    {
     "name": "stdout",
     "output_type": "stream",
     "text": [
      "The temperature is warm\n"
     ]
    }
   ],
   "source": [
    "# Exercise 6\n",
    "temperature = int(input(\"Enter an integer number:\"))\n",
    "if temperature > 30:\n",
    "    print(\"The temperature is Hot\")\n",
    "elif temperature == 30 and temperature > 15:\n",
    "    print(\"The temperature is warm\")\n",
    "elif temperature <= 15:\n",
    "    print(\"The temperature is cold\")\n",
    "else:\n",
    "    print(\"!!!error!!\")\n",
    "    "
   ]
  },
  {
   "cell_type": "markdown",
   "id": "ec1d713e",
   "metadata": {},
   "source": [
    "\n",
    "---\n",
    "\n",
    "### Exercise 7:\n",
    "Write a Python program that checks if a string contains the letter 'a'.\n"
   ]
  },
  {
   "cell_type": "code",
   "execution_count": 40,
   "id": "2eb30c57",
   "metadata": {},
   "outputs": [
    {
     "name": "stdin",
     "output_type": "stream",
     "text": [
      "Write any string name: Hello world python is amazing\n"
     ]
    },
    {
     "name": "stdout",
     "output_type": "stream",
     "text": [
      "The letter a is in the text\n"
     ]
    }
   ],
   "source": [
    "# Exercise 7\n",
    "letter = str(input(\"Write any string name:\"))\n",
    "if \"a\" in letter:\n",
    "    print(\"The letter a is in the text\")\n",
    "else:\n",
    "    print(\"letter a is not in the text\")"
   ]
  },
  {
   "cell_type": "markdown",
   "id": "8194f567",
   "metadata": {},
   "source": [
    "\n",
    "---\n",
    "\n",
    "### Exercise 8:\n",
    "Write a Python function that checks if two numbers are equal, or which one is larger.\n"
   ]
  },
  {
   "cell_type": "code",
   "execution_count": 42,
   "id": "ede9943f",
   "metadata": {},
   "outputs": [
    {
     "name": "stdin",
     "output_type": "stream",
     "text": [
      "Enter first number: 23\n",
      "Enter second number: 23\n"
     ]
    },
    {
     "name": "stdout",
     "output_type": "stream",
     "text": [
      "Two integer numbers are Equal\n",
      "None\n"
     ]
    }
   ],
   "source": [
    "# Exercise 8\n",
    "def number(num1, num2):\n",
    "    if num1 == num2:\n",
    "        print(\"Two integer numbers are Equal\")\n",
    "    else:\n",
    "        print(\"Between two integer numbers some is larger\")\n",
    "\n",
    "int1 = int(input(\"Enter first number:\"))\n",
    "int2 = int(input(\"Enter second number:\"))\n",
    "rest = number(int1, int2)\n",
    "print(rest)"
   ]
  },
  {
   "cell_type": "markdown",
   "id": "9e86c97f",
   "metadata": {},
   "source": [
    "\n",
    "---\n",
    "\n",
    "### Exercise 9:\n",
    "Write a Python program that checks if a list is empty.\n"
   ]
  },
  {
   "cell_type": "code",
   "execution_count": 44,
   "id": "13738c3f",
   "metadata": {},
   "outputs": [
    {
     "name": "stdout",
     "output_type": "stream",
     "text": [
      "the list is empty\n"
     ]
    }
   ],
   "source": [
    "# Exercise 9\n",
    "mylist = []\n",
    "if mylist == []:\n",
    "    print(\"the list is empty\")\n",
    "else:\n",
    "    print(\"The list is not empty\")"
   ]
  },
  {
   "cell_type": "markdown",
   "id": "645a85cc",
   "metadata": {},
   "source": [
    "\n",
    "---\n",
    "\n",
    "### Exercise 10:\n",
    "Write a Python function that takes two strings and checks if they are anagrams.\n"
   ]
  },
  {
   "cell_type": "code",
   "execution_count": 46,
   "id": "756b7d46",
   "metadata": {},
   "outputs": [
    {
     "name": "stdin",
     "output_type": "stream",
     "text": [
      "Write First string word listen\n",
      "Write second string word silent\n"
     ]
    },
    {
     "name": "stdout",
     "output_type": "stream",
     "text": [
      "The words are anagrams\n",
      "None\n"
     ]
    }
   ],
   "source": [
    "# Exercise 10\n",
    "def string_names(str1, str2):\n",
    "    if sorted(str1) == sorted(str2):\n",
    "        print(\"The words are anagrams\")\n",
    "    else:\n",
    "        print(\"The words aren't anagrams\")\n",
    "\n",
    "name1 = str(input(\"Write First string word\"))\n",
    "name2 = str(input(\"Write second string word\"))\n",
    "outp = string_names(name1, name2)\n",
    "print(outp)"
   ]
  },
  {
   "cell_type": "markdown",
   "id": "59ebce61",
   "metadata": {},
   "source": [
    "\n",
    "---\n",
    "\n",
    "### Exercise 11:\n",
    "Write a Python program that checks if a number is prime.\n"
   ]
  },
  {
   "cell_type": "code",
   "execution_count": 47,
   "id": "b077d9a1",
   "metadata": {},
   "outputs": [
    {
     "name": "stdin",
     "output_type": "stream",
     "text": [
      "Enter a number:  12\n"
     ]
    },
    {
     "name": "stdout",
     "output_type": "stream",
     "text": [
      "Not a prime number\n"
     ]
    }
   ],
   "source": [
    "# Exercise 11\n",
    "num = int(input(\"Enter a number: \"))\n",
    "\n",
    "if num <= 1:\n",
    "    print(\"Not a prime number\")\n",
    "else:\n",
    "    for i in range(2, num):\n",
    "        if num % i == 0:\n",
    "            print(\"Not a prime number\")\n",
    "            break\n",
    "    else:\n",
    "        print(\"It is a prime number\")\n"
   ]
  },
  {
   "cell_type": "markdown",
   "id": "531463b8",
   "metadata": {},
   "source": [
    "\n",
    "---\n",
    "\n",
    "### Exercise 12:\n",
    "Write a Python program that checks if a list of numbers is sorted in ascending order.\n"
   ]
  },
  {
   "cell_type": "code",
   "execution_count": 48,
   "id": "01fc5a9e",
   "metadata": {},
   "outputs": [
    {
     "name": "stdout",
     "output_type": "stream",
     "text": [
      "The number is not sorted in ascending order\n"
     ]
    }
   ],
   "source": [
    "# Exercise 12\n",
    "num = [1, 5, 11, 2, 9, 4, 7, 16]\n",
    "if num == sorted(num):\n",
    "    print(\"The numbers is sorted in ascending order\")\n",
    "else:\n",
    "    print(\"The number is not sorted in ascending order\")"
   ]
  },
  {
   "cell_type": "markdown",
   "id": "b15a0cca",
   "metadata": {},
   "source": [
    "\n",
    "---\n",
    "\n",
    "### Exercise 13:\n",
    "Write a Python function that takes a character and checks if it is a digit.\n"
   ]
  },
  {
   "cell_type": "code",
   "execution_count": 50,
   "id": "2dc9a053",
   "metadata": {},
   "outputs": [
    {
     "name": "stdin",
     "output_type": "stream",
     "text": [
      "Enter a character:  diane\n"
     ]
    },
    {
     "name": "stdout",
     "output_type": "stream",
     "text": [
      "'diane' is not a digit.\n"
     ]
    }
   ],
   "source": [
    "# Exercise 13\n",
    "def digit(char):\n",
    "    return char.isdigit()\n",
    "\n",
    "c = input(\"Enter a character: \")\n",
    "if digit(c):\n",
    "    print(f\"'{c}' is a digit.\")\n",
    "else:\n",
    "    print(f\"'{c}' is not a digit.\")\n"
   ]
  },
  {
   "cell_type": "markdown",
   "id": "60190b10",
   "metadata": {},
   "source": [
    "\n",
    "---\n",
    "\n",
    "### Exercise 14:\n",
    "Write a Python function that checks if a string contains only uppercase letters.\n"
   ]
  },
  {
   "cell_type": "code",
   "execution_count": 52,
   "id": "4ed8ebfa",
   "metadata": {},
   "outputs": [
    {
     "name": "stdin",
     "output_type": "stream",
     "text": [
      "Enter any text HELLO, WORLD\n"
     ]
    },
    {
     "name": "stdout",
     "output_type": "stream",
     "text": [
      "the text contains only Upper letters\n",
      "None\n"
     ]
    }
   ],
   "source": [
    "# Exercise 14\n",
    "def uppercase(letter):\n",
    " if letter.isupper():\n",
    "     print(\"the text contains only Upper letters\")\n",
    " else:\n",
    "     print(\"The text is not containing upper letters\")\n",
    "\n",
    "str = input(\"Enter any text\")\n",
    "out = uppercase(str)\n",
    "print(out)"
   ]
  },
  {
   "cell_type": "markdown",
   "id": "7f7dd4fd",
   "metadata": {},
   "source": [
    "\n",
    "---\n",
    "\n",
    "### Exercise 15:\n",
    "Write a Python program that checks if a number is a multiple of 10.\n"
   ]
  },
  {
   "cell_type": "code",
   "execution_count": 53,
   "id": "e35d5709",
   "metadata": {},
   "outputs": [
    {
     "name": "stdin",
     "output_type": "stream",
     "text": [
      "Enter a number:  3\n"
     ]
    },
    {
     "name": "stdout",
     "output_type": "stream",
     "text": [
      "3 is not multiple of 10\n"
     ]
    }
   ],
   "source": [
    "# Exercise 15\n",
    "num = int(input(\"Enter a number: \"))\n",
    "\n",
    "if num % 10 == 0:\n",
    "    print(f\"{num} is a multiple of 10.\")\n",
    "else:\n",
    "    print(f\"{num} is not multiple of 10\")"
   ]
  },
  {
   "cell_type": "markdown",
   "id": "83e1c5d3",
   "metadata": {},
   "source": [
    "\n",
    "---\n",
    "\n",
    "### Exercise 16:\n",
    "Write a Python function that checks if a list contains any duplicates.\n"
   ]
  },
  {
   "cell_type": "code",
   "execution_count": 55,
   "id": "24d52edd",
   "metadata": {},
   "outputs": [
    {
     "name": "stdout",
     "output_type": "stream",
     "text": [
      "False\n",
      "True\n"
     ]
    }
   ],
   "source": [
    "# Exercise 16\n",
    "def has_duplicates(lst):\n",
    "    return len(lst) != len(set(lst))\n",
    "print(has_duplicates([1, 2, 3, 4]))       \n",
    "print(has_duplicates([1, 2, 2, 3, 4]))    \n"
   ]
  },
  {
   "cell_type": "markdown",
   "id": "d9533146",
   "metadata": {},
   "source": [
    "\n",
    "---\n",
    "\n",
    "### Exercise 17:\n",
    "Write a Python program that prints \"Teenager\" if the age is between 13 and 19, otherwise it prints \"Not a teenager.\"\n"
   ]
  },
  {
   "cell_type": "code",
   "execution_count": 56,
   "id": "bd9212dd",
   "metadata": {},
   "outputs": [
    {
     "name": "stdin",
     "output_type": "stream",
     "text": [
      "Enter age:  17\n"
     ]
    },
    {
     "name": "stdout",
     "output_type": "stream",
     "text": [
      "Teenager\n"
     ]
    }
   ],
   "source": [
    "# Exercise 17\n",
    "age = int(input(\"Enter age: \"))\n",
    "\n",
    "if age >= 13 and age <= 19:\n",
    "    print(\"Teenager\")\n",
    "else:\n",
    "    print(\"Not a teenager.\")\n"
   ]
  },
  {
   "cell_type": "markdown",
   "id": "370f2ba1",
   "metadata": {},
   "source": [
    "\n",
    "---\n",
    "\n",
    "### Exercise 18:\n",
    "Write a Python function that checks if a list contains an element greater than 100.\n"
   ]
  },
  {
   "cell_type": "code",
   "execution_count": 60,
   "id": "23cde312",
   "metadata": {},
   "outputs": [
    {
     "name": "stdout",
     "output_type": "stream",
     "text": [
      "The list contains an element greater than 100\n",
      "None\n"
     ]
    }
   ],
   "source": [
    "# Exercise 18\n",
    "def greater_than_100(lst):\n",
    "    for num in lst:\n",
    "        if num > 100:\n",
    "            print(\"The list contains an element greater than 100\")\n",
    "            return  # stop after finding one such element\n",
    "    print(\"No element greater than 100 found in the list\")\n",
    "\n",
    "\n",
    "element = [10, 50, 101]\n",
    "out = greater_than_100(element)\n",
    "print(out)\n"
   ]
  },
  {
   "cell_type": "markdown",
   "id": "322ae5e3",
   "metadata": {},
   "source": [
    "\n",
    "---\n",
    "\n",
    "### Exercise 19:\n",
    "Write a Python program that checks if a number is even or odd.\n"
   ]
  },
  {
   "cell_type": "code",
   "execution_count": 61,
   "id": "a91bd104",
   "metadata": {},
   "outputs": [
    {
     "name": "stdin",
     "output_type": "stream",
     "text": [
      "Enter a number:  12\n"
     ]
    },
    {
     "name": "stdout",
     "output_type": "stream",
     "text": [
      "12 is even.\n"
     ]
    }
   ],
   "source": [
    "# Exercise 19\n",
    "num = int(input(\"Enter a number: \"))\n",
    "\n",
    "if num % 2 == 0:\n",
    "    print(f\"{num} is even.\")\n",
    "else:\n",
    "    print(f\"{num} is odd.\")\n"
   ]
  },
  {
   "cell_type": "markdown",
   "id": "98e0835d",
   "metadata": {},
   "source": [
    "\n",
    "---\n",
    "\n",
    "### Exercise 20:\n",
    "Write a Python function that checks if a string ends with a punctuation mark.\n"
   ]
  },
  {
   "cell_type": "code",
   "execution_count": 63,
   "id": "31fd2458",
   "metadata": {},
   "outputs": [
    {
     "name": "stdout",
     "output_type": "stream",
     "text": [
      "True\n",
      "False\n",
      "False\n"
     ]
    }
   ],
   "source": [
    "# Exercise 20\n",
    "import string\n",
    "\n",
    "def ends_with_punctuation(s: str) -> bool:\n",
    "    if not s:\n",
    "        return False\n",
    "    return s[-1] in string.punctuation\n",
    "\n",
    "# Example usage:\n",
    "print(ends_with_punctuation(\"Hello!\"))  \n",
    "print(ends_with_punctuation(\"Hello\"))   \n",
    "print(ends_with_punctuation(\"\"))        \n"
   ]
  },
  {
   "cell_type": "markdown",
   "id": "fb313702",
   "metadata": {},
   "source": [
    "\n",
    "---\n",
    "\n",
    "### Exercise 21:\n",
    "Write a Python program that prints \"Yes\" if the number is between 1 and 100, otherwise it prints \"No.\"\n"
   ]
  },
  {
   "cell_type": "code",
   "execution_count": 67,
   "id": "e362bd56",
   "metadata": {},
   "outputs": [
    {
     "name": "stdin",
     "output_type": "stream",
     "text": [
      "Enter a number:  23\n"
     ]
    },
    {
     "name": "stdout",
     "output_type": "stream",
     "text": [
      "Yes\n"
     ]
    }
   ],
   "source": [
    "# Exercise 21\n",
    "number = int(input(\"Enter a number: \"))\n",
    "\n",
    "if number >= 1 and number <= 100:\n",
    "    print(\"Yes\")\n",
    "else:\n",
    "    print(\"No\")\n"
   ]
  },
  {
   "cell_type": "markdown",
   "id": "3afeef94",
   "metadata": {},
   "source": [
    "\n",
    "---\n",
    "\n",
    "### Exercise 22:\n",
    "Write a Python program that checks if two strings have the same length.\n"
   ]
  },
  {
   "cell_type": "code",
   "execution_count": 69,
   "id": "73b75867",
   "metadata": {},
   "outputs": [
    {
     "name": "stdin",
     "output_type": "stream",
     "text": [
      "Enter the first string:  none\n",
      "Enter the second string:  here\n"
     ]
    },
    {
     "name": "stdout",
     "output_type": "stream",
     "text": [
      "The strings have the same length.\n"
     ]
    }
   ],
   "source": [
    "# Exercise 22\n",
    "str1 = input(\"Enter the first string: \")\n",
    "str2 = input(\"Enter the second string: \")\n",
    "\n",
    "if len(str1) == len(str2):\n",
    "    print(\"The strings have the same length.\")\n",
    "else:\n",
    "    print(\"The strings does not have the same length.\")\n"
   ]
  },
  {
   "cell_type": "markdown",
   "id": "bdd8e2ae",
   "metadata": {},
   "source": [
    "\n",
    "---\n",
    "\n",
    "### Exercise 23:\n",
    "Write a Python function that checks if a number is greater than its reverse.\n"
   ]
  },
  {
   "cell_type": "code",
   "execution_count": 74,
   "id": "da8ad2f4",
   "metadata": {},
   "outputs": [
    {
     "name": "stdin",
     "output_type": "stream",
     "text": [
      "Enter a number:  11\n"
     ]
    },
    {
     "name": "stdout",
     "output_type": "stream",
     "text": [
      "The number is NOT greater than its reverse.\n"
     ]
    }
   ],
   "source": [
    "# Exercise 23\n",
    "def greater_than_reverse(num: int):\n",
    "    num_str = str(num)         \n",
    "    reversed_num = int(num_str[::-1])\n",
    "    return num > reversed_num\n",
    "\n",
    "number = int(input(\"Enter a number: \"))\n",
    "\n",
    "if greater_than_reverse(number):\n",
    "    print(\"The number is greater than its reverse.\")\n",
    "else:\n",
    "    print(\"The number is NOT greater than its reverse.\")\n"
   ]
  },
  {
   "cell_type": "markdown",
   "id": "fab070bc",
   "metadata": {},
   "source": [
    "\n",
    "---\n",
    "\n",
    "### Exercise 24:\n",
    "Write a Python program that checks if a password contains both letters and numbers.\n"
   ]
  },
  {
   "cell_type": "code",
   "execution_count": 76,
   "id": "6e22f9b2",
   "metadata": {},
   "outputs": [
    {
     "name": "stdin",
     "output_type": "stream",
     "text": [
      "Enter a password:  name123\n"
     ]
    },
    {
     "name": "stdout",
     "output_type": "stream",
     "text": [
      "The password contains both letters and numbers.\n"
     ]
    }
   ],
   "source": [
    "# Exercise 24\n",
    "def valid_password(password: str):\n",
    "    letter = any(char.isalpha() for char in password)\n",
    "    number = any(char.isdigit() for char in password)\n",
    "    return letter and number\n",
    "\n",
    "password = input(\"Enter a password: \")\n",
    "\n",
    "if valid_password(password):\n",
    "    print(\"The password contains both letters and numbers.\")\n",
    "else:\n",
    "    print(\"The password must contain both letters and numbers.\")\n"
   ]
  },
  {
   "cell_type": "markdown",
   "id": "11cb6e7b",
   "metadata": {},
   "source": [
    "\n",
    "---\n",
    "\n",
    "### Exercise 25:\n",
    "Write a Python program that checks if a number is between two given numbers.\n"
   ]
  },
  {
   "cell_type": "code",
   "execution_count": 79,
   "id": "38cab028",
   "metadata": {},
   "outputs": [
    {
     "name": "stdin",
     "output_type": "stream",
     "text": [
      "Enter a number:  1\n",
      "Enter the lower bound:  2\n",
      "Enter the upper bound:  3\n"
     ]
    },
    {
     "name": "stdout",
     "output_type": "stream",
     "text": [
      "1.0 is NOT between 2.0 and 3.0.\n"
     ]
    }
   ],
   "source": [
    "# Exercise 25\n",
    "def is_between(num, lower, upper):\n",
    "    return lower <= num <= upper\n",
    "num = float(input(\"Enter a number: \"))\n",
    "lower = float(input(\"Enter the lower bound: \"))\n",
    "upper = float(input(\"Enter the upper bound: \"))\n",
    "\n",
    "if is_between(num, lower, upper):\n",
    "    print(f\"{num} is between {lower} and {upper} (inclusive).\")\n",
    "else:\n",
    "    print(f\"{num} is NOT between {lower} and {upper}.\")\n"
   ]
  },
  {
   "cell_type": "markdown",
   "id": "50b24a42",
   "metadata": {},
   "source": [
    "\n",
    "---\n",
    "\n",
    "### Exercise 26:\n",
    "Write a Python function that checks if all characters in a string are unique.\n"
   ]
  },
  {
   "cell_type": "code",
   "execution_count": 86,
   "id": "62537159",
   "metadata": {},
   "outputs": [
    {
     "name": "stdin",
     "output_type": "stream",
     "text": [
      "Enter a string:  hello, world!\n"
     ]
    },
    {
     "name": "stdout",
     "output_type": "stream",
     "text": [
      "There are duplicate characters.\n"
     ]
    }
   ],
   "source": [
    "# Exercise 26\n",
    "def unique_characters(s):\n",
    "    for char in s:\n",
    "        if s.count(char) > 1:\n",
    "            print(\"There are duplicate characters.\")\n",
    "            return\n",
    "    print(\"All characters are unique.\")\n",
    "\n",
    "text = input(\"Enter a string: \")\n",
    "unique_characters(text)\n"
   ]
  },
  {
   "cell_type": "markdown",
   "id": "54ffa82e",
   "metadata": {},
   "source": [
    "\n",
    "---\n",
    "\n",
    "### Exercise 27:\n",
    "Write a Python program that checks if a number is a perfect square.\n"
   ]
  },
  {
   "cell_type": "code",
   "execution_count": 88,
   "id": "dd0707b7",
   "metadata": {},
   "outputs": [
    {
     "name": "stdin",
     "output_type": "stream",
     "text": [
      "Enter a number:  28\n"
     ]
    },
    {
     "name": "stdout",
     "output_type": "stream",
     "text": [
      "Not a perfect square.\n"
     ]
    }
   ],
   "source": [
    "# Exercise 27\n",
    "num = int(input(\"Enter a number: \"))\n",
    "\n",
    "root = int(num ** 0.5)\n",
    "\n",
    "if root * root == num:\n",
    "    print(\"Perfect square.\")\n",
    "else:\n",
    "    print(\"Not a perfect square.\")\n"
   ]
  },
  {
   "cell_type": "markdown",
   "id": "78349b82",
   "metadata": {},
   "source": [
    "\n",
    "---\n",
    "\n",
    "### Exercise 28:\n",
    "Write a Python function that checks if a word is a palindrome.\n"
   ]
  },
  {
   "cell_type": "code",
   "execution_count": 89,
   "id": "04056d04",
   "metadata": {},
   "outputs": [
    {
     "name": "stdin",
     "output_type": "stream",
     "text": [
      "Enter a word:  acknowledgement\n"
     ]
    },
    {
     "name": "stdout",
     "output_type": "stream",
     "text": [
      "The word is not a palindrome.\n"
     ]
    }
   ],
   "source": [
    "# Exercise 28\n",
    "def check_palindrome(word):\n",
    "    if word == word[::-1]:\n",
    "        print(\"The word is a palindrome.\")\n",
    "    else:\n",
    "        print(\"The word is not a palindrome.\")\n",
    "        \n",
    "text = input(\"Enter a word: \")\n",
    "check_palindrome(text)\n"
   ]
  },
  {
   "cell_type": "markdown",
   "id": "9728cce0",
   "metadata": {},
   "source": [
    "\n",
    "---\n",
    "\n",
    "### Exercise 29:\n",
    "Write a Python program that prints \"Fizz\" if a number is divisible by 3, \"Buzz\" if it is divisible by 5, and \"FizzBuzz\" if divisible by both.\n"
   ]
  },
  {
   "cell_type": "code",
   "execution_count": 90,
   "id": "d3caedaa",
   "metadata": {},
   "outputs": [
    {
     "name": "stdin",
     "output_type": "stream",
     "text": [
      "Enter a number:  13\n"
     ]
    },
    {
     "name": "stdout",
     "output_type": "stream",
     "text": [
      "Not divisible by 3 or 5.\n"
     ]
    }
   ],
   "source": [
    "# Exercise 29\n",
    "number = int(input(\"Enter a number: \"))\n",
    "\n",
    "if number % 3 == 0 and number % 5 == 0:\n",
    "    print(\"FizzBuzz\")\n",
    "elif number % 3 == 0:\n",
    "    print(\"Fizz\")\n",
    "elif number % 5 == 0:\n",
    "    print(\"Buzz\")\n",
    "else:\n",
    "    print(\"Not divisible by 3 or 5.\")\n"
   ]
  },
  {
   "cell_type": "markdown",
   "id": "b3c19de5",
   "metadata": {},
   "source": [
    "\n",
    "---\n",
    "\n",
    "### Exercise 30:\n",
    "Write a Python program that checks if the sum of the digits of a number is even.\n"
   ]
  },
  {
   "cell_type": "code",
   "execution_count": 91,
   "id": "1d8d47e4",
   "metadata": {},
   "outputs": [
    {
     "name": "stdin",
     "output_type": "stream",
     "text": [
      "Enter a number:  89\n"
     ]
    },
    {
     "name": "stdout",
     "output_type": "stream",
     "text": [
      "The sum of the digits is odd.\n"
     ]
    }
   ],
   "source": [
    "# Exercise 30\n",
    "number = input(\"Enter a number: \")\n",
    "\n",
    "total = 0\n",
    "for digit in number:\n",
    "    total += int(digit)\n",
    "\n",
    "if total % 2 == 0:\n",
    "    print(\"The sum of the digits is even.\")\n",
    "else:\n",
    "    print(\"The sum of the digits is odd.\")\n"
   ]
  },
  {
   "cell_type": "markdown",
   "id": "dbe78293",
   "metadata": {},
   "source": [
    "\n",
    "---\n",
    "\n",
    "### Exercise 31:\n",
    "Write a Python program that checks if a string is a valid email address.\n"
   ]
  },
  {
   "cell_type": "code",
   "execution_count": null,
   "id": "dc64fe29",
   "metadata": {},
   "outputs": [],
   "source": [
    "# Exercise 31"
   ]
  },
  {
   "cell_type": "markdown",
   "id": "32922851",
   "metadata": {},
   "source": [
    "\n",
    "---\n",
    "\n",
    "### Exercise 32:\n",
    "Write a Python function that checks if a number is within 10 of 100 or 200.\n"
   ]
  },
  {
   "cell_type": "code",
   "execution_count": null,
   "id": "c3ae205c",
   "metadata": {},
   "outputs": [],
   "source": [
    "# Exercise 32"
   ]
  },
  {
   "cell_type": "markdown",
   "id": "fedc8718",
   "metadata": {},
   "source": [
    "\n",
    "---\n",
    "\n",
    "### Exercise 33:\n",
    "Write a Python program that checks if a given string is a valid URL.\n"
   ]
  },
  {
   "cell_type": "code",
   "execution_count": null,
   "id": "756593ce",
   "metadata": {},
   "outputs": [],
   "source": [
    "# Exercise 33"
   ]
  },
  {
   "cell_type": "markdown",
   "id": "13e8fcae",
   "metadata": {},
   "source": [
    "\n",
    "---\n",
    "\n",
    "### Exercise 34:\n",
    "Write a Python program that checks if a list contains all even numbers.\n"
   ]
  },
  {
   "cell_type": "code",
   "execution_count": null,
   "id": "e3069861",
   "metadata": {},
   "outputs": [],
   "source": [
    "# Exercise 34"
   ]
  },
  {
   "cell_type": "markdown",
   "id": "f19e5362",
   "metadata": {},
   "source": [
    "\n",
    "---\n",
    "\n",
    "### Exercise 35:\n",
    "Write a Python program that checks if a word is longer than a given length.\n"
   ]
  },
  {
   "cell_type": "code",
   "execution_count": null,
   "id": "491df226",
   "metadata": {},
   "outputs": [],
   "source": [
    "# Exercise 35"
   ]
  },
  {
   "cell_type": "markdown",
   "id": "68956c6c",
   "metadata": {},
   "source": [
    "\n",
    "---\n",
    "\n",
    "### Exercise 36:\n",
    "Write a Python program that checks if a list contains only positive numbers.\n"
   ]
  },
  {
   "cell_type": "code",
   "execution_count": null,
   "id": "09112e89",
   "metadata": {},
   "outputs": [],
   "source": [
    "# Exercise 36"
   ]
  },
  {
   "cell_type": "markdown",
   "id": "14f0333b",
   "metadata": {},
   "source": [
    "\n",
    "---\n",
    "\n",
    "### Exercise 37:\n",
    "Write a Python function that checks if a year is a century year (i.e., divisible by 100).\n"
   ]
  },
  {
   "cell_type": "code",
   "execution_count": null,
   "id": "9a0ee8fa",
   "metadata": {},
   "outputs": [],
   "source": [
    "# Exercise 37"
   ]
  },
  {
   "cell_type": "markdown",
   "id": "6271bb93",
   "metadata": {},
   "source": [
    "\n",
    "---\n",
    "\n",
    "### Exercise 38:\n",
    "Write a Python program that checks if the sum of a list of numbers is greater than 100.\n"
   ]
  },
  {
   "cell_type": "code",
   "execution_count": null,
   "id": "6ddf783b",
   "metadata": {},
   "outputs": [],
   "source": [
    "# Exercise 38"
   ]
  },
  {
   "cell_type": "markdown",
   "id": "8a8b88a8",
   "metadata": {},
   "source": [
    "\n",
    "---\n",
    "\n",
    "### Exercise 39:\n",
    "Write a Python function that checks if a given word is a substring of another string.\n"
   ]
  },
  {
   "cell_type": "code",
   "execution_count": null,
   "id": "2d077065",
   "metadata": {},
   "outputs": [],
   "source": [
    "# Exercise 39"
   ]
  },
  {
   "cell_type": "markdown",
   "id": "b21a3bd9",
   "metadata": {},
   "source": [
    "\n",
    "---\n",
    "\n",
    "### Exercise 40:\n",
    "Write a Python program that checks if a number is a power of 2.\n"
   ]
  },
  {
   "cell_type": "code",
   "execution_count": null,
   "id": "fa1ccd70",
   "metadata": {},
   "outputs": [],
   "source": [
    "# Exercise 40"
   ]
  },
  {
   "cell_type": "markdown",
   "id": "5ecd119f",
   "metadata": {},
   "source": [
    "\n",
    "---\n",
    "\n",
    "### Exercise 41:\n",
    "Write a Python function that checks if a string contains no spaces.\n"
   ]
  },
  {
   "cell_type": "code",
   "execution_count": null,
   "id": "8017833e",
   "metadata": {},
   "outputs": [],
   "source": [
    "# Exercise 41"
   ]
  },
  {
   "cell_type": "markdown",
   "id": "9b3c2803",
   "metadata": {},
   "source": [
    "\n",
    "---\n",
    "\n",
    "### Exercise 42:\n",
    "Write a Python program that prints \"Yes\" if a number is divisible by both 2 and 3, otherwise it prints \"No.\"\n"
   ]
  },
  {
   "cell_type": "code",
   "execution_count": null,
   "id": "cdbf39a0",
   "metadata": {},
   "outputs": [],
   "source": [
    "# Exercise 42"
   ]
  },
  {
   "cell_type": "markdown",
   "id": "5a691fcf",
   "metadata": {},
   "source": [
    "\n",
    "---\n",
    "\n",
    "### Exercise 43:\n",
    "Write a Python program that checks if a number is a palindrome.\n"
   ]
  },
  {
   "cell_type": "code",
   "execution_count": null,
   "id": "e7528a0b",
   "metadata": {},
   "outputs": [],
   "source": [
    "# Exercise 43"
   ]
  },
  {
   "cell_type": "markdown",
   "id": "49dfa276",
   "metadata": {},
   "source": [
    "\n",
    "---\n",
    "\n",
    "### Exercise 44:\n",
    "Write a Python function that checks if a string is made of only lowercase letters.\n"
   ]
  },
  {
   "cell_type": "code",
   "execution_count": null,
   "id": "2aa39193",
   "metadata": {},
   "outputs": [],
   "source": [
    "# Exercise 44"
   ]
  },
  {
   "cell_type": "markdown",
   "id": "e5ba21ba",
   "metadata": {},
   "source": [
    "\n",
    "---\n",
    "\n",
    "### Exercise 45:\n",
    "Write a Python program that checks if a string starts with a specific prefix.\n"
   ]
  },
  {
   "cell_type": "code",
   "execution_count": null,
   "id": "e6670049",
   "metadata": {},
   "outputs": [],
   "source": [
    "# Exercise 45"
   ]
  },
  {
   "cell_type": "markdown",
   "id": "1ee0a3b5",
   "metadata": {},
   "source": [
    "\n",
    "---\n",
    "\n",
    "### Exercise 46:\n",
    "Write a Python function that checks if a number is divisible by any number in a given list.\n"
   ]
  },
  {
   "cell_type": "code",
   "execution_count": null,
   "id": "7d01ccf9",
   "metadata": {},
   "outputs": [],
   "source": [
    "# Exercise 46"
   ]
  },
  {
   "cell_type": "markdown",
   "id": "1563300f",
   "metadata": {},
   "source": [
    "\n",
    "---\n",
    "\n",
    "### Exercise 47:\n",
    "Write a Python program that prints \"Yes\" if a string has more than one occurrence of the same letter.\n"
   ]
  },
  {
   "cell_type": "code",
   "execution_count": null,
   "id": "923dcbc1",
   "metadata": {},
   "outputs": [],
   "source": [
    "# Exercise 47"
   ]
  },
  {
   "cell_type": "markdown",
   "id": "ecfb7eba",
   "metadata": {},
   "source": [
    "\n",
    "---\n",
    "\n",
    "### Exercise 48:\n",
    "Write a Python function that checks if a number is prime by dividing it by numbers up to its square root.\n"
   ]
  },
  {
   "cell_type": "code",
   "execution_count": null,
   "id": "3492a570",
   "metadata": {},
   "outputs": [],
   "source": [
    "# Exercise 48"
   ]
  },
  {
   "cell_type": "markdown",
   "id": "efb3508c",
   "metadata": {},
   "source": [
    "\n",
    "---\n",
    "\n",
    "### Exercise 49:\n",
    "Write a Python program that checks if a number is within 1 of a multiple of 10.\n"
   ]
  },
  {
   "cell_type": "code",
   "execution_count": null,
   "id": "fc272cc0",
   "metadata": {},
   "outputs": [],
   "source": [
    "# Exercise 49"
   ]
  },
  {
   "cell_type": "markdown",
   "id": "8c58ab68",
   "metadata": {},
   "source": [
    "\n",
    "---\n",
    "\n",
    "### Exercise 50:\n",
    "Write a Python program that prints \"In range\" if a number is between 10 and 20 (inclusive), otherwise it prints \"Out of range.\"\n"
   ]
  },
  {
   "cell_type": "code",
   "execution_count": null,
   "id": "24ea2036",
   "metadata": {},
   "outputs": [],
   "source": [
    "# Exercise 50"
   ]
  },
  {
   "cell_type": "markdown",
   "id": "87ccd774",
   "metadata": {},
   "source": [
    "\n",
    "---"
   ]
  }
 ],
 "metadata": {
  "kernelspec": {
   "display_name": "Python 3 (ipykernel)",
   "language": "python",
   "name": "python3"
  },
  "language_info": {
   "codemirror_mode": {
    "name": "ipython",
    "version": 3
   },
   "file_extension": ".py",
   "mimetype": "text/x-python",
   "name": "python",
   "nbconvert_exporter": "python",
   "pygments_lexer": "ipython3",
   "version": "3.11.7"
  },
  "widgets": {
   "application/vnd.jupyter.widget-state+json": {
    "state": {},
    "version_major": 2,
    "version_minor": 0
   }
  }
 },
 "nbformat": 4,
 "nbformat_minor": 5
}
