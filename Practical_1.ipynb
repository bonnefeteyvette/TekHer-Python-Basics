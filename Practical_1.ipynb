{
 "cells": [
  {
   "cell_type": "markdown",
   "id": "426486dd",
   "metadata": {},
   "source": [
    "# Practical_1: Variables and Assignments"
   ]
  },
  {
   "cell_type": "markdown",
   "id": "485c0182-50de-4a02-891b-81eaeaaea8df",
   "metadata": {},
   "source": [
    "----\n",
    "\n",
    "### Exercise 1:\n",
    "Declare a variable `x` and assign it the value `10`.\n",
    "\n",
    "```python\n",
    "# Exercise 1\n",
    "```\n",
    "\n",
    "---\n",
    "\n",
    "### Exercise 2:\n",
    "Assign the value `True` to a variable called `is_valid`.\n",
    "\n",
    "```python\n",
    "# Exercise 2\n",
    "```\n",
    "\n",
    "---\n",
    "\n",
    "### Exercise 3:\n",
    "Create a string variable `name` with the value \"Python Programming\".\n",
    "\n",
    "```python\n",
    "# Exercise 3\n",
    "```\n",
    "\n",
    "---\n",
    "\n",
    "### Exercise 4:\n",
    "Assign the result of `5 + 3` to a variable `sum_result`.\n",
    "\n",
    "```python\n",
    "# Exercise 4\n",
    "```\n",
    "\n",
    "---\n",
    "\n",
    "### Exercise 5:\n",
    "Assign multiple variables in one line: `a = 5`, `b = 10`, `c = 15`.\n",
    "\n",
    "```python\n",
    "# Exercise 5\n",
    "```\n",
    "\n",
    "---\n",
    "\n",
    "### Exercise 6:\n",
    "Assign the value of one variable `x` to another variable `y`.\n",
    "\n",
    "```python\n",
    "# Exercise 6\n",
    "```\n",
    "\n",
    "---\n",
    "\n",
    "### Exercise 7:\n",
    "Assign a floating-point number `9.8` to a variable `gravity`.\n",
    "\n",
    "```python\n",
    "# Exercise 7\n",
    "```\n",
    "\n",
    "---\n",
    "\n",
    "### Exercise 8:\n",
    "Create a variable `country` and assign it the string value of your favorite country.\n",
    "\n",
    "```python\n",
    "# Exercise 8\n",
    "```\n",
    "\n",
    "---\n",
    "\n",
    "### Exercise 9:\n",
    "Change the value of variable `age` from `25` to `26` in two separate steps.\n",
    "\n",
    "```python\n",
    "# Exercise 9\n",
    "```\n",
    "\n",
    "---\n",
    "\n",
    "### Exercise 10:\n",
    "Use one variable to store the result of subtracting two numbers `20 - 7`.\n",
    "\n",
    "```python\n",
    "# Exercise 10\n",
    "```\n",
    "\n",
    "---\n",
    "\n",
    "### Exercise 11:\n",
    "Assign an integer value and a floating-point value to two different variables.\n",
    "\n",
    "```python\n",
    "# Exercise 11\n",
    "```\n",
    "\n",
    "---\n",
    "\n",
    "### Exercise 12:\n",
    "Assign a boolean value `False` to a variable `is_completed`.\n",
    "\n",
    "```python\n",
    "# Exercise 12\n",
    "```\n",
    "\n",
    "---\n",
    "\n",
    "### Exercise 13:\n",
    "Swap the values of two variables `x` and `y`.\n",
    "\n",
    "```python\n",
    "# Exercise 13\n",
    "```\n",
    "\n",
    "---\n",
    "\n",
    "### Exercise 14:\n",
    "Assign a complex number `3 + 4j` to a variable `complex_num`.\n",
    "\n",
    "```python\n",
    "# Exercise 14\n",
    "```\n",
    "\n",
    "---\n",
    "\n",
    "### Exercise 15:\n",
    "Reassign a variable from an integer to a string.\n",
    "\n",
    "```python\n",
    "# Exercise 15\n",
    "```\n",
    "\n",
    "---\n",
    "\n",
    "### Exercise 16:\n",
    "Create two variables `first_name` and `last_name`, and assign them your first and last names.\n",
    "\n",
    "```python\n",
    "# Exercise 16\n",
    "```\n",
    "\n",
    "---\n",
    "\n",
    "### Exercise 17:\n",
    "Create a variable `temperature` and assign it the value of `35.5`.\n",
    "\n",
    "```python\n",
    "# Exercise 17\n",
    "```\n",
    "\n",
    "---\n",
    "\n",
    "### Exercise 18:\n",
    "Assign the result of the multiplication of two numbers `8 * 6` to a variable `product`.\n",
    "\n",
    "```python\n",
    "# Exercise 18\n",
    "```\n",
    "\n",
    "---\n",
    "\n",
    "### Exercise 19:\n",
    "Assign a sentence of your choice to a variable `sentence`.\n",
    "\n",
    "```python\n",
    "# Exercise 19\n",
    "```\n",
    "\n",
    "---\n",
    "\n",
    "### Exercise 20:\n",
    "Use an assignment to convert a string `'50'` into an integer variable `int_value`.\n",
    "\n",
    "```python\n",
    "# Exercise 20\n",
    "```\n",
    "\n",
    "---\n",
    "\n",
    "### Exercise 21:\n",
    "Assign the result of dividing `144` by `12` to a variable `quotient`.\n",
    "\n",
    "```python\n",
    "# Exercise 21\n",
    "```\n",
    "\n",
    "---\n",
    "\n",
    "### Exercise 22:\n",
    "Assign the remainder of `47 divided by 5` to a variable `remainder`.\n",
    "\n",
    "```python\n",
    "# Exercise 22\n",
    "```\n",
    "\n",
    "---\n",
    "\n",
    "### Exercise 23:\n",
    "Create a variable `is_student` and assign it the value `True`.\n",
    "\n",
    "```python\n",
    "# Exercise 23\n",
    "```\n",
    "\n",
    "---\n",
    "\n",
    "### Exercise 24:\n",
    "Use a variable to store the result of a modulo operation: `45 % 4`.\n",
    "\n",
    "```python\n",
    "# Exercise 24\n",
    "```\n",
    "\n",
    "---\n",
    "\n",
    "### Exercise 25:\n",
    "Create a variable `pi` and assign it the value `3.14159`.\n",
    "\n",
    "```python\n",
    "# Exercise 25\n",
    "```\n",
    "\n",
    "---\n",
    "\n",
    "### Exercise 26:\n",
    "Create two variables `length` and `width`, assign them values, and calculate the area of a rectangle.\n",
    "\n",
    "```python\n",
    "# Exercise 26\n",
    "```\n",
    "\n",
    "---\n",
    "\n",
    "### Exercise 27:\n",
    "Assign a negative number to a variable `negative_value`.\n",
    "\n",
    "```python\n",
    "# Exercise 27\n",
    "```\n",
    "\n",
    "---\n",
    "\n",
    "### Exercise 28:\n",
    "Assign a string containing a special character (e.g., \"Hello, World!\") to a variable `greeting`.\n",
    "\n",
    "```python\n",
    "# Exercise 28\n",
    "```\n",
    "\n",
    "---\n",
    "\n",
    "### Exercise 29:\n",
    "Create a variable `population` and assign it a large integer value (in billions).\n",
    "\n",
    "```python\n",
    "# Exercise 29\n",
    "```\n",
    "\n",
    "---\n",
    "\n",
    "### Exercise 30:\n",
    "Use a variable to store the result of raising `2` to the power of `8`.\n",
    "\n",
    "```python\n",
    "# Exercise 30\n",
    "```\n",
    "\n",
    "---\n",
    "\n",
    "### Exercise 31:\n",
    "Assign a list of your favorite fruits to a variable `fruits`.\n",
    "\n",
    "```python\n",
    "# Exercise 31\n",
    "```\n",
    "\n",
    "---\n",
    "\n",
    "### Exercise 32:\n",
    "Assign a tuple of three numbers to a variable `coordinates`.\n",
    "\n",
    "```python\n",
    "# Exercise 32\n",
    "```\n",
    "\n",
    "---\n",
    "\n",
    "### Exercise 33:\n",
    "Assign a dictionary with keys `name` and `age` to a variable `person`.\n",
    "\n",
    "```python\n",
    "# Exercise 33\n",
    "```\n",
    "\n",
    "---\n",
    "\n",
    "### Exercise 34:\n",
    "Use variables to store the sum of two floating-point numbers.\n",
    "\n",
    "```python\n",
    "# Exercise 34\n",
    "```\n",
    "\n",
    "---\n",
    "\n",
    "### Exercise 35:\n",
    "Create a variable `is_sunny` and assign it the result of a comparison `10 > 5`.\n",
    "\n",
    "```python\n",
    "# Exercise 35\n",
    "```\n",
    "\n",
    "---\n",
    "\n",
    "### Exercise 36:\n",
    "Assign a string and an integer to two different variables, then print both on one line.\n",
    "\n",
    "```python\n",
    "# Exercise 36\n",
    "```\n",
    "\n",
    "---\n",
    "\n",
    "### Exercise 37:\n",
    "Reassign a variable that originally held a number to a boolean value.\n",
    "\n",
    "```python\n",
    "# Exercise 37\n",
    "```\n",
    "\n",
    "---\n",
    "\n",
    "### Exercise 38:\n",
    "Create a variable `is_weekend` and assign it the result of `False`.\n",
    "\n",
    "```python\n",
    "# Exercise 38\n",
    "```\n",
    "\n",
    "---\n",
    "\n",
    "### Exercise 39:\n",
    "Assign a multi-line string to a variable `description`.\n",
    "\n",
    "```python\n",
    "# Exercise 39\n",
    "```\n",
    "\n",
    "---\n",
    "\n",
    "### Exercise 40:\n",
    "Use variables to store the result of the absolute value of `-25`.\n",
    "\n",
    "```python\n",
    "# Exercise 40\n",
    "```\n",
    "\n",
    "---\n",
    "\n",
    "### Exercise 41:\n",
    "Assign the result of a floor division `100 // 6` to a variable `floor_div_result`.\n",
    "\n",
    "```python\n",
    "# Exercise 41\n",
    "```\n",
    "\n",
    "---\n",
    "\n",
    "### Exercise 42:\n",
    "Assign the result of adding a floating-point number to an integer to a variable `mixed_sum`.\n",
    "\n",
    "```python\n",
    "# Exercise 42\n",
    "```\n",
    "\n",
    "---\n",
    "\n",
    "### Exercise 43:\n",
    "Use variables to store a combination of string concatenation.\n",
    "\n",
    "```python\n",
    "# Exercise 43\n",
    "```\n",
    "\n",
    "---\n",
    "\n",
    "### Exercise 44:\n",
    "Assign an empty list to a variable `empty_list`.\n",
    "\n",
    "```python\n",
    "# Exercise 44\n",
    "```\n",
    "\n",
    "---\n",
    "\n",
    "### Exercise 45:\n",
    "Assign a boolean value based on the comparison of two variables `a = 10` and `b = 15`.\n",
    "\n",
    "```python\n",
    "# Exercise 45\n",
    "```\n",
    "\n",
    "---\n",
    "\n",
    "### Exercise 46:\n",
    "Assign a long sentence to a variable and count its characters using `len()`.\n",
    "\n",
    "```python\n",
    "# Exercise 46\n",
    "```\n",
    "\n",
    "---\n",
    "\n",
    "### Exercise 47:\n",
    "Assign a fractional result `7 / 3` to a variable `division_result`.\n",
    "\n",
    "```python\n",
    "# Exercise 47\n",
    "```\n",
    "\n",
    "---\n",
    "\n",
    "### Exercise 48:\n",
    "Create a variable `speed` and assign it the value of 100 kilometers per hour.\n",
    "\n",
    "```python\n",
    "# Exercise 48\n",
    "```\n",
    "\n",
    "---\n",
    "\n",
    "### Exercise 49:\n",
    "Assign a multi-variable equation like `y = 3x + 5` where `x = 4` to a variable `y`.\n",
    "\n",
    "```python\n",
    "# Exercise 49\n",
    "```\n",
    "\n",
    "---\n",
    "\n",
    "### Exercise 50:\n",
    "Use variables to calculate and store the average of three numbers.\n",
    "\n",
    "```python\n",
    "# Exercise 50\n",
    "```\n",
    "\n",
    "****"
   ]
  },
  {
   "cell_type": "markdown",
   "id": "a845b84f-5162-45cb-a432-bf3ba034523a",
   "metadata": {},
   "source": [
    "# Practical_1: Variables and Assignments answer"
   ]
  },
  {
   "cell_type": "markdown",
   "id": "86e36e6b-8bd4-4c81-88da-b8c0367c38ea",
   "metadata": {},
   "source": [
    "# EXERCISE 1"
   ]
  },
  {
   "cell_type": "code",
   "execution_count": 2,
   "id": "b70eb59b-41cb-4ea0-816a-b7f4507e8e27",
   "metadata": {},
   "outputs": [
    {
     "name": "stdout",
     "output_type": "stream",
     "text": [
      "10\n"
     ]
    }
   ],
   "source": [
    "#Declare a variable x and assign it the value 10\n",
    "x = 10\n",
    "print (x)"
   ]
  },
  {
   "cell_type": "markdown",
   "id": "46b829b5-c712-4e4a-b159-ec74b9be6974",
   "metadata": {},
   "source": [
    "# EXERCISE 2"
   ]
  },
  {
   "cell_type": "code",
   "execution_count": 4,
   "id": "73be3a0d-560f-4ed6-bf01-10128fa95201",
   "metadata": {},
   "outputs": [
    {
     "name": "stdout",
     "output_type": "stream",
     "text": [
      "True\n"
     ]
    }
   ],
   "source": [
    "#Assign the value True to a variable called is_valid\n",
    "is_valid = True\n",
    "print(is_valid)"
   ]
  },
  {
   "cell_type": "markdown",
   "id": "0dd02fb8-88e8-4bab-9510-9a5e8c27c016",
   "metadata": {},
   "source": [
    "# EXERCISE 3"
   ]
  },
  {
   "cell_type": "code",
   "execution_count": 5,
   "id": "8a6d9eb7-74f5-475a-b32b-ce465f19e573",
   "metadata": {},
   "outputs": [
    {
     "name": "stdout",
     "output_type": "stream",
     "text": [
      "python programming\n"
     ]
    }
   ],
   "source": [
    "#Create a string variable name with the value \"Python Programming\".\n",
    "name = \"python programming\"\n",
    "print(name)"
   ]
  },
  {
   "cell_type": "markdown",
   "id": "2d8b35bd-d5f3-45d5-a400-5187036a06f2",
   "metadata": {},
   "source": [
    "# EXERCISE 4"
   ]
  },
  {
   "cell_type": "code",
   "execution_count": 6,
   "id": "e7edb442-3ec2-4ea6-9caa-1e13f06e8015",
   "metadata": {},
   "outputs": [
    {
     "name": "stdout",
     "output_type": "stream",
     "text": [
      "8\n"
     ]
    }
   ],
   "source": [
    "#Assign the result of 5 + 3 to a variable sum_result.\n",
    "sum_result = 5 + 3\n",
    "print (sum_result)"
   ]
  },
  {
   "cell_type": "markdown",
   "id": "efb59689-c9a6-4332-8879-4938cd0eb82a",
   "metadata": {},
   "source": [
    "# EXERCISE 5"
   ]
  },
  {
   "cell_type": "code",
   "execution_count": 8,
   "id": "8d7fab09-a3f2-48c1-82ed-73736962727c",
   "metadata": {},
   "outputs": [
    {
     "name": "stdout",
     "output_type": "stream",
     "text": [
      "5 10 15\n"
     ]
    }
   ],
   "source": [
    "#Assign multiple variables in one line: a = 5, b = 10, c = 15.\n",
    "a, b, c = 5, 10, 15\n",
    "print (a, b, c)"
   ]
  },
  {
   "cell_type": "markdown",
   "id": "80dc9d5f-b868-4618-8b56-dbd50fa2db52",
   "metadata": {},
   "source": [
    "# EXERCISE 6"
   ]
  },
  {
   "cell_type": "code",
   "execution_count": 9,
   "id": "569bcb88-6c28-4452-9a7f-e7eefc2d747b",
   "metadata": {},
   "outputs": [
    {
     "name": "stdout",
     "output_type": "stream",
     "text": [
      "20\n"
     ]
    }
   ],
   "source": [
    "#Assign the value of one variable x to another variable y.\n",
    "x = 20\n",
    "y = x \n",
    "print(y)"
   ]
  },
  {
   "cell_type": "markdown",
   "id": "9dc070ea-5d39-4cad-a69d-4f42e8a8e6d6",
   "metadata": {},
   "source": [
    "# EXERCISE 7"
   ]
  },
  {
   "cell_type": "code",
   "execution_count": 10,
   "id": "b7b8cdcb-39b8-43c3-b835-5795b81d938b",
   "metadata": {},
   "outputs": [
    {
     "name": "stdout",
     "output_type": "stream",
     "text": [
      "9.8\n"
     ]
    }
   ],
   "source": [
    "#Assign a floating-point number 9.8 to a variable gravity.\n",
    "gravity = 9.8\n",
    "print(gravity)"
   ]
  },
  {
   "cell_type": "markdown",
   "id": "f41c4236-080b-4e90-9c5f-6979896324e9",
   "metadata": {},
   "source": [
    "# EXERCISE 8"
   ]
  },
  {
   "cell_type": "code",
   "execution_count": 11,
   "id": "60d7116e-189d-4106-970d-13a9d439bfcd",
   "metadata": {},
   "outputs": [
    {
     "name": "stdout",
     "output_type": "stream",
     "text": [
      "RWANDA\n"
     ]
    }
   ],
   "source": [
    "#Create a variable country and assign it the string value of your favorite country.\n",
    "country = \"RWANDA\"\n",
    "print(country)"
   ]
  },
  {
   "cell_type": "markdown",
   "id": "ed67dce0-1cf5-4c1e-b7c2-f149e9985c1c",
   "metadata": {},
   "source": [
    "# EXERCISE 9"
   ]
  },
  {
   "cell_type": "code",
   "execution_count": 12,
   "id": "c6ab18a8-eb79-4641-9687-715af11fc0e5",
   "metadata": {},
   "outputs": [
    {
     "name": "stdout",
     "output_type": "stream",
     "text": [
      "26\n"
     ]
    }
   ],
   "source": [
    "#Change the value of variable age from 25 to 26 in two separate steps.\n",
    "age = 25       # Step 1: initial value\n",
    "age = 26       # Step 2: updated value\n",
    "print(age)"
   ]
  },
  {
   "cell_type": "markdown",
   "id": "e3c9e30c-97db-463a-8498-0befe40e527f",
   "metadata": {},
   "source": [
    "# EXERCISE 10"
   ]
  },
  {
   "cell_type": "code",
   "execution_count": 14,
   "id": "1065bec1-5df4-4bfd-8106-533245fa5b28",
   "metadata": {},
   "outputs": [
    {
     "name": "stdout",
     "output_type": "stream",
     "text": [
      "13\n"
     ]
    }
   ],
   "source": [
    "#Use one variable to store the result of subtracting two numbers 20 - 7.\n",
    "result = 20 - 7\n",
    "print(result)"
   ]
  },
  {
   "cell_type": "markdown",
   "id": "68b5a384-bf28-4bff-b1de-e94e4191da8a",
   "metadata": {},
   "source": [
    "# EXERCISE 11"
   ]
  },
  {
   "cell_type": "code",
   "execution_count": 20,
   "id": "d96da3c4-4a52-4a7a-8b17-f3a4a6e71ce3",
   "metadata": {},
   "outputs": [
    {
     "name": "stdout",
     "output_type": "stream",
     "text": [
      "Integer: 11\n",
      "Float: 4.3\n"
     ]
    }
   ],
   "source": [
    "#Assign an integer value and a floating-point value to two different variables.\n",
    "my_integer = 11\n",
    "my_float = 4.3\n",
    "print(\"Integer:\", my_integer)\n",
    "print(\"Float:\", my_float)\n"
   ]
  },
  {
   "cell_type": "markdown",
   "id": "dd0aa9c8-b0f1-493c-aac1-5bcafd4ec457",
   "metadata": {},
   "source": [
    "# EXERCISE 12"
   ]
  },
  {
   "cell_type": "code",
   "execution_count": 21,
   "id": "a5a24968-d155-4804-aa87-1b326e6fd9bd",
   "metadata": {},
   "outputs": [
    {
     "name": "stdout",
     "output_type": "stream",
     "text": [
      "False\n"
     ]
    }
   ],
   "source": [
    "#Assign a boolean value False to a variable is_completed.\n",
    "is_completed = False\n",
    "print(is_completed)"
   ]
  },
  {
   "cell_type": "markdown",
   "id": "8ba9b802-6b01-49fd-963a-640147aec0e0",
   "metadata": {},
   "source": [
    "# EXERCISE 13"
   ]
  },
  {
   "cell_type": "code",
   "execution_count": 22,
   "id": "6c4f03d2-abbe-49c4-9a0e-9f10848aafef",
   "metadata": {},
   "outputs": [
    {
     "name": "stdout",
     "output_type": "stream",
     "text": [
      "10 5\n",
      "5 10\n"
     ]
    }
   ],
   "source": [
    "#Swap the values of two variables x and y.\n",
    "x = 5\n",
    "y = 10\n",
    "x, y = y, x\n",
    "print(x, y)\n",
    "print(y, x)"
   ]
  },
  {
   "cell_type": "markdown",
   "id": "aeeb22de-c9dd-48bc-9f8e-435e66eab290",
   "metadata": {},
   "source": [
    "# EXERCISE 14"
   ]
  },
  {
   "cell_type": "code",
   "execution_count": 24,
   "id": "d6ce9eac-2059-409c-866a-6ae1298bc994",
   "metadata": {},
   "outputs": [
    {
     "name": "stdout",
     "output_type": "stream",
     "text": [
      "(3+4j)\n"
     ]
    }
   ],
   "source": [
    "#Assign a complex number 3 + 4j to a variable complex_num.\n",
    "complex_num = 3 + 4j\n",
    "print(complex_num)"
   ]
  },
  {
   "cell_type": "markdown",
   "id": "ebfcc32f-c76c-404b-80e5-cfbfa6391281",
   "metadata": {},
   "source": [
    "# EXERCISE 15"
   ]
  },
  {
   "cell_type": "code",
   "execution_count": 25,
   "id": "5df73fa7-0b7d-4f61-a361-57c2914bfaa5",
   "metadata": {},
   "outputs": [
    {
     "name": "stdout",
     "output_type": "stream",
     "text": [
      "MAY\n"
     ]
    }
   ],
   "source": [
    "#Reassign a variable from an integer to a string.\n",
    "x = 32\n",
    "x = \"MAY\"\n",
    "print(x)"
   ]
  },
  {
   "cell_type": "markdown",
   "id": "52802028-35c2-45fd-8641-bca10e73ef75",
   "metadata": {},
   "source": [
    "# EXERCISE 16"
   ]
  },
  {
   "cell_type": "code",
   "execution_count": 26,
   "id": "7bf440a4-e5b4-40b4-9e60-f0d2729ef486",
   "metadata": {},
   "outputs": [
    {
     "name": "stdout",
     "output_type": "stream",
     "text": [
      "BONNEFETE YVETTE UWERA\n"
     ]
    }
   ],
   "source": [
    "#Create two variables first_name and last_name, and assign them your first and last names.\n",
    "first_name = \"BONNEFETE YVETTE\"\n",
    "last_name = \"UWERA\"\n",
    "print(first_name, last_name)"
   ]
  },
  {
   "cell_type": "markdown",
   "id": "ddbf3818-cca4-4a63-b5d4-26e2b3201cce",
   "metadata": {},
   "source": [
    "# EXERCISE 17"
   ]
  },
  {
   "cell_type": "code",
   "execution_count": 27,
   "id": "584a12b9-fd12-4cc7-a7a9-eee019ebea5e",
   "metadata": {},
   "outputs": [
    {
     "name": "stdout",
     "output_type": "stream",
     "text": [
      "35.5\n"
     ]
    }
   ],
   "source": [
    "#Create a variable temperature and assign it the value of 35.5.\n",
    "temperature = 35.5\n",
    "print(temperature)"
   ]
  },
  {
   "cell_type": "markdown",
   "id": "ac929078-43dd-40bc-957e-c465f6307e96",
   "metadata": {},
   "source": [
    "# EXERCISE 18"
   ]
  },
  {
   "cell_type": "code",
   "execution_count": 28,
   "id": "b33d5ef8-9168-4655-a819-ea57dd03a5dd",
   "metadata": {},
   "outputs": [
    {
     "name": "stdout",
     "output_type": "stream",
     "text": [
      "48\n"
     ]
    }
   ],
   "source": [
    "#Assign the result of the multiplication of two numbers 8 * 6 to a variable product.\n",
    "product = 8 * 6\n",
    "print(product)"
   ]
  },
  {
   "cell_type": "markdown",
   "id": "d519fd92-21a7-4d49-a358-4b2bf8a562d2",
   "metadata": {},
   "source": [
    "# EXERCISE 19"
   ]
  },
  {
   "cell_type": "code",
   "execution_count": 29,
   "id": "402f5b20-3e98-4171-aacb-71d047699884",
   "metadata": {},
   "outputs": [
    {
     "name": "stdout",
     "output_type": "stream",
     "text": [
      "Learning never exhausts the mind.\n"
     ]
    }
   ],
   "source": [
    "#Assign a sentence of your choice to a variable sentence.\n",
    "sentence = \"Learning never exhausts the mind.\"\n",
    "print(sentence)\n"
   ]
  },
  {
   "cell_type": "markdown",
   "id": "d99338cb-bc3d-4dcb-ade6-1f3c4a6bff8b",
   "metadata": {},
   "source": [
    "# EXERCISE 20"
   ]
  },
  {
   "cell_type": "code",
   "execution_count": 32,
   "id": "2cf2c72e-6873-4d44-b7db-c14ffa3b0559",
   "metadata": {},
   "outputs": [
    {
     "name": "stdout",
     "output_type": "stream",
     "text": [
      "50\n"
     ]
    }
   ],
   "source": [
    "#Use an assignment to convert a string '50' into an integer variable int_value.\n",
    "int_value = int('50')\n",
    "print(int_value)"
   ]
  },
  {
   "cell_type": "markdown",
   "id": "467566e2-753d-4e7f-bf08-438417cbe580",
   "metadata": {},
   "source": [
    "# EXERCISE 21"
   ]
  },
  {
   "cell_type": "code",
   "execution_count": 33,
   "id": "caeede96-433c-4255-b982-2982c0610306",
   "metadata": {},
   "outputs": [
    {
     "name": "stdout",
     "output_type": "stream",
     "text": [
      "12.0\n"
     ]
    }
   ],
   "source": [
    "#Assign the result of dividing 144 by 12 to a variable quotient.\n",
    "quotient = 144/12\n",
    "print(quotient)"
   ]
  },
  {
   "cell_type": "markdown",
   "id": "e984b32b-913b-4bfb-8ab4-106861bcc859",
   "metadata": {},
   "source": [
    "# EXERCISE 22"
   ]
  },
  {
   "cell_type": "code",
   "execution_count": 34,
   "id": "dbe85a14-be53-43a7-9c61-fe6a215cd255",
   "metadata": {},
   "outputs": [
    {
     "name": "stdout",
     "output_type": "stream",
     "text": [
      "2\n"
     ]
    }
   ],
   "source": [
    "#Assign the remainder of 47 divided by 5 to a variable remainder.\n",
    "remainder = 47 % 5\n",
    "print(remainder)"
   ]
  },
  {
   "cell_type": "markdown",
   "id": "db7bdeab-bd57-434a-b708-4eddddfe4e15",
   "metadata": {},
   "source": [
    "# EXERCISE 23"
   ]
  },
  {
   "cell_type": "code",
   "execution_count": 35,
   "id": "aa4fe069-421b-4549-b3b7-d6ce6809ab58",
   "metadata": {},
   "outputs": [
    {
     "name": "stdout",
     "output_type": "stream",
     "text": [
      "True\n"
     ]
    }
   ],
   "source": [
    "#Create a variable is_student and assign it the value True.\n",
    "is_student = True\n",
    "print(is_student)"
   ]
  },
  {
   "cell_type": "markdown",
   "id": "8d1a5269-9747-4de4-a8ea-ce050c83e849",
   "metadata": {},
   "source": [
    "# EXERCISE 24"
   ]
  },
  {
   "cell_type": "code",
   "execution_count": 36,
   "id": "86e2a92b-414e-44dc-9aed-f0b7efeb41e2",
   "metadata": {},
   "outputs": [
    {
     "name": "stdout",
     "output_type": "stream",
     "text": [
      "1\n"
     ]
    }
   ],
   "source": [
    "#Use a variable to store the result of a modulo operation: 45 % 4.\n",
    "mod_result = 45 % 4\n",
    "print(mod_result) \n"
   ]
  },
  {
   "cell_type": "markdown",
   "id": "606d0e57-4ec5-4dee-af49-cabbd01b1883",
   "metadata": {},
   "source": [
    "# EXERCISE 25"
   ]
  },
  {
   "cell_type": "code",
   "execution_count": 39,
   "id": "847f9b69-a9ff-400e-9d5e-21fdd7ac7644",
   "metadata": {},
   "outputs": [
    {
     "name": "stdout",
     "output_type": "stream",
     "text": [
      "3.14159\n"
     ]
    }
   ],
   "source": [
    "#Create a variable pi and assign it the value 3.14159.\n",
    "pi = 3.14159\n",
    "print(pi)"
   ]
  },
  {
   "cell_type": "markdown",
   "id": "d8b88c07-41fb-441f-b649-6ac24e86e3fc",
   "metadata": {},
   "source": [
    "# EXERCISE 26"
   ]
  },
  {
   "cell_type": "code",
   "execution_count": 42,
   "id": "6c6b3d10-9a51-4440-bd62-c3b72cbbfed8",
   "metadata": {},
   "outputs": [
    {
     "name": "stdout",
     "output_type": "stream",
     "text": [
      "the area of rectangle is: 63\n"
     ]
    }
   ],
   "source": [
    "#Create two variables length and width, assign them values, and calculate the area of a rectangle.\n",
    "length = 9\n",
    "width = 7\n",
    "area = length * width\n",
    "print(\"the area of rectangle is:\",area)"
   ]
  },
  {
   "cell_type": "markdown",
   "id": "912b8d34-d2d3-42b8-9f53-ec85da0dde3c",
   "metadata": {},
   "source": [
    "# EXERCISE 27"
   ]
  },
  {
   "cell_type": "code",
   "execution_count": 43,
   "id": "1f675a52-a953-4ce8-a3a3-17d26d884aac",
   "metadata": {},
   "outputs": [
    {
     "name": "stdout",
     "output_type": "stream",
     "text": [
      "-23\n"
     ]
    }
   ],
   "source": [
    "#Assign a negative number to a variable negative_value.\n",
    "negative_value = -23\n",
    "print(negative_value)"
   ]
  },
  {
   "cell_type": "markdown",
   "id": "9ee910e3-f311-4478-a7a5-5e4df7d162da",
   "metadata": {},
   "source": [
    "# EXERCISE 28"
   ]
  },
  {
   "cell_type": "code",
   "execution_count": 44,
   "id": "12a074e5-70d2-4360-b5d8-7d028d3f867f",
   "metadata": {},
   "outputs": [
    {
     "name": "stdout",
     "output_type": "stream",
     "text": [
      "Hello, World!\n"
     ]
    }
   ],
   "source": [
    "#Assign a string containing a special character (e.g., \"Hello, World!\") to a variable greeting.\n",
    "greetings = \"Hello, World!\"\n",
    "print(greetings)"
   ]
  },
  {
   "cell_type": "markdown",
   "id": "d868b75e-5877-4356-bc93-b705975f5201",
   "metadata": {},
   "source": [
    "# EXERCISE 29"
   ]
  },
  {
   "cell_type": "code",
   "execution_count": 45,
   "id": "6f40c5ab-c31c-4a11-a7b4-0f7230bab46d",
   "metadata": {},
   "outputs": [
    {
     "name": "stdout",
     "output_type": "stream",
     "text": [
      "world population 8197362037\n"
     ]
    }
   ],
   "source": [
    "#Create a variable population and assign it a large integer value (in billions).\n",
    "population = 8197362037\n",
    "print(\"world population\", population)"
   ]
  },
  {
   "cell_type": "markdown",
   "id": "adc1574c-4458-4100-a861-b05a997e3aba",
   "metadata": {},
   "source": [
    "# EXERCISE 30"
   ]
  },
  {
   "cell_type": "code",
   "execution_count": 48,
   "id": "0b7e3826-e023-4ebf-baff-9350dc61614d",
   "metadata": {},
   "outputs": [
    {
     "name": "stdout",
     "output_type": "stream",
     "text": [
      "256\n"
     ]
    }
   ],
   "source": [
    "#Use a variable to store the result of raising 2 to the power of 8.\n",
    "power = 2**8\n",
    "print(power)"
   ]
  },
  {
   "cell_type": "markdown",
   "id": "5a5922d2-dfa3-448c-bf10-5c7170d01297",
   "metadata": {},
   "source": [
    "# EXERCISE 31"
   ]
  },
  {
   "cell_type": "code",
   "execution_count": 50,
   "id": "f83e614f-d7a1-4636-934a-7711624206e1",
   "metadata": {},
   "outputs": [
    {
     "name": "stdout",
     "output_type": "stream",
     "text": [
      "['mango', 'orange', 'banana', 'pome', 'strawberry', 'pineapple', 'watermelon']\n"
     ]
    }
   ],
   "source": [
    "#Assign a list of your favorite fruits to a variable fruits.\n",
    "fruits = ['mango', 'orange','banana','pome','strawberry','pineapple','watermelon']\n",
    "print(fruits)"
   ]
  },
  {
   "cell_type": "markdown",
   "id": "c7a290ca-7768-40a2-b097-70ffcc486f28",
   "metadata": {},
   "source": [
    "# EXERCISE 32"
   ]
  },
  {
   "cell_type": "code",
   "execution_count": 51,
   "id": "ba69d8b8-cc23-4fff-bfa6-699f20df6af7",
   "metadata": {},
   "outputs": [
    {
     "name": "stdout",
     "output_type": "stream",
     "text": [
      "(10, 20, 30)\n"
     ]
    }
   ],
   "source": [
    "#Assign a tuple of three numbers to a variable coordinates.\n",
    "coordinates = (10, 20, 30)\n",
    "print(coordinates)\n"
   ]
  },
  {
   "cell_type": "markdown",
   "id": "2868ca5a-d83a-4dac-a05c-dd7fc1b54e79",
   "metadata": {},
   "source": [
    "# EXERCISE 33"
   ]
  },
  {
   "cell_type": "code",
   "execution_count": 53,
   "id": "8ba500be-4e1d-4564-82b3-987373527a0b",
   "metadata": {},
   "outputs": [
    {
     "name": "stdout",
     "output_type": "stream",
     "text": [
      "{'name': 'ISIMBI', 'age': '27'}\n"
     ]
    }
   ],
   "source": [
    "#Assign a dictionary with keys name and age to a variable person.\n",
    "person = {\n",
    "    \"name\": \"ISIMBI\",\n",
    "    \"age\": \"27\"\n",
    "}\n",
    "print(person)"
   ]
  },
  {
   "cell_type": "markdown",
   "id": "fa614f5a-00da-480e-9872-b132c20f9963",
   "metadata": {},
   "source": [
    "# EXERCISE 34"
   ]
  },
  {
   "cell_type": "code",
   "execution_count": 56,
   "id": "4a5e2671-b7d7-4678-baf4-ca495b02634b",
   "metadata": {},
   "outputs": [
    {
     "name": "stdout",
     "output_type": "stream",
     "text": [
      "15.1431\n"
     ]
    }
   ],
   "source": [
    "#Use variables to store the sum of two floating-point numbers.\n",
    "num1 = 12.034\n",
    "num2 = 3.1091\n",
    "total = num1 + num2\n",
    "print(total)"
   ]
  },
  {
   "cell_type": "markdown",
   "id": "0d99786d-04ad-405f-a3fe-d34bf175be34",
   "metadata": {},
   "source": [
    "# EXERCISE 35"
   ]
  },
  {
   "cell_type": "code",
   "execution_count": 57,
   "id": "a423ee4b-84b6-4e92-b0d1-9c0476bcdd7d",
   "metadata": {},
   "outputs": [
    {
     "name": "stdout",
     "output_type": "stream",
     "text": [
      "True\n"
     ]
    }
   ],
   "source": [
    "#Create a variable is_sunny and assign it the result of a comparison 10 > 5.\n",
    "is_sunny = 10 > 5\n",
    "print (is_sunny)"
   ]
  },
  {
   "cell_type": "markdown",
   "id": "0549137d-dc6d-4339-8199-b16c2000f256",
   "metadata": {},
   "source": [
    "# EXERCISE 36"
   ]
  },
  {
   "cell_type": "code",
   "execution_count": 59,
   "id": "023af1b6-692f-4c4a-8575-0d9105f8a89b",
   "metadata": {},
   "outputs": [
    {
     "name": "stdout",
     "output_type": "stream",
     "text": [
      "Hello we are in 2025\n"
     ]
    }
   ],
   "source": [
    "#Assign a string and an integer to two different variables, then print both on one line.\n",
    "x = \"Hello we are in\"\n",
    "y = 2025\n",
    "print (x, y)"
   ]
  },
  {
   "cell_type": "markdown",
   "id": "715e9a3c-bdbb-4b88-81c0-c331b350cd79",
   "metadata": {},
   "source": [
    "# EXERCISE 37"
   ]
  },
  {
   "cell_type": "code",
   "execution_count": 61,
   "id": "d5553678-f997-4335-8c02-4025caffdcb0",
   "metadata": {},
   "outputs": [
    {
     "name": "stdout",
     "output_type": "stream",
     "text": [
      "True\n"
     ]
    }
   ],
   "source": [
    "#Reassign a variable that originally held a number to a boolean value.\n",
    "x = 11\n",
    "x = True\n",
    "print(x)"
   ]
  },
  {
   "cell_type": "markdown",
   "id": "fcea58cd-3d13-48db-8d9d-601e1f0237e6",
   "metadata": {},
   "source": [
    "# EXERCISE 38"
   ]
  },
  {
   "cell_type": "code",
   "execution_count": 62,
   "id": "bcf3f16a-9c6a-43a9-8b4b-7a50e472b139",
   "metadata": {},
   "outputs": [
    {
     "name": "stdout",
     "output_type": "stream",
     "text": [
      "False\n"
     ]
    }
   ],
   "source": [
    "#Create a variable is_weekend and assign it the result of False.\n",
    "is_weekend = False\n",
    "print(is_weekend)"
   ]
  },
  {
   "cell_type": "markdown",
   "id": "ff0ff6cd-c08b-4495-b89b-5472b932cef5",
   "metadata": {},
   "source": [
    "# EXERCISE 39"
   ]
  },
  {
   "cell_type": "code",
   "execution_count": 64,
   "id": "1f5513ce-aeae-47ef-83af-2bec6e53ff34",
   "metadata": {},
   "outputs": [
    {
     "name": "stdout",
     "output_type": "stream",
     "text": [
      "This is a multi-line string.\n",
      "It can span several lines.\n",
      "Useful for long text blocks or documentation.\n"
     ]
    }
   ],
   "source": [
    "#Assign a multi-line string to a variable description.\n",
    "description = \"\"\"This is a multi-line string.\n",
    "It can span several lines.\n",
    "Useful for long text blocks or documentation.\"\"\"\n",
    "print(description)\n"
   ]
  },
  {
   "cell_type": "markdown",
   "id": "2ebfe8bc-7416-49bd-84f3-30d307eddcc6",
   "metadata": {},
   "source": [
    "# EXERCISE 40"
   ]
  },
  {
   "cell_type": "code",
   "execution_count": 65,
   "id": "e85f86ca-9187-48af-9245-8f1d2222fc56",
   "metadata": {},
   "outputs": [
    {
     "name": "stdout",
     "output_type": "stream",
     "text": [
      "25\n"
     ]
    }
   ],
   "source": [
    "#Use variables to store the result of the absolute value of -25.\n",
    "value = -25\n",
    "absolute_value = abs(value)\n",
    "print(absolute_value)  \n"
   ]
  },
  {
   "cell_type": "markdown",
   "id": "1f74d6b9-d46b-4670-8a4f-d438e8185d48",
   "metadata": {},
   "source": [
    "# EXERCISE 41"
   ]
  },
  {
   "cell_type": "code",
   "execution_count": 66,
   "id": "8ec5dfca-8e08-4a2e-b884-ab9d9c37b719",
   "metadata": {},
   "outputs": [
    {
     "name": "stdout",
     "output_type": "stream",
     "text": [
      "16\n"
     ]
    }
   ],
   "source": [
    "#Assign the result of a floor division 100 // 6 to a variable floor_div_result.\n",
    "floor_div_result = 100 // 6\n",
    "print(floor_div_result)"
   ]
  },
  {
   "cell_type": "markdown",
   "id": "fb23269c-cd5a-452d-9f88-ee7c2cc86a3d",
   "metadata": {},
   "source": [
    "# EXERCISE 42"
   ]
  },
  {
   "cell_type": "code",
   "execution_count": 67,
   "id": "5f39b434-4f96-47ea-a842-bd9cee67fe2c",
   "metadata": {},
   "outputs": [
    {
     "name": "stdout",
     "output_type": "stream",
     "text": [
      "13.5\n"
     ]
    }
   ],
   "source": [
    "#Assign the result of adding a floating-point number to an integer to a variable mixed_sum.\n",
    "mixed_sum = 10 + 3.5\n",
    "print(mixed_sum) \n"
   ]
  },
  {
   "cell_type": "markdown",
   "id": "811dd5c3-1118-4fef-b304-65d5ce11be59",
   "metadata": {},
   "source": [
    "# EXERCISE 43"
   ]
  },
  {
   "cell_type": "code",
   "execution_count": 70,
   "id": "9a477e82-ab13-4b1c-b37c-729dba1ba17e",
   "metadata": {},
   "outputs": [
    {
     "name": "stdout",
     "output_type": "stream",
     "text": [
      "IRIZA Ella\n"
     ]
    }
   ],
   "source": [
    "#Use variables to store a combination of string concatenation.\n",
    "first_name = \"IRIZA\"\n",
    "last_name = \"Ella\"\n",
    "full_name = first_name + \" \" + last_name\n",
    "print(full_name)  \n"
   ]
  },
  {
   "cell_type": "markdown",
   "id": "910eabfd-ddc9-4e0e-ab83-3957581cc6ab",
   "metadata": {},
   "source": [
    "# EXERCISE 44"
   ]
  },
  {
   "cell_type": "code",
   "execution_count": 71,
   "id": "0bff0b0d-47e9-4ea0-93bb-2add6cab22bc",
   "metadata": {},
   "outputs": [
    {
     "name": "stdout",
     "output_type": "stream",
     "text": [
      "[]\n"
     ]
    }
   ],
   "source": [
    "#Assign an empty list to a variable empty_list.\n",
    "empty_list = []\n",
    "print(empty_list)\n"
   ]
  },
  {
   "cell_type": "markdown",
   "id": "20e95135-d15d-4ba2-b65e-4ecd443fae4a",
   "metadata": {},
   "source": [
    "# EXERCISE 45"
   ]
  },
  {
   "cell_type": "code",
   "execution_count": 72,
   "id": "7140d82d-ab55-45b5-9de1-9f186d6ca3fb",
   "metadata": {},
   "outputs": [
    {
     "name": "stdout",
     "output_type": "stream",
     "text": [
      "False\n"
     ]
    }
   ],
   "source": [
    "#Assign a boolean value based on the comparison of two variables a = 10 and b = 15.\n",
    "a = 11\n",
    "b = 24\n",
    "is_a_greater = a > b\n",
    "print(is_a_greater)  \n"
   ]
  },
  {
   "cell_type": "markdown",
   "id": "b9549051-1552-461d-a950-d72e634d28c7",
   "metadata": {},
   "source": [
    "# EXERCISE 46"
   ]
  },
  {
   "cell_type": "code",
   "execution_count": 73,
   "id": "ea7662c8-a929-4187-88c7-5e4c5211edd8",
   "metadata": {},
   "outputs": [
    {
     "name": "stdout",
     "output_type": "stream",
     "text": [
      "62\n"
     ]
    }
   ],
   "source": [
    "#Assign a long sentence to a variable and count its characters using len().\n",
    "sentence = \"Learning to code is a valuable skill in today's digital world.\"\n",
    "character_count = len(sentence)\n",
    "print(character_count) \n"
   ]
  },
  {
   "cell_type": "markdown",
   "id": "ae2c4ed7-a61c-4a4d-90b0-5e613629673b",
   "metadata": {},
   "source": [
    "# EXERCISE 47"
   ]
  },
  {
   "cell_type": "code",
   "execution_count": 74,
   "id": "101354ac-4b3a-494d-9a5f-d9e0e8fe33d3",
   "metadata": {},
   "outputs": [
    {
     "name": "stdout",
     "output_type": "stream",
     "text": [
      "2.3333333333333335\n"
     ]
    }
   ],
   "source": [
    "#Assign a fractional result 7 / 3 to a variable division_result.\n",
    "division_result = 7 / 3\n",
    "print(division_result)  \n"
   ]
  },
  {
   "cell_type": "markdown",
   "id": "ba1ce9e1-5bb2-474a-a729-7cf8d2c7da05",
   "metadata": {},
   "source": [
    "# EXERCISE 48"
   ]
  },
  {
   "cell_type": "code",
   "execution_count": 75,
   "id": "0ede63f4-8716-4eab-ab4c-c304173f4c75",
   "metadata": {},
   "outputs": [
    {
     "name": "stdout",
     "output_type": "stream",
     "text": [
      "100 km/h\n"
     ]
    }
   ],
   "source": [
    "#Create a variable speed and assign it the value of 100 kilometers per hour.\n",
    "speed = \"100 km/h\"\n",
    "print(speed)\n"
   ]
  },
  {
   "cell_type": "markdown",
   "id": "046c2aaa-ec3e-4161-b370-6bf0c81211e3",
   "metadata": {},
   "source": [
    "# EXERCISE 49"
   ]
  },
  {
   "cell_type": "code",
   "execution_count": 77,
   "id": "3c8b6845-1861-4de9-ae94-29862538b20a",
   "metadata": {},
   "outputs": [
    {
     "name": "stdout",
     "output_type": "stream",
     "text": [
      "17\n"
     ]
    }
   ],
   "source": [
    "#Assign a multi-variable equation like y = 3x + 5 where x = 4 to a variable y.\n",
    "x = 4\n",
    "y = 3 * x + 5\n",
    "print(y)  \n"
   ]
  },
  {
   "cell_type": "markdown",
   "id": "fb85af93-677a-4025-ac32-b6c8ae10c775",
   "metadata": {},
   "source": [
    "# EXERCISE 50"
   ]
  },
  {
   "cell_type": "code",
   "execution_count": 78,
   "id": "cf5bbdd3-01a0-4ac8-b0a5-6f73b7b624b3",
   "metadata": {},
   "outputs": [
    {
     "name": "stdout",
     "output_type": "stream",
     "text": [
      "20.0\n"
     ]
    }
   ],
   "source": [
    "#Use variables to calculate and store the average of three numbers.\n",
    "num1 = 10\n",
    "num2 = 20\n",
    "num3 = 30\n",
    "\n",
    "average = (num1 + num2 + num3) / 3\n",
    "print(average)  \n"
   ]
  },
  {
   "cell_type": "code",
   "execution_count": null,
   "id": "c085c77f-833b-4b87-80cb-fe580cf97e30",
   "metadata": {},
   "outputs": [],
   "source": []
  }
 ],
 "metadata": {
  "kernelspec": {
   "display_name": "Python 3 (ipykernel)",
   "language": "python",
   "name": "python3"
  },
  "language_info": {
   "codemirror_mode": {
    "name": "ipython",
    "version": 3
   },
   "file_extension": ".py",
   "mimetype": "text/x-python",
   "name": "python",
   "nbconvert_exporter": "python",
   "pygments_lexer": "ipython3",
   "version": "3.11.7"
  },
  "widgets": {
   "application/vnd.jupyter.widget-state+json": {
    "state": {},
    "version_major": 2,
    "version_minor": 0
   }
  }
 },
 "nbformat": 4,
 "nbformat_minor": 5
}
