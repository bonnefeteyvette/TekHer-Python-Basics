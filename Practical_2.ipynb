{
 "cells": [
  {
   "cell_type": "markdown",
   "id": "d68c1dee",
   "metadata": {},
   "source": [
    "# Practical_2: String and files"
   ]
  },
  {
   "cell_type": "markdown",
   "id": "bea983a3",
   "metadata": {},
   "source": [
    "---\n",
    "\n",
    "### Exercise 1:\n",
    "Create a string variable `text` and assign it the value `\"Python is amazing!\"`.\n",
    "\n",
    "```python\n",
    "# Exercise 1\n",
    "```\n",
    "\n",
    "---\n",
    "\n",
    "### Exercise 2:\n",
    "Find the length of the string `\"Hello, World!\"` and store it in a variable `length`.\n",
    "\n",
    "```python\n",
    "# Exercise 2\n",
    "```\n",
    "\n",
    "---\n",
    "\n",
    "### Exercise 3:\n",
    "Convert the string `\"python programming\"` to uppercase and store it in a variable `upper_text`.\n",
    "\n",
    "```python\n",
    "# Exercise 3\n",
    "```\n",
    "\n",
    "---\n",
    "\n",
    "### Exercise 4:\n",
    "Extract the first 5 characters from the string `\"Artificial Intelligence\"`.\n",
    "\n",
    "```python\n",
    "# Exercise 4\n",
    "```\n",
    "\n",
    "---\n",
    "\n",
    "### Exercise 5:\n",
    "Concatenate the strings `\"Hello\"` and `\"World\"` with a space in between.\n",
    "\n",
    "```python\n",
    "# Exercise 5\n",
    "```\n",
    "\n",
    "---\n",
    "\n",
    "### Exercise 6:\n",
    "Replace the word `\"dog\"` with `\"cat\"` in the string `\"The quick brown dog jumps over the lazy dog.\"`.\n",
    "\n",
    "```python\n",
    "# Exercise 6\n",
    "```\n",
    "\n",
    "---\n",
    "\n",
    "### Exercise 7:\n",
    "Split the string `\"apple,banana,orange\"` by commas and store the result in a list `fruits_list`.\n",
    "\n",
    "```python\n",
    "# Exercise 7\n",
    "```\n",
    "\n",
    "---\n",
    "\n",
    "### Exercise 8:\n",
    "Use string formatting to create the sentence `\"My name is Alice and I am 25 years old.\"`, where the name and age are variables.\n",
    "\n",
    "```python\n",
    "# Exercise 8\n",
    "```\n",
    "\n",
    "---\n",
    "\n",
    "### Exercise 9:\n",
    "Check if the string `\"python\"` is present in the sentence `\"I love python programming\"`.\n",
    "\n",
    "```python\n",
    "# Exercise 9\n",
    "```\n",
    "\n",
    "---\n",
    "\n",
    "### Exercise 10:\n",
    "Count the number of occurrences of the letter `\"e\"` in the string `\"Elephant is an elegant animal\"`.\n",
    "\n",
    "```python\n",
    "# Exercise 10\n",
    "```\n",
    "\n",
    "---\n",
    "\n",
    "### Exercise 11:\n",
    "Remove any leading and trailing spaces from the string `\"   Data Science   \"`.\n",
    "\n",
    "```python\n",
    "# Exercise 11\n",
    "```\n",
    "\n",
    "---\n",
    "\n",
    "### Exercise 12:\n",
    "Convert the string `\"100\"` into an integer and store it in a variable `int_value`.\n",
    "\n",
    "```python\n",
    "# Exercise 12\n",
    "```\n",
    "\n",
    "---\n",
    "\n",
    "### Exercise 13:\n",
    "Extract the substring `\"pro\"` from the string `\"programming\"`.\n",
    "\n",
    "```python\n",
    "# Exercise 13\n",
    "```\n",
    "\n",
    "---\n",
    "\n",
    "### Exercise 14:\n",
    "Check if the string `\"data\"` starts with `\"da\"` and ends with `\"ta\"`.\n",
    "\n",
    "```python\n",
    "# Exercise 14\n",
    "```\n",
    "\n",
    "---\n",
    "\n",
    "### Exercise 15:\n",
    "Reverse the string `\"machine learning\"` and store the result in `reversed_text`.\n",
    "\n",
    "```python\n",
    "# Exercise 15\n",
    "```\n",
    "\n",
    "---\n",
    "\n",
    "### Exercise 16:\n",
    "Convert the first letter of each word in the string `\"machine learning is fun\"` to uppercase.\n",
    "\n",
    "```python\n",
    "# Exercise 16\n",
    "```\n",
    "\n",
    "---\n",
    "\n",
    "### Exercise 17:\n",
    "Create a multiline string representing a poem and store it in a variable `poem`.\n",
    "\n",
    "```python\n",
    "# Exercise 17\n",
    "```\n",
    "\n",
    "---\n",
    "\n",
    "### Exercise 18:\n",
    "Write a string to a file named `\"output.txt\"`.\n",
    "\n",
    "```python\n",
    "# Exercise 18\n",
    "```\n",
    "\n",
    "---\n",
    "\n",
    "### Exercise 19:\n",
    "Read the contents of a file named `\"data.txt\"` and print it line by line.\n",
    "\n",
    "```python\n",
    "# Exercise 19\n",
    "```\n",
    "\n",
    "---\n",
    "\n",
    "### Exercise 20:\n",
    "Check if a file `\"example.txt\"` exists before opening it.\n",
    "\n",
    "```python\n",
    "# Exercise 20\n",
    "```\n",
    "\n",
    "---\n",
    "\n",
    "### Exercise 21:\n",
    "Append a new line `\"This is a new line\"` to an existing file `\"notes.txt\"`.\n",
    "\n",
    "```python\n",
    "# Exercise 21\n",
    "```\n",
    "\n",
    "---\n",
    "\n",
    "### Exercise 22:\n",
    "Read the contents of a file `\"log.txt\"` and store each line in a list `log_lines`.\n",
    "\n",
    "```python\n",
    "# Exercise 22\n",
    "```\n",
    "\n",
    "---\n",
    "\n",
    "### Exercise 23:\n",
    "Create a new file `\"report.txt\"` and write the string `\"Data analysis report\"` to it.\n",
    "\n",
    "```python\n",
    "# Exercise 23\n",
    "```\n",
    "\n",
    "---\n",
    "\n",
    "### Exercise 24:\n",
    "Replace the word `\"error\"` with `\"issue\"` in a file `\"log.txt\"`.\n",
    "\n",
    "```python\n",
    "# Exercise 24\n",
    "```\n",
    "\n",
    "---\n",
    "\n",
    "### Exercise 25:\n",
    "Count the number of words in a text file `\"document.txt\"`.\n",
    "\n",
    "```python\n",
    "# Exercise 25\n",
    "```\n",
    "\n",
    "---\n",
    "\n",
    "### Exercise 26:\n",
    "Write a Python script that reads a file `\"essay.txt\"` and prints the total number of lines, words, and characters.\n",
    "\n",
    "```python\n",
    "# Exercise 26\n",
    "```\n",
    "\n",
    "---\n",
    "\n",
    "### Exercise 27:\n",
    "Copy the contents of one file `\"source.txt\"` to another file `\"destination.txt\"`.\n",
    "\n",
    "```python\n",
    "# Exercise 27\n",
    "```\n",
    "\n",
    "---\n",
    "\n",
    "### Exercise 28:\n",
    "Write a Python function that takes a filename as input and returns the number of lines in the file.\n",
    "\n",
    "```python\n",
    "# Exercise 28\n",
    "```\n",
    "\n",
    "---\n",
    "\n",
    "### Exercise 29:\n",
    "Extract all the words from a text file `\"article.txt\"` that contain more than 5 characters.\n",
    "\n",
    "```python\n",
    "# Exercise 29\n",
    "```\n",
    "\n",
    "---\n",
    "\n",
    "### Exercise 30:\n",
    "Convert the contents of a file `\"notes.txt\"` to uppercase and save the result in another file `\"uppercase_notes.txt\"`.\n",
    "\n",
    "```python\n",
    "# Exercise 30\n",
    "```\n",
    "\n",
    "---\n",
    "\n",
    "### Exercise 31:\n",
    "Write a Python script that reads a file and removes all empty lines.\n",
    "\n",
    "```python\n",
    "# Exercise 31\n",
    "```\n",
    "\n",
    "---\n",
    "\n",
    "### Exercise 32:\n",
    "Open a file `\"config.txt\"` in both read and write mode.\n",
    "\n",
    "```python\n",
    "# Exercise 32\n",
    "```\n",
    "\n",
    "---\n",
    "\n",
    "### Exercise 33:\n",
    "Write a Python function that reads a file and prints the longest line in the file.\n",
    "\n",
    "```python\n",
    "# Exercise 33\n",
    "```\n",
    "\n",
    "---\n",
    "\n",
    "### Exercise 34:\n",
    "Write a Python script to count the frequency of each letter in a text file `\"message.txt\"`.\n",
    "\n",
    "```python\n",
    "# Exercise 34\n",
    "```\n",
    "\n",
    "---\n",
    "\n",
    "### Exercise 35:\n",
    "Write a Python script that reads a file and prints the total number of characters, excluding spaces.\n",
    "\n",
    "```python\n",
    "# Exercise 35\n",
    "```\n",
    "\n",
    "---\n",
    "\n",
    "### Exercise 36:\n",
    "Create a Python script to check whether a file is empty or not.\n",
    "\n",
    "```python\n",
    "# Exercise 36\n",
    "```\n",
    "\n",
    "---\n",
    "\n",
    "### Exercise 37:\n",
    "Write a Python function that reads a file and removes all punctuation marks from the text.\n",
    "\n",
    "```python\n",
    "# Exercise 37\n",
    "```\n",
    "\n",
    "---\n",
    "\n",
    "### Exercise 38:\n",
    "Create a Python function that writes a list of strings to a file, each string on a new line.\n",
    "\n",
    "```python\n",
    "# Exercise 38\n",
    "```\n",
    "\n",
    "---\n",
    "\n",
    "### Exercise 39:\n",
    "Write a Python script to count the number of lines that start with a specific letter (e.g., \"A\") in a text file.\n",
    "\n",
    "```python\n",
    "# Exercise 39\n",
    "```\n",
    "\n",
    "---\n",
    "\n",
    "### Exercise 40:\n",
    "Write a Python function that takes a string as input and writes it to a file `\"output.txt\"` in reverse order.\n",
    "\n",
    "```python\n",
    "# Exercise 40\n",
    "```\n",
    "\n",
    "---\n",
    "\n",
    "### Exercise 41:\n",
    "Write a Python script that reads a file and prints all the lines that contain the word `\"Python\"`.\n",
    "\n",
    "```python\n",
    "# Exercise 41\n",
    "```\n",
    "\n",
    "---\n",
    "\n",
    "### Exercise 42:\n",
    "Write a Python script that opens a file and removes all numeric digits from the file's content.\n",
    "\n",
    "```python\n",
    "# Exercise 42\n",
    "```\n",
    "\n",
    "---\n",
    "\n",
    "### Exercise 43:\n",
    "Write a Python script to find the most frequent word in a text file `\"book.txt\"`.\n",
    "\n",
    "```python\n",
    "# Exercise 43\n",
    "```\n",
    "\n",
    "---\n",
    "\n",
    "### Exercise 44:\n",
    "Write a Python script that reads a file and prints all the lines that contain exactly 5 words.\n",
    "\n",
    "```python\n",
    "# Exercise 44\n",
    "```\n",
    "\n",
    "---\n",
    "\n",
    "### Exercise 45:\n",
    "Write a Python script to read a file and print the first and last line of the file.\n",
    "\n",
    "```python\n",
    "# Exercise 45\n",
    "```\n",
    "\n",
    "---\n",
    "\n",
    "### Exercise 46:\n",
    "Write a Python script that checks if a file `\"students.txt\"` is writable.\n",
    "\n",
    "```python\n",
    "# Exercise 46\n",
    "```\n",
    "\n",
    "---\n",
    "\n",
    "### Exercise 47:\n",
    "Create a Python function that opens a file and returns the number of unique words in the file.\n",
    "\n",
    "```python\n",
    "# Exercise 47\n",
    "```\n",
    "\n",
    "---\n",
    "\n",
    "### Exercise 48:\n",
    "Write a Python script that reads a file and prints all lines in reverse order.\n",
    "\n",
    "```python\n",
    "# Exercise 48\n",
    "```\n",
    "\n",
    "---\n",
    "\n",
    "### Exercise 49:\n",
    "Write a Python function that reads a file and returns the most common letter in the text.\n",
    "\n",
    "```python\n",
    "# Exercise 49\n",
    "```\n",
    "\n",
    "---\n",
    "\n",
    "### Exercise 50:\n",
    "Write a Python script that reads a file and replaces every occurrence of `\"Python\"` with `\"Java\"`.\n",
    "\n",
    "```python\n",
    "# Exercise 50\n",
    "```\n",
    "\n",
    "---\n",
    "\n"
   ]
  },
  {
   "cell_type": "markdown",
   "id": "fec26346-9936-4939-89c7-95a0615ca0ed",
   "metadata": {},
   "source": [
    "# Practical_2: String and files answer"
   ]
  },
  {
   "cell_type": "markdown",
   "id": "bd56fcf2-f515-44b8-b433-c6c0e9257091",
   "metadata": {},
   "source": [
    "# EXERCISE 1"
   ]
  },
  {
   "cell_type": "code",
   "execution_count": 2,
   "id": "4f787a49-ae76-4246-b2d4-2e50def5958a",
   "metadata": {},
   "outputs": [
    {
     "name": "stdout",
     "output_type": "stream",
     "text": [
      "python is amazing\n"
     ]
    }
   ],
   "source": [
    "#Create a string variable text and assign it the value \"Python is amazing!\".\n",
    "text = \"python is amazing\"\n",
    "print(text)"
   ]
  },
  {
   "cell_type": "markdown",
   "id": "a78dccaf-0db3-4574-8f7f-ab6a8fef617c",
   "metadata": {},
   "source": [
    "# EXERCISE 2"
   ]
  },
  {
   "cell_type": "code",
   "execution_count": 3,
   "id": "06de1dd5-b238-4bd7-bdc1-1ef9dca9eebd",
   "metadata": {},
   "outputs": [
    {
     "name": "stdout",
     "output_type": "stream",
     "text": [
      "13\n"
     ]
    }
   ],
   "source": [
    "#Find the length of the string \"Hello, World!\" and store it in a variable length.\n",
    "length = \"Hello, World!\"\n",
    "print(len(length))"
   ]
  },
  {
   "cell_type": "markdown",
   "id": "fed8e79f-f415-4e68-87e5-2f7b008b0c79",
   "metadata": {},
   "source": [
    "# EXERCISE 3"
   ]
  },
  {
   "cell_type": "code",
   "execution_count": 4,
   "id": "083ede55-71da-4b94-82e3-6974a2f1b79f",
   "metadata": {},
   "outputs": [
    {
     "name": "stdout",
     "output_type": "stream",
     "text": [
      "PYTHON PROGRAMMING\n"
     ]
    }
   ],
   "source": [
    "#Convert the string \"python programming\" to uppercase and store it in a variable upper_text.\n",
    "upper_text = \"python programming\"\n",
    "print(upper_text.upper())"
   ]
  },
  {
   "cell_type": "markdown",
   "id": "1a8bcee2-810d-4395-9bc7-246255dda563",
   "metadata": {},
   "source": [
    "# EXERCISE 4"
   ]
  },
  {
   "cell_type": "code",
   "execution_count": 8,
   "id": "98f7326b-5461-49a4-a8b8-8f5468706560",
   "metadata": {},
   "outputs": [
    {
     "name": "stdout",
     "output_type": "stream",
     "text": [
      "Artif\n"
     ]
    }
   ],
   "source": [
    "#Extract the first 5 characters from the string \"Artificial Intelligence\".\n",
    "ch = \"Artificial Intelligence\"\n",
    "print(ch[:5])"
   ]
  },
  {
   "cell_type": "markdown",
   "id": "be9559d0-e5d2-4036-82ec-4c677b4fe22a",
   "metadata": {},
   "source": [
    "# EXERCISE 5"
   ]
  },
  {
   "cell_type": "code",
   "execution_count": 12,
   "id": "f86427e8-5ce9-456f-be9c-54734aa45097",
   "metadata": {},
   "outputs": [
    {
     "name": "stdout",
     "output_type": "stream",
     "text": [
      "Hello World\n"
     ]
    }
   ],
   "source": [
    "#Concatenate the strings \"Hello\" and \"World\" with a space in between.\n",
    "str1 =\"Hello\"\n",
    "str2 = \"World\"\n",
    "result = str1 + \" \" + str2\n",
    "print(result)"
   ]
  },
  {
   "cell_type": "markdown",
   "id": "7f33e5cb-20bb-414b-819c-639894a4b0bf",
   "metadata": {},
   "source": [
    "# EXERCISE 6"
   ]
  },
  {
   "cell_type": "code",
   "execution_count": 13,
   "id": "dbcbbde0-bae6-4a6a-b009-416e76b0e463",
   "metadata": {},
   "outputs": [
    {
     "name": "stdout",
     "output_type": "stream",
     "text": [
      "The quick brown cat jumps over the lazy cat.\n"
     ]
    }
   ],
   "source": [
    "#Replace the word \"dog\" with \"cat\" in the string \"The quick brown dog jumps over the lazy dog.\".\n",
    "text = \"The quick brown dog jumps over the lazy dog.\"\n",
    "new_text = text.replace(\"dog\", \"cat\")\n",
    "print(new_text)\n"
   ]
  },
  {
   "cell_type": "markdown",
   "id": "26b691aa-5b55-46c8-8beb-65168098aa34",
   "metadata": {},
   "source": [
    "# EXERCISE 7"
   ]
  },
  {
   "cell_type": "code",
   "execution_count": 14,
   "id": "9044fa93-6582-410b-918c-0aac0018e6ab",
   "metadata": {},
   "outputs": [
    {
     "name": "stdout",
     "output_type": "stream",
     "text": [
      "['apple,banana,ornge']\n"
     ]
    }
   ],
   "source": [
    "#Split the string \"apple,banana,orange\" by commas and store the result in a list fruits_list.\n",
    "txt = \"apple,banana,ornge\"\n",
    "fruits_list = txt.split()\n",
    "print(fruits_list)"
   ]
  },
  {
   "cell_type": "markdown",
   "id": "2be817d1-1493-4ee4-aa37-5b2d2c5dec3c",
   "metadata": {},
   "source": [
    "# EXERCISE 8"
   ]
  },
  {
   "cell_type": "code",
   "execution_count": 19,
   "id": "3183c415-7efe-4a49-890f-1bf14dd6f111",
   "metadata": {},
   "outputs": [
    {
     "name": "stdout",
     "output_type": "stream",
     "text": [
      "My name is Alice and I am 25 years old.\n"
     ]
    }
   ],
   "source": [
    "#Use string formatting to create the sentence \"My name is Alice and I am 25 years old.\", where the name and age are variables.\n",
    "name = \"Alice\"\n",
    "age = 25\n",
    "sentence = f\"My name is {name} and I am {age} years old.\"\n",
    "print(sentence)\n"
   ]
  },
  {
   "cell_type": "markdown",
   "id": "076558b4-fcc1-4092-a73c-39039ddb93c8",
   "metadata": {},
   "source": [
    "# EXERCISE 9"
   ]
  },
  {
   "cell_type": "code",
   "execution_count": 21,
   "id": "ba299fdc-befa-46ad-885b-8af46364e94e",
   "metadata": {},
   "outputs": [
    {
     "name": "stdout",
     "output_type": "stream",
     "text": [
      "True\n"
     ]
    }
   ],
   "source": [
    "#Check if the string \"python\" is present in the sentence \"I love python programming\".\n",
    "sentence = \"I love python programming\"\n",
    "is_present = \"python\" in sentence\n",
    "print(is_present)"
   ]
  },
  {
   "cell_type": "markdown",
   "id": "1c7f9c3b-6655-485c-9b67-fa119ae0a85d",
   "metadata": {},
   "source": [
    "# EXERCISE 10"
   ]
  },
  {
   "cell_type": "code",
   "execution_count": 23,
   "id": "1f795c3a-54e8-48c2-b34f-0e02cffe5e26",
   "metadata": {},
   "outputs": [
    {
     "name": "stdout",
     "output_type": "stream",
     "text": [
      "4\n"
     ]
    }
   ],
   "source": [
    "#Count the number of occurrences of the letter \"e\" in the string \"Elephant is an elegant animal\".\n",
    "text = \"Elephant is an elegant animal\"\n",
    "count_e = text.lower().count(\"e\")\n",
    "print(count_e)"
   ]
  },
  {
   "cell_type": "markdown",
   "id": "ba469835-0f20-44ad-966e-ae6f57492d65",
   "metadata": {},
   "source": [
    "# EXERCISE 11"
   ]
  },
  {
   "cell_type": "code",
   "execution_count": 1,
   "id": "0a939b86-6543-4c14-8983-d26d3b4fa596",
   "metadata": {},
   "outputs": [
    {
     "name": "stdout",
     "output_type": "stream",
     "text": [
      "Data Science\n"
     ]
    }
   ],
   "source": [
    "#Remove any leading and trailing spaces from the string \"   Data Science   \".\n",
    "text = \"   Data Science   \"\n",
    "cleaned_text = text.strip()\n",
    "print(cleaned_text)\n"
   ]
  },
  {
   "cell_type": "markdown",
   "id": "9442bd7e-6aad-4316-8f3b-733900aae518",
   "metadata": {},
   "source": [
    "# EXERCISE 12"
   ]
  },
  {
   "cell_type": "code",
   "execution_count": 2,
   "id": "caa5e1d7-1501-4774-a00c-6134ad70fb61",
   "metadata": {},
   "outputs": [
    {
     "name": "stdout",
     "output_type": "stream",
     "text": [
      "100\n"
     ]
    }
   ],
   "source": [
    "#Convert the string \"100\" into an integer and store it in a variable int_value.\n",
    "int_value = int(\"100\")\n",
    "print(int_value)\n"
   ]
  },
  {
   "cell_type": "markdown",
   "id": "80096264-9510-436b-9a96-9f4cd13fe641",
   "metadata": {},
   "source": [
    "# EXERCISE 13"
   ]
  },
  {
   "cell_type": "code",
   "execution_count": 3,
   "id": "960cb1ae-4bb6-4707-b63d-cedb4f87dca1",
   "metadata": {},
   "outputs": [
    {
     "name": "stdout",
     "output_type": "stream",
     "text": [
      "pro\n"
     ]
    }
   ],
   "source": [
    "#Extract the substring \"pro\" from the string \"programming\".\n",
    "text = \"programming\"\n",
    "substring = text[:3]  \n",
    "print(substring)\n"
   ]
  },
  {
   "cell_type": "markdown",
   "id": "3d954f07-3521-4131-93b1-5f17ffa9ab0b",
   "metadata": {},
   "source": [
    "# EXERCISE 14"
   ]
  },
  {
   "cell_type": "code",
   "execution_count": 4,
   "id": "b88ba5c2-9a75-4d21-95c0-7d7c52011e4f",
   "metadata": {},
   "outputs": [
    {
     "name": "stdout",
     "output_type": "stream",
     "text": [
      "True\n",
      "True\n"
     ]
    }
   ],
   "source": [
    "#Check if the string \"data\" starts with \"da\" and ends with \"ta\"\n",
    "text = \"data\"\n",
    "\n",
    "starts_with_da = text.startswith(\"da\")\n",
    "ends_with_ta = text.endswith(\"ta\")\n",
    "\n",
    "print (starts_with_da)\n",
    "print(ends_with_ta)\n"
   ]
  },
  {
   "cell_type": "markdown",
   "id": "ad056ca1-a1c2-4b2b-b3ec-3c24fd6f4875",
   "metadata": {},
   "source": [
    "# EXERCISE 15"
   ]
  },
  {
   "cell_type": "code",
   "execution_count": 5,
   "id": "848f05a8-0dd8-4195-adb0-6f937d516e9c",
   "metadata": {},
   "outputs": [
    {
     "name": "stdout",
     "output_type": "stream",
     "text": [
      "gninrael enihcam\n"
     ]
    }
   ],
   "source": [
    "#Reverse the string \"machine learning\" and store the result in reversed_text.\n",
    "text = \"machine learning\"\n",
    "reversed_text = text[::-1]\n",
    "print(reversed_text)\n"
   ]
  },
  {
   "cell_type": "markdown",
   "id": "6d3f0758-c3c3-484a-aeec-04c1bc914db3",
   "metadata": {},
   "source": [
    "# EXERCISE 16"
   ]
  },
  {
   "cell_type": "code",
   "execution_count": 6,
   "id": "13b4a0f9-aa95-44df-a116-30120ec41b51",
   "metadata": {},
   "outputs": [
    {
     "name": "stdout",
     "output_type": "stream",
     "text": [
      "Machine Learning Is Fun\n"
     ]
    }
   ],
   "source": [
    "#Convert the first letter of each word in the string \"machine learning is fun\" to uppercase.\n",
    "text = \"machine learning is fun\"\n",
    "cap = text.title()\n",
    "print(cap)\n"
   ]
  },
  {
   "cell_type": "markdown",
   "id": "68d1b03b-f872-4405-b703-5f8f13edc5e2",
   "metadata": {},
   "source": [
    "# EXERCISE 17"
   ]
  },
  {
   "cell_type": "code",
   "execution_count": 8,
   "id": "3fd2791f-1c3a-47a1-b757-253c17a14ec5",
   "metadata": {},
   "outputs": [
    {
     "name": "stdout",
     "output_type": "stream",
     "text": [
      "The sun sets low beyond the hill,\n",
      "Its golden rays now soft and still.\n",
      "The breeze it hums a gentle tune,\n",
      "Beneath the rising silver moon.\n",
      "\n",
      "The stars emerge, a scattered light,\n",
      "To grace the canvas of the night.\n",
      "And in this calm, my thoughts take flight,\n",
      "To dreams that linger out of sight.\n"
     ]
    }
   ],
   "source": [
    "#Create a multiline string representing a poem and store it in a variable poem.\n",
    "poem = \"\"\"\\\n",
    "The sun sets low beyond the hill,\n",
    "Its golden rays now soft and still.\n",
    "The breeze it hums a gentle tune,\n",
    "Beneath the rising silver moon.\n",
    "\n",
    "The stars emerge, a scattered light,\n",
    "To grace the canvas of the night.\n",
    "And in this calm, my thoughts take flight,\n",
    "To dreams that linger out of sight.\"\"\"\n",
    "print(poem)"
   ]
  },
  {
   "cell_type": "markdown",
   "id": "f8221b45-cf3a-4f99-99ce-3dda37df0f60",
   "metadata": {},
   "source": [
    "# EXERCISE 18"
   ]
  },
  {
   "cell_type": "code",
   "execution_count": 23,
   "id": "7534d6cc-f6ca-4efc-b34c-987a2e6a678c",
   "metadata": {},
   "outputs": [
    {
     "name": "stdout",
     "output_type": "stream",
     "text": [
      "File has been written!\n"
     ]
    }
   ],
   "source": [
    "#Write a string to a file named \"output.txt\".\n",
    "text = \"This is the content to be written to the file.\"\n",
    "\n",
    "with open(\"C:\\\\Users\\\\Tasha\\\\Desktop\\\\TekHer-Python-Basics\\\\data\\\\output.txt\", \"w\") as file:\n",
    "    file.write(text)\n",
    "print(\"File has been written!\")"
   ]
  },
  {
   "cell_type": "markdown",
   "id": "bf6c72a4-ff54-4c06-a9de-64f54497f89f",
   "metadata": {},
   "source": [
    "# EXERCISE 19"
   ]
  },
  {
   "cell_type": "code",
   "execution_count": 18,
   "id": "35ac8310-79ca-4b56-b7d0-7c5adbf4ed5d",
   "metadata": {},
   "outputs": [
    {
     "name": "stdout",
     "output_type": "stream",
     "text": [
      "Name,Age,Score\n",
      "Alice,23,85\n",
      "Bob,30,90\n",
      "Charlie,25,88\n"
     ]
    }
   ],
   "source": [
    "#Read the contents of a file named \"data.txt\" and print it line by line.\n",
    "# Open the file in read mode\n",
    "with open(\"C:\\\\Users\\\\Tasha\\\\Desktop\\\\TekHer-Python-Basics\\\\data\\\\data.txt\", \"r\") as file:\n",
    "    # Read and print each line one by one\n",
    "    for line in file:\n",
    "        print(line.strip())\n",
    "\n"
   ]
  },
  {
   "cell_type": "markdown",
   "id": "5411fdc1-d57f-4c7f-a7e6-b42672c0fe52",
   "metadata": {},
   "source": [
    "# EXERCISE 20"
   ]
  },
  {
   "cell_type": "code",
   "execution_count": 22,
   "id": "98533b18-baf3-4b78-8bf0-9232fb6939c4",
   "metadata": {},
   "outputs": [
    {
     "name": "stdout",
     "output_type": "stream",
     "text": [
      "File exists.\n"
     ]
    }
   ],
   "source": [
    "#Check if a file \"example.txt\" exists before opening it.\n",
    "import os\n",
    "\n",
    "if os.path.exists(\"C:\\\\Users\\\\Tasha\\\\Desktop\\\\TekHer-Python-Basics\\\\data\\\\example.txt\"):\n",
    "    print(\"File exists.\")\n",
    "else:\n",
    "    print(\"File does not exist.\")\n"
   ]
  },
  {
   "cell_type": "markdown",
   "id": "dcc1e83a-7605-4980-9e07-af711960e666",
   "metadata": {},
   "source": [
    "# EXERCISE 21"
   ]
  },
  {
   "cell_type": "code",
   "execution_count": null,
   "id": "0a9711cc-ffcc-4dd9-9f32-2f0c4f6ee794",
   "metadata": {},
   "outputs": [],
   "source": [
    "#Append a new line \"This is a new line\" to an existing file \"notes.txt\".\n",
    "with open(\"notes.txt\", \"a\") as file:\n",
    "    file.write(\"This is a new line\\n\")\n"
   ]
  },
  {
   "cell_type": "markdown",
   "id": "75fc58dc-2250-415a-9017-6d4c4419d8da",
   "metadata": {},
   "source": [
    "# EXERCISE 22"
   ]
  },
  {
   "cell_type": "code",
   "execution_count": null,
   "id": "242b3a2c-0d01-488e-8544-acdabf279802",
   "metadata": {},
   "outputs": [],
   "source": [
    "Read the contents of a file \"log.txt\" and store each line in a list log_lines."
   ]
  },
  {
   "cell_type": "markdown",
   "id": "b0c47c85-a24b-4b2f-bcba-91c262a0d900",
   "metadata": {},
   "source": [
    "# EXERCISE 23"
   ]
  },
  {
   "cell_type": "code",
   "execution_count": null,
   "id": "2f27c893-ff02-45c8-b0e7-d47df2732323",
   "metadata": {},
   "outputs": [],
   "source": [
    "Create a new file \"report.txt\" and write the string \"Data analysis report\" to it."
   ]
  },
  {
   "cell_type": "markdown",
   "id": "90233e55-e1bd-4f6d-9b1d-ea3dbf8f46dd",
   "metadata": {},
   "source": [
    "# EXERCISE 24"
   ]
  },
  {
   "cell_type": "code",
   "execution_count": null,
   "id": "6b305d33-41be-40c1-b60a-dae1e6f9483d",
   "metadata": {},
   "outputs": [],
   "source": [
    "Replace the word \"error\" with \"issue\" in a file \"log.txt\"."
   ]
  },
  {
   "cell_type": "markdown",
   "id": "dce07c3f-2a13-44bd-8373-0c226ca51c18",
   "metadata": {},
   "source": [
    "# EXERCISE 25"
   ]
  },
  {
   "cell_type": "code",
   "execution_count": null,
   "id": "e1965dbb-a4e2-46bf-9548-5d67af13d41a",
   "metadata": {},
   "outputs": [],
   "source": [
    "Count the number of words in a text file \"document.txt\"."
   ]
  },
  {
   "cell_type": "markdown",
   "id": "8ad6ac75-2d8b-413d-ad58-435cedc6e8ef",
   "metadata": {},
   "source": [
    "# EXERCISE 26"
   ]
  },
  {
   "cell_type": "code",
   "execution_count": null,
   "id": "735ac11e-6eb3-4a24-89f7-c3d63d881b28",
   "metadata": {},
   "outputs": [],
   "source": [
    "Write a Python script that reads a file \"essay.txt\" and prints the total number of lines, words, and characters."
   ]
  },
  {
   "cell_type": "markdown",
   "id": "4699d798-9283-4ea2-8299-2ac962e9a4d2",
   "metadata": {},
   "source": [
    "# EXERCISE 27"
   ]
  },
  {
   "cell_type": "code",
   "execution_count": null,
   "id": "95a8a366-c859-4622-a2d6-b9f63e5a59da",
   "metadata": {},
   "outputs": [],
   "source": [
    "Copy the contents of one file \"source.txt\" to another file \"destination.txt\"."
   ]
  },
  {
   "cell_type": "markdown",
   "id": "adb5abbb-8f74-44c1-88d1-7f02e1bdb839",
   "metadata": {},
   "source": [
    "# EXERCISE 28"
   ]
  },
  {
   "cell_type": "code",
   "execution_count": null,
   "id": "c839cdd1-4442-4db4-b92b-4ebb5ddcd715",
   "metadata": {},
   "outputs": [],
   "source": [
    "Write a Python function that takes a filename as input and returns the number of lines in the file."
   ]
  },
  {
   "cell_type": "markdown",
   "id": "c766a365-f7d1-4ecf-ac81-764e904a0842",
   "metadata": {},
   "source": [
    "# EXERCISE 29"
   ]
  },
  {
   "cell_type": "code",
   "execution_count": null,
   "id": "118d4047-7533-473a-b43b-ce0b4c8e6f54",
   "metadata": {},
   "outputs": [],
   "source": [
    "Extract all the words from a text file \"article.txt\" that contain more than 5 characters."
   ]
  },
  {
   "cell_type": "markdown",
   "id": "983a29e1-9786-4016-b9a3-b20a426f4b9f",
   "metadata": {},
   "source": [
    "# EXERCISE 30"
   ]
  },
  {
   "cell_type": "code",
   "execution_count": null,
   "id": "d18f0925-aa6c-41a3-86db-c04ab851dfe4",
   "metadata": {},
   "outputs": [],
   "source": [
    "Convert the contents of a file \"notes.txt\" to uppercase and save the result in another file \"uppercase_notes.txt\"."
   ]
  },
  {
   "cell_type": "markdown",
   "id": "5df9ee05-206a-41b2-a7e4-5507180819a3",
   "metadata": {},
   "source": [
    "# EXERCISE 31"
   ]
  },
  {
   "cell_type": "code",
   "execution_count": null,
   "id": "654f64fd-215a-41d9-a2f1-670f6fce7a87",
   "metadata": {},
   "outputs": [],
   "source": [
    "Write a Python script that reads a file and removes all empty lines."
   ]
  },
  {
   "cell_type": "markdown",
   "id": "2cb084ba-0e3c-41ce-a3a3-be4db97a1a49",
   "metadata": {},
   "source": [
    "# EXERCISE 32"
   ]
  },
  {
   "cell_type": "code",
   "execution_count": null,
   "id": "f6734802-b3e9-44f7-9f3c-fea8d3232b10",
   "metadata": {},
   "outputs": [],
   "source": [
    "Open a file \"config.txt\" in both read and write mode."
   ]
  },
  {
   "cell_type": "markdown",
   "id": "55defbeb-d28d-4ab2-9a6c-a52fcca4b489",
   "metadata": {},
   "source": [
    "# EXERCISE 33"
   ]
  },
  {
   "cell_type": "code",
   "execution_count": null,
   "id": "3de96297-48a0-4297-8968-faed2356eb88",
   "metadata": {},
   "outputs": [],
   "source": [
    "Write a Python function that reads a file and prints the longest line in the file."
   ]
  },
  {
   "cell_type": "markdown",
   "id": "f3743d7a-f07d-4a03-92ec-2a988047d554",
   "metadata": {},
   "source": [
    "# EXERCISE 34"
   ]
  },
  {
   "cell_type": "code",
   "execution_count": null,
   "id": "d18f83bc-2f72-4b86-81d8-2e027684de18",
   "metadata": {},
   "outputs": [],
   "source": [
    "Write a Python script to count the frequency of each letter in a text file \"message.txt\"."
   ]
  },
  {
   "cell_type": "markdown",
   "id": "b2a4b91c-9bf9-4a60-acd7-0656357b5401",
   "metadata": {},
   "source": [
    "# EXERCISE 35"
   ]
  },
  {
   "cell_type": "code",
   "execution_count": null,
   "id": "c36f9fae-6698-4c37-a2f4-450c99907e41",
   "metadata": {},
   "outputs": [],
   "source": [
    "Write a Python script that reads a file and prints the total number of characters, excluding spaces."
   ]
  },
  {
   "cell_type": "markdown",
   "id": "864b4416-61f8-4396-8c09-ad426ced7332",
   "metadata": {},
   "source": [
    "# EXERCISE 36"
   ]
  },
  {
   "cell_type": "code",
   "execution_count": null,
   "id": "cb5bfd15-f698-418b-86c4-f9262df2a5d1",
   "metadata": {},
   "outputs": [],
   "source": [
    "Create a Python script to check whether a file is empty or not."
   ]
  },
  {
   "cell_type": "markdown",
   "id": "2d599027-43a0-401e-b203-5cd5d23af62e",
   "metadata": {},
   "source": [
    "# EXERCISE 37"
   ]
  },
  {
   "cell_type": "code",
   "execution_count": null,
   "id": "9518f6e2-13fc-4946-a6e5-188a293ab255",
   "metadata": {},
   "outputs": [],
   "source": [
    "Write a Python function that reads a file and removes all punctuation marks from the text."
   ]
  },
  {
   "cell_type": "markdown",
   "id": "40f4d396-f018-4fdf-a26f-bda7945e2e8c",
   "metadata": {},
   "source": [
    "# EXERCISE 38"
   ]
  },
  {
   "cell_type": "code",
   "execution_count": null,
   "id": "02ee7660-f8af-43d0-99d2-0a00343c21d7",
   "metadata": {},
   "outputs": [],
   "source": [
    "Create a Python function that writes a list of strings to a file, each string on a new line."
   ]
  },
  {
   "cell_type": "markdown",
   "id": "a5a5ad04-82d1-4b11-8273-d50dd0a66a03",
   "metadata": {},
   "source": [
    "# EXERCISE 39"
   ]
  },
  {
   "cell_type": "code",
   "execution_count": null,
   "id": "4b21e717-f70e-4901-9215-f15c2af7753c",
   "metadata": {},
   "outputs": [],
   "source": [
    "Write a Python script to count the number of lines that start with a specific letter (e.g., \"A\") in a text file."
   ]
  },
  {
   "cell_type": "markdown",
   "id": "19f81d7e-a1fd-43b0-bd9d-eea3cef82554",
   "metadata": {},
   "source": [
    "# EXERCISE 40"
   ]
  },
  {
   "cell_type": "code",
   "execution_count": null,
   "id": "e632c432-3de0-4773-8940-da9d8fc61bfc",
   "metadata": {},
   "outputs": [],
   "source": [
    "Write a Python function that takes a string as input and writes it to a file \"output.txt\" in reverse order."
   ]
  },
  {
   "cell_type": "markdown",
   "id": "5efcf8f5-5ed4-4cd8-aece-12a542936279",
   "metadata": {},
   "source": [
    "# EXERCISE 41"
   ]
  },
  {
   "cell_type": "code",
   "execution_count": null,
   "id": "9aacc79b-c99e-4327-967e-d34ac679e4aa",
   "metadata": {},
   "outputs": [],
   "source": [
    "Write a Python script that reads a file and prints all the lines that contain the word \"Python\"."
   ]
  },
  {
   "cell_type": "markdown",
   "id": "89a1fcea-5512-432d-93e7-6849c0f558b9",
   "metadata": {},
   "source": [
    "# EXERCISE 42"
   ]
  },
  {
   "cell_type": "code",
   "execution_count": null,
   "id": "b397da02-8432-4b68-8e3e-83f6552ea556",
   "metadata": {},
   "outputs": [],
   "source": [
    "Write a Python script that opens a file and removes all numeric digits from the file's content."
   ]
  },
  {
   "cell_type": "markdown",
   "id": "38e1d0c2-38a9-47de-a25d-fd297ca07db9",
   "metadata": {},
   "source": [
    "# EXERCISE 43"
   ]
  },
  {
   "cell_type": "code",
   "execution_count": null,
   "id": "67cd604e-1b91-4444-955e-4c7974a86db7",
   "metadata": {},
   "outputs": [],
   "source": [
    "Write a Python script to find the most frequent word in a text file \"book.txt\"."
   ]
  },
  {
   "cell_type": "markdown",
   "id": "032ee30e-d317-4307-b817-c9001ceec048",
   "metadata": {},
   "source": [
    "# EXERCISE 44"
   ]
  },
  {
   "cell_type": "code",
   "execution_count": null,
   "id": "d68372ee-c51a-4004-b2aa-30784ba532a1",
   "metadata": {},
   "outputs": [],
   "source": [
    "Write a Python script that reads a file and prints all the lines that contain exactly 5 words."
   ]
  },
  {
   "cell_type": "markdown",
   "id": "968587f1-7128-4b7c-9de4-a6816016363d",
   "metadata": {},
   "source": [
    "# EXERCISE 45"
   ]
  },
  {
   "cell_type": "code",
   "execution_count": null,
   "id": "e6b46d3e-c1cd-4763-b54b-00888df9375b",
   "metadata": {},
   "outputs": [],
   "source": [
    "Write a Python script to read a file and print the first and last line of the file."
   ]
  },
  {
   "cell_type": "markdown",
   "id": "b149c702-c05c-447f-8014-55e26b65a056",
   "metadata": {},
   "source": [
    "# EXERCISE 46"
   ]
  },
  {
   "cell_type": "code",
   "execution_count": null,
   "id": "0cee7963-5784-4c78-99b7-0e7df25d89b8",
   "metadata": {},
   "outputs": [],
   "source": [
    "Write a Python script that checks if a file \"students.txt\" is writable."
   ]
  },
  {
   "cell_type": "markdown",
   "id": "ea2544ec-e25c-44d1-b464-07a88de4a610",
   "metadata": {},
   "source": [
    "# EXERCISE 47"
   ]
  },
  {
   "cell_type": "code",
   "execution_count": null,
   "id": "cf07c9f6-f699-433d-b3d1-a16b56bcbfb4",
   "metadata": {},
   "outputs": [],
   "source": [
    "Create a Python function that opens a file and returns the number of unique words in the file."
   ]
  },
  {
   "cell_type": "markdown",
   "id": "bd83c5de-9587-49a4-9137-8000e1798a2d",
   "metadata": {},
   "source": [
    "# EXERCISE 48"
   ]
  },
  {
   "cell_type": "code",
   "execution_count": null,
   "id": "628930a2-e4b1-41b6-b07f-bb61374ed140",
   "metadata": {},
   "outputs": [],
   "source": [
    "Write a Python script that reads a file and prints all lines in reverse order."
   ]
  },
  {
   "cell_type": "markdown",
   "id": "b9fc6ce4-977e-4bf2-98d4-650e52d15923",
   "metadata": {},
   "source": [
    "# EXERCISE 49"
   ]
  },
  {
   "cell_type": "code",
   "execution_count": null,
   "id": "44e51a4a-8524-4e8a-89f7-ecc583f81f4c",
   "metadata": {},
   "outputs": [],
   "source": [
    "Write a Python function that reads a file and returns the most common letter in the text."
   ]
  },
  {
   "cell_type": "markdown",
   "id": "d9d5b672-8052-4fff-a549-14ff6689f22a",
   "metadata": {},
   "source": [
    "# EXERCISE 50"
   ]
  },
  {
   "cell_type": "code",
   "execution_count": null,
   "id": "d77efa8c-5922-4ea1-af3e-a9df9f48608e",
   "metadata": {},
   "outputs": [],
   "source": [
    "Write a Python script that reads a file and replaces every occurrence of \"Python\" with \"Java\"."
   ]
  }
 ],
 "metadata": {
  "kernelspec": {
   "display_name": "Python 3 (ipykernel)",
   "language": "python",
   "name": "python3"
  },
  "language_info": {
   "codemirror_mode": {
    "name": "ipython",
    "version": 3
   },
   "file_extension": ".py",
   "mimetype": "text/x-python",
   "name": "python",
   "nbconvert_exporter": "python",
   "pygments_lexer": "ipython3",
   "version": "3.11.7"
  },
  "widgets": {
   "application/vnd.jupyter.widget-state+json": {
    "state": {},
    "version_major": 2,
    "version_minor": 0
   }
  }
 },
 "nbformat": 4,
 "nbformat_minor": 5
}
